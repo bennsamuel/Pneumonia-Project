{
  "nbformat": 4,
  "nbformat_minor": 0,
  "metadata": {
    "colab": {
      "name": "parameter_augment_data.ipynb",
      "provenance": [],
      "collapsed_sections": [],
      "toc_visible": true,
      "include_colab_link": true
    },
    "kernelspec": {
      "name": "python3",
      "display_name": "Python 3"
    }
  },
  "cells": [
    {
      "cell_type": "markdown",
      "metadata": {
        "id": "view-in-github",
        "colab_type": "text"
      },
      "source": [
        "<a href=\"https://colab.research.google.com/github/bennsamuel/Pneumonia-Project/blob/master/parameter_augment_data.ipynb\" target=\"_parent\"><img src=\"https://colab.research.google.com/assets/colab-badge.svg\" alt=\"Open In Colab\"/></a>"
      ]
    },
    {
      "cell_type": "markdown",
      "metadata": {
        "id": "0jpXBoT-2_Fc",
        "colab_type": "text"
      },
      "source": [
        "If you want to enable auto-save.  \n",
        "-> Copy to drive (in navbar) \n",
        "-> creates copy in your google drive. that copy has to be manually commited to github."
      ]
    },
    {
      "cell_type": "markdown",
      "metadata": {
        "id": "mb-vRS8t6l2F",
        "colab_type": "text"
      },
      "source": [
        "CATEGORIES = [\"NORMAL\",\"BACTERIA\", \"VIRUS\"]\n",
        "0, 1, 2"
      ]
    },
    {
      "cell_type": "code",
      "metadata": {
        "id": "FTdoG24J02_p",
        "colab_type": "code",
        "outputId": "59ba6ec4-0db4-417d-e8e7-a6085f29ac44",
        "colab": {
          "base_uri": "https://localhost:8080/",
          "height": 34
        }
      },
      "source": [
        "# Load the Drive helper and mount\n",
        "from google.colab import drive\n",
        "\n",
        "# This will prompt for authorization.\n",
        "drive.mount('/content/drive')"
      ],
      "execution_count": 1,
      "outputs": [
        {
          "output_type": "stream",
          "text": [
            "Drive already mounted at /content/drive; to attempt to forcibly remount, call drive.mount(\"/content/drive\", force_remount=True).\n"
          ],
          "name": "stdout"
        }
      ]
    },
    {
      "cell_type": "code",
      "metadata": {
        "id": "wKIyv1oG1M4O",
        "colab_type": "code",
        "outputId": "890549ae-4cb0-4767-99c0-f8513ff60231",
        "colab": {
          "base_uri": "https://localhost:8080/",
          "height": 34
        }
      },
      "source": [
        "# After executing the cell above, Drive\n",
        "# files will be present in \"/content/drive/My Drive\".\n",
        "!ls \"/content/drive/My Drive/Group 77 - Pneumonia/pickle/\""
      ],
      "execution_count": 2,
      "outputs": [
        {
          "output_type": "stream",
          "text": [
            "data.pickle  test_data.pickle\n"
          ],
          "name": "stdout"
        }
      ]
    },
    {
      "cell_type": "code",
      "metadata": {
        "id": "V5ehlwks1Pjr",
        "colab_type": "code",
        "outputId": "9852fd43-0bbe-44c9-862f-bac1f442140c",
        "colab": {
          "base_uri": "https://localhost:8080/",
          "height": 34
        }
      },
      "source": [
        "IMG_SIZE = 224\n",
        "NUM_CLASSES = 3\n",
        "CATEGORIES = [\"NORMAL\",\"BACTERIA\", \"VIRUS\"]\n",
        "AUG_PATH='aug_images/'\n",
        "\n",
        "%cd /content/"
      ],
      "execution_count": 3,
      "outputs": [
        {
          "output_type": "stream",
          "text": [
            "/content\n"
          ],
          "name": "stdout"
        }
      ]
    },
    {
      "cell_type": "code",
      "metadata": {
        "id": "h_weyb7j1RDz",
        "colab_type": "code",
        "colab": {}
      },
      "source": [
        "#load dataset --> method baseline!\n",
        "import pickle\n",
        "\n",
        "data = pickle.load(open(\"/content/drive/My Drive/Group 77 - Pneumonia/pickle/data.pickle\", \"rb\"))"
      ],
      "execution_count": 0,
      "outputs": []
    },
    {
      "cell_type": "markdown",
      "metadata": {
        "id": "wMW8-viC2yHG",
        "colab_type": "text"
      },
      "source": [
        "np.array.reshape()\n",
        "\n",
        "![alt text](https://www.w3resource.com/w3r_images/numpy-manipulation-reshape-function-image-a.png)"
      ]
    },
    {
      "cell_type": "markdown",
      "metadata": {
        "id": "apNNAFbz6P6q",
        "colab_type": "text"
      },
      "source": [
        "**Data structure**: \n",
        "\n",
        "[[numpy_array([[features]]), label],\n",
        "\n",
        " [numpy_array([[features]]), label],\n",
        "\n",
        " [numpy_array([[features]]), label],\n",
        "\n",
        "...]\n",
        "\n",
        "----------------------------------\n",
        "No y target data because the array would look like: \n",
        "\n",
        "y_normal = [0,0,0,0,0,0...] \n",
        "\n",
        "y_bacteria = [1,1,1,1,1,1...] \n",
        "\n",
        "y_virus = [2,2,2,2,2,2...] \n",
        "\n",
        "add target label add the end. normal=0, bacteria=1, virus=2"
      ]
    },
    {
      "cell_type": "code",
      "metadata": {
        "id": "kFhTCfVy1T5D",
        "colab_type": "code",
        "colab": {}
      },
      "source": [
        "import numpy as np\n",
        "\n",
        "X_normal = []\n",
        "X_bacteria = []\n",
        "X_virus = []\n",
        "y_normal = []\n",
        "y_bacteria = []\n",
        "y_virus = []\n",
        "\n",
        "for features, label in data:\n",
        "    if label == 0:\n",
        "        X_normal.append(features)\n",
        "        y_normal.append(0)\n",
        "    elif label == 1:\n",
        "        X_bacteria.append(features)\n",
        "        y_bacteria.append(1)\n",
        "    elif label == 2:\n",
        "        X_virus.append(features)\n",
        "        y_virus.append(2)\n",
        "    else:\n",
        "        raise Exception('Something went wrong')\n",
        "\n",
        "X_normal = np.array(X_normal).reshape(-1, IMG_SIZE, IMG_SIZE, 1)\n",
        "X_bacteria = np.array(X_bacteria).reshape(-1, IMG_SIZE, IMG_SIZE, 1)\n",
        "X_virus = np.array(X_virus).reshape(-1, IMG_SIZE, IMG_SIZE, 1)"
      ],
      "execution_count": 0,
      "outputs": []
    },
    {
      "cell_type": "markdown",
      "metadata": {
        "id": "QBJwm-94lbi8",
        "colab_type": "text"
      },
      "source": [
        "**Which augmentations techniques to use**\n",
        "\n",
        "While performing augmentation one must be sure to not use the wrong techniques for the domain you're working on. In our case this means that we for example shouldn't just flip the image, given the position of the other organs is important in the medical doamin.\n",
        "\n",
        "After some thought i think the most valuable augmentation techniques for our problem will be **shifting, tilting (5°) and zooming of the image**."
      ]
    },
    {
      "cell_type": "code",
      "metadata": {
        "id": "F16kEEw11W0C",
        "colab_type": "code",
        "colab": {}
      },
      "source": [
        "import os\n",
        "import shutil\n",
        "\n",
        "#Determining which categories has the most pictures, to augment the other classes to that number \n",
        "num_of_most_occuring_class = max(len(X_normal),len(X_bacteria),len(X_virus))"
      ],
      "execution_count": 0,
      "outputs": []
    },
    {
      "cell_type": "markdown",
      "metadata": {
        "id": "90KbrurfnD_Z",
        "colab_type": "text"
      },
      "source": [
        "Import of the necesarry librarys\n"
      ]
    },
    {
      "cell_type": "code",
      "metadata": {
        "id": "pzlxiDPPlsHs",
        "colab_type": "code",
        "colab": {
          "base_uri": "https://localhost:8080/",
          "height": 62
        },
        "outputId": "88cbf493-cd07-457a-d38d-775160621804"
      },
      "source": [
        "from matplotlib import pyplot\n",
        "from tensorflow.python.keras.preprocessing.image import ImageDataGenerator"
      ],
      "execution_count": 7,
      "outputs": [
        {
          "output_type": "display_data",
          "data": {
            "text/html": [
              "<p style=\"color: red;\">\n",
              "The default version of TensorFlow in Colab will soon switch to TensorFlow 2.x.<br>\n",
              "We recommend you <a href=\"https://www.tensorflow.org/guide/migrate\" target=\"_blank\">upgrade</a> now \n",
              "or ensure your notebook will continue to use TensorFlow 1.x via the <code>%tensorflow_version 1.x</code> magic:\n",
              "<a href=\"https://colab.research.google.com/notebooks/tensorflow_version.ipynb\" target=\"_blank\">more info</a>.</p>\n"
            ],
            "text/plain": [
              "<IPython.core.display.HTML object>"
            ]
          },
          "metadata": {
            "tags": []
          }
        }
      ]
    },
    {
      "cell_type": "markdown",
      "metadata": {
        "id": "cPAkyM5onRxv",
        "colab_type": "text"
      },
      "source": [
        "Initialising the ImageDataGenerator, which will take take the data we will fit it to randomly perform the actions we set in it's parameters"
      ]
    },
    {
      "cell_type": "code",
      "metadata": {
        "id": "jbjNxFHonvuE",
        "colab_type": "code",
        "colab": {}
      },
      "source": [
        ""
      ],
      "execution_count": 0,
      "outputs": []
    },
    {
      "cell_type": "markdown",
      "metadata": {
        "id": "TaiSdl2Po2SE",
        "colab_type": "text"
      },
      "source": [
        "Function that is used to perform the augmentation on the different categories"
      ]
    },
    {
      "cell_type": "code",
      "metadata": {
        "id": "CG-bdnAGpCGP",
        "colab_type": "code",
        "colab": {}
      },
      "source": [
        "import cv2\n",
        "\n",
        "def augment_smaller_classes(data_generator_with_aug, X_data, y_data, num_images_to_generate, name, prefix):\n",
        "    print(\"       Category: \" + name)\n",
        "    if num_images_to_generate == 0:\n",
        "          print(\"       No images have to be created\")\n",
        "          return\n",
        "    # fitting the  ImageDataGenerator to the passed in data\n",
        "    data_generator_with_aug.fit(X_data)\n",
        "    print(\"       Images to create: \" + str(num_images_to_generate))\n",
        "    #For loop to create pictures\n",
        "    i = 0\n",
        "    for batch in data_generator_with_aug.flow(\n",
        "        X_data,\n",
        "        y_data,\n",
        "        batch_size=1,\n",
        "        save_to_dir=(AUG_PATH+name),\n",
        "        save_prefix=prefix,\n",
        "        save_format='jpeg'):\n",
        "        i += 1\n",
        "        if i > num_images_to_generate-1:\n",
        "            print(\"       \" + str(num_images_to_generate) + \" Images created\")\n",
        "            break \n",
        "\n",
        "AUG_DIR = \"/content/aug_images/\"\n",
        "CATEGORIES = [\"NORMAL\",\"BACTERIA\", \"VIRUS\"]\n",
        "def reload_created_data(aug_data):\n",
        "        for category in CATEGORIES:\n",
        "            path = os.path.join(AUG_DIR, category)\n",
        "            #index: NORMAL --> 0, BACTERIA --> 1, VIRUS --> 2\n",
        "            class_num = CATEGORIES.index(category)\n",
        "            for img in os.listdir(path):\n",
        "                try:\n",
        "                    img_array = cv2.imread(os.path.join(path, img), cv2.IMREAD_GRAYSCALE)\n",
        "                    new_array = cv2.resize(img_array, (IMG_SIZE, IMG_SIZE))\n",
        "                    aug_data.append([new_array, class_num])\n",
        "                except Exception as e:\n",
        "                    print(e)"
      ],
      "execution_count": 0,
      "outputs": []
    },
    {
      "cell_type": "code",
      "metadata": {
        "id": "ctJrp1VKsUMN",
        "colab_type": "code",
        "colab": {}
      },
      "source": [
        "#print(num_of_most_occuring_class)"
      ],
      "execution_count": 0,
      "outputs": []
    },
    {
      "cell_type": "markdown",
      "metadata": {
        "id": "wtNx8gKYrYIi",
        "colab_type": "text"
      },
      "source": [
        "Apply function to the different categories, thus creating the needed additional "
      ]
    },
    {
      "cell_type": "code",
      "metadata": {
        "id": "Kl2e6ebPrfmH",
        "colab_type": "code",
        "colab": {}
      },
      "source": [
        "import pickle\n",
        "\n",
        "\n",
        "def parameter_study(WIDTH_SHIFT, HEIGHT_SHIFT, ZOOM, ROTATION, MIRROR_V, MIRROR_H):\n",
        "    print(\"aug:{}_{}_{}_{}_{}_{} started\".format(WIDTH_SHIFT,HEIGHT_SHIFT,ZOOM,ROTATION,MIRROR_V,MIRROR_H))\n",
        "    #deleteing old folders if they already exist\n",
        "    shutil.rmtree('/content/aug_images/', ignore_errors=True)\n",
        "    #creating subfolders for all casesDIR = '/tmp'\n",
        "    os.makedirs(AUG_PATH+'NORMAL')\n",
        "    os.makedirs(AUG_PATH+'BACTERIA')\n",
        "    os.makedirs(AUG_PATH+'VIRUS')\n",
        "    path, dirs, files = next(os.walk(\"/content/aug_images/NORMAL\"))\n",
        "    file_count = len(files)\n",
        "    print(\"   NORMAL\" + str(file_count))\n",
        "    path, dirs, files = next(os.walk(\"/content/aug_images/BACTERIA\"))\n",
        "    file_count = len(files)\n",
        "    print(\"   BACTERIA\" + str(file_count))\n",
        "    path, dirs, files = next(os.walk(\"/content/aug_images/VIRUS\"))\n",
        "    file_count = len(files)\n",
        "    print(\"   VIRUS\" + str(file_count))\n",
        "    data_generator_with_aug = ImageDataGenerator(\n",
        "                                   width_shift_range = WIDTH_SHIFT, #allows a 20% shift to the left or the right\n",
        "                                   height_shift_range = HEIGHT_SHIFT, #allows a 20% shift up or bottom\n",
        "                                   zoom_range= ZOOM, #allows to zoom in 20%, meaning ther will always be 80% of the original picture\n",
        "                                   rotation_range=ROTATION, #allows tilting of theimage to 5° in both directions\n",
        "                                   vertical_flip=MIRROR_V,\n",
        "                                   horizontal_flip=MIRROR_H,\n",
        "                                   fill_mode='nearest'# method used for filling empty space that is created while shifting\n",
        "                          )\n",
        "    augment_smaller_classes(data_generator_with_aug, X_normal, y_normal, (num_of_most_occuring_class-len(X_normal)), 'NORMAL', 'normal')\n",
        "    augment_smaller_classes(data_generator_with_aug, X_bacteria, y_bacteria, (num_of_most_occuring_class-len(X_bacteria)), 'BACTERIA', 'bacteria')\n",
        "    augment_smaller_classes(data_generator_with_aug, X_virus, y_virus, (num_of_most_occuring_class-len(X_virus)), 'VIRUS', 'virus')\n",
        "    \n",
        "    aug_data = []\n",
        "    reload_created_data(aug_data)\n",
        "    combined_data = data + aug_data\n",
        "\n",
        "    # save data set --> method baseline data\n",
        "    # DON'T RENAME TO DATA.pickle WILL OVERWRITE OUR ORIGINAL DATA\n",
        "    # Naming format: |width_shift_range|_|height_shift_range|_|zoom_range|_|rotation_range|_|vertical_flip|_|horizontal_flip|\n",
        "    pickle_out = open(\"/content/drive/My Drive/Group 77 - Pneumonia/pickle_augmented/augmented-{}_{}_{}_{}_{}_{}.pickle\".format(WIDTH_SHIFT,HEIGHT_SHIFT,ZOOM,ROTATION,MIRROR_V,MIRROR_H), \"wb\")\n",
        "    pickle.dump(combined_data, pickle_out)\n",
        "    pickle_out.close()\n",
        "    print(\"aug:{}_{}_{}_{}_{}_{} ended\".format(WIDTH_SHIFT,HEIGHT_SHIFT,ZOOM,ROTATION,MIRROR_V,MIRROR_H))\n",
        "\n"
      ],
      "execution_count": 0,
      "outputs": []
    },
    {
      "cell_type": "markdown",
      "metadata": {
        "id": "ShuYdwI_ycdf",
        "colab_type": "text"
      },
      "source": [
        "Parameter Study"
      ]
    },
    {
      "cell_type": "code",
      "metadata": {
        "id": "cB9J_lGFsZa9",
        "colab_type": "code",
        "outputId": "cf4e595a-0aeb-4506-be47-aaf01941ad99",
        "colab": {
          "base_uri": "https://localhost:8080/",
          "height": 471
        }
      },
      "source": [
        "\n",
        "for width_shift in range(0, 22, 2):\n",
        "    for height_shift in range(0, 22, 2):\n",
        "      for zoom in range(0, 22, 2):\n",
        "        for rotation in range(0, 22, 2):\n",
        "          for mirror_v in range(2):\n",
        "            for mirror_h in range(2):\n",
        "              mir_v = False if mirror_v == 0 else True\n",
        "              mir_h = False if mirror_h == 0 else True\n",
        "              parameter_study(width_shift, height_shift, float(zoom)/100, rotation, mir_v, mir_h)\n",
        "\n",
        "\n",
        "                    \n"
      ],
      "execution_count": 12,
      "outputs": [
        {
          "output_type": "stream",
          "text": [
            "aug:0_0_0.0_0_False_False started\n",
            "   NORMAL0\n",
            "   BACTERIA0\n",
            "   VIRUS0\n",
            "       Category: NORMAL\n",
            "       Images to create: 1189\n"
          ],
          "name": "stdout"
        },
        {
          "output_type": "error",
          "ename": "KeyboardInterrupt",
          "evalue": "ignored",
          "traceback": [
            "\u001b[0;31m---------------------------------------------------------------------------\u001b[0m",
            "\u001b[0;31mKeyboardInterrupt\u001b[0m                         Traceback (most recent call last)",
            "\u001b[0;32m<ipython-input-12-d919403afd12>\u001b[0m in \u001b[0;36m<module>\u001b[0;34m()\u001b[0m\n\u001b[1;32m      8\u001b[0m               \u001b[0mmir_v\u001b[0m \u001b[0;34m=\u001b[0m \u001b[0;32mFalse\u001b[0m \u001b[0;32mif\u001b[0m \u001b[0mmirror_v\u001b[0m \u001b[0;34m==\u001b[0m \u001b[0;36m0\u001b[0m \u001b[0;32melse\u001b[0m \u001b[0;32mTrue\u001b[0m\u001b[0;34m\u001b[0m\u001b[0;34m\u001b[0m\u001b[0m\n\u001b[1;32m      9\u001b[0m               \u001b[0mmir_h\u001b[0m \u001b[0;34m=\u001b[0m \u001b[0;32mFalse\u001b[0m \u001b[0;32mif\u001b[0m \u001b[0mmirror_h\u001b[0m \u001b[0;34m==\u001b[0m \u001b[0;36m0\u001b[0m \u001b[0;32melse\u001b[0m \u001b[0;32mTrue\u001b[0m\u001b[0;34m\u001b[0m\u001b[0;34m\u001b[0m\u001b[0m\n\u001b[0;32m---> 10\u001b[0;31m               \u001b[0mparameter_study\u001b[0m\u001b[0;34m(\u001b[0m\u001b[0mwidth_shift\u001b[0m\u001b[0;34m,\u001b[0m \u001b[0mheight_shift\u001b[0m\u001b[0;34m,\u001b[0m \u001b[0mfloat\u001b[0m\u001b[0;34m(\u001b[0m\u001b[0mzoom\u001b[0m\u001b[0;34m)\u001b[0m\u001b[0;34m/\u001b[0m\u001b[0;36m100\u001b[0m\u001b[0;34m,\u001b[0m \u001b[0mrotation\u001b[0m\u001b[0;34m,\u001b[0m \u001b[0mmir_v\u001b[0m\u001b[0;34m,\u001b[0m \u001b[0mmir_h\u001b[0m\u001b[0;34m)\u001b[0m\u001b[0;34m\u001b[0m\u001b[0;34m\u001b[0m\u001b[0m\n\u001b[0m\u001b[1;32m     11\u001b[0m \u001b[0;34m\u001b[0m\u001b[0m\n\u001b[1;32m     12\u001b[0m \u001b[0;34m\u001b[0m\u001b[0m\n",
            "\u001b[0;32m<ipython-input-10-c84f0a64a0f3>\u001b[0m in \u001b[0;36mparameter_study\u001b[0;34m(WIDTH_SHIFT, HEIGHT_SHIFT, ZOOM, ROTATION, MIRROR_V, MIRROR_H)\u001b[0m\n\u001b[1;32m     28\u001b[0m                                    \u001b[0mfill_mode\u001b[0m\u001b[0;34m=\u001b[0m\u001b[0;34m'nearest'\u001b[0m\u001b[0;31m# method used for filling empty space that is created while shifting\u001b[0m\u001b[0;34m\u001b[0m\u001b[0;34m\u001b[0m\u001b[0m\n\u001b[1;32m     29\u001b[0m                           )\n\u001b[0;32m---> 30\u001b[0;31m     \u001b[0maugment_smaller_classes\u001b[0m\u001b[0;34m(\u001b[0m\u001b[0mdata_generator_with_aug\u001b[0m\u001b[0;34m,\u001b[0m \u001b[0mX_normal\u001b[0m\u001b[0;34m,\u001b[0m \u001b[0my_normal\u001b[0m\u001b[0;34m,\u001b[0m \u001b[0;34m(\u001b[0m\u001b[0mnum_of_most_occuring_class\u001b[0m\u001b[0;34m-\u001b[0m\u001b[0mlen\u001b[0m\u001b[0;34m(\u001b[0m\u001b[0mX_normal\u001b[0m\u001b[0;34m)\u001b[0m\u001b[0;34m)\u001b[0m\u001b[0;34m,\u001b[0m \u001b[0;34m'NORMAL'\u001b[0m\u001b[0;34m,\u001b[0m \u001b[0;34m'normal'\u001b[0m\u001b[0;34m)\u001b[0m\u001b[0;34m\u001b[0m\u001b[0;34m\u001b[0m\u001b[0m\n\u001b[0m\u001b[1;32m     31\u001b[0m     \u001b[0maugment_smaller_classes\u001b[0m\u001b[0;34m(\u001b[0m\u001b[0mdata_generator_with_aug\u001b[0m\u001b[0;34m,\u001b[0m \u001b[0mX_bacteria\u001b[0m\u001b[0;34m,\u001b[0m \u001b[0my_bacteria\u001b[0m\u001b[0;34m,\u001b[0m \u001b[0;34m(\u001b[0m\u001b[0mnum_of_most_occuring_class\u001b[0m\u001b[0;34m-\u001b[0m\u001b[0mlen\u001b[0m\u001b[0;34m(\u001b[0m\u001b[0mX_bacteria\u001b[0m\u001b[0;34m)\u001b[0m\u001b[0;34m)\u001b[0m\u001b[0;34m,\u001b[0m \u001b[0;34m'BACTERIA'\u001b[0m\u001b[0;34m,\u001b[0m \u001b[0;34m'bacteria'\u001b[0m\u001b[0;34m)\u001b[0m\u001b[0;34m\u001b[0m\u001b[0;34m\u001b[0m\u001b[0m\n\u001b[1;32m     32\u001b[0m     \u001b[0maugment_smaller_classes\u001b[0m\u001b[0;34m(\u001b[0m\u001b[0mdata_generator_with_aug\u001b[0m\u001b[0;34m,\u001b[0m \u001b[0mX_virus\u001b[0m\u001b[0;34m,\u001b[0m \u001b[0my_virus\u001b[0m\u001b[0;34m,\u001b[0m \u001b[0;34m(\u001b[0m\u001b[0mnum_of_most_occuring_class\u001b[0m\u001b[0;34m-\u001b[0m\u001b[0mlen\u001b[0m\u001b[0;34m(\u001b[0m\u001b[0mX_virus\u001b[0m\u001b[0;34m)\u001b[0m\u001b[0;34m)\u001b[0m\u001b[0;34m,\u001b[0m \u001b[0;34m'VIRUS'\u001b[0m\u001b[0;34m,\u001b[0m \u001b[0;34m'virus'\u001b[0m\u001b[0;34m)\u001b[0m\u001b[0;34m\u001b[0m\u001b[0;34m\u001b[0m\u001b[0m\n",
            "\u001b[0;32m<ipython-input-8-134de536b9f7>\u001b[0m in \u001b[0;36maugment_smaller_classes\u001b[0;34m(data_generator_with_aug, X_data, y_data, num_images_to_generate, name, prefix)\u001b[0m\n\u001b[1;32m     17\u001b[0m         \u001b[0msave_to_dir\u001b[0m\u001b[0;34m=\u001b[0m\u001b[0;34m(\u001b[0m\u001b[0mAUG_PATH\u001b[0m\u001b[0;34m+\u001b[0m\u001b[0mname\u001b[0m\u001b[0;34m)\u001b[0m\u001b[0;34m,\u001b[0m\u001b[0;34m\u001b[0m\u001b[0;34m\u001b[0m\u001b[0m\n\u001b[1;32m     18\u001b[0m         \u001b[0msave_prefix\u001b[0m\u001b[0;34m=\u001b[0m\u001b[0mprefix\u001b[0m\u001b[0;34m,\u001b[0m\u001b[0;34m\u001b[0m\u001b[0;34m\u001b[0m\u001b[0m\n\u001b[0;32m---> 19\u001b[0;31m         save_format='jpeg'):\n\u001b[0m\u001b[1;32m     20\u001b[0m         \u001b[0mi\u001b[0m \u001b[0;34m+=\u001b[0m \u001b[0;36m1\u001b[0m\u001b[0;34m\u001b[0m\u001b[0;34m\u001b[0m\u001b[0m\n\u001b[1;32m     21\u001b[0m         \u001b[0;32mif\u001b[0m \u001b[0mi\u001b[0m \u001b[0;34m>\u001b[0m \u001b[0mnum_images_to_generate\u001b[0m\u001b[0;34m-\u001b[0m\u001b[0;36m1\u001b[0m\u001b[0;34m:\u001b[0m\u001b[0;34m\u001b[0m\u001b[0;34m\u001b[0m\u001b[0m\n",
            "\u001b[0;32m/usr/local/lib/python3.6/dist-packages/keras_preprocessing/image/iterator.py\u001b[0m in \u001b[0;36m__next__\u001b[0;34m(self, *args, **kwargs)\u001b[0m\n\u001b[1;32m    102\u001b[0m \u001b[0;34m\u001b[0m\u001b[0m\n\u001b[1;32m    103\u001b[0m     \u001b[0;32mdef\u001b[0m \u001b[0m__next__\u001b[0m\u001b[0;34m(\u001b[0m\u001b[0mself\u001b[0m\u001b[0;34m,\u001b[0m \u001b[0;34m*\u001b[0m\u001b[0margs\u001b[0m\u001b[0;34m,\u001b[0m \u001b[0;34m**\u001b[0m\u001b[0mkwargs\u001b[0m\u001b[0;34m)\u001b[0m\u001b[0;34m:\u001b[0m\u001b[0;34m\u001b[0m\u001b[0;34m\u001b[0m\u001b[0m\n\u001b[0;32m--> 104\u001b[0;31m         \u001b[0;32mreturn\u001b[0m \u001b[0mself\u001b[0m\u001b[0;34m.\u001b[0m\u001b[0mnext\u001b[0m\u001b[0;34m(\u001b[0m\u001b[0;34m*\u001b[0m\u001b[0margs\u001b[0m\u001b[0;34m,\u001b[0m \u001b[0;34m**\u001b[0m\u001b[0mkwargs\u001b[0m\u001b[0;34m)\u001b[0m\u001b[0;34m\u001b[0m\u001b[0;34m\u001b[0m\u001b[0m\n\u001b[0m\u001b[1;32m    105\u001b[0m \u001b[0;34m\u001b[0m\u001b[0m\n\u001b[1;32m    106\u001b[0m     \u001b[0;32mdef\u001b[0m \u001b[0mnext\u001b[0m\u001b[0;34m(\u001b[0m\u001b[0mself\u001b[0m\u001b[0;34m)\u001b[0m\u001b[0;34m:\u001b[0m\u001b[0;34m\u001b[0m\u001b[0;34m\u001b[0m\u001b[0m\n",
            "\u001b[0;32m/usr/local/lib/python3.6/dist-packages/keras_preprocessing/image/iterator.py\u001b[0m in \u001b[0;36mnext\u001b[0;34m(self)\u001b[0m\n\u001b[1;32m    114\u001b[0m         \u001b[0;31m# The transformation of images is not under thread lock\u001b[0m\u001b[0;34m\u001b[0m\u001b[0;34m\u001b[0m\u001b[0;34m\u001b[0m\u001b[0m\n\u001b[1;32m    115\u001b[0m         \u001b[0;31m# so it can be done in parallel\u001b[0m\u001b[0;34m\u001b[0m\u001b[0;34m\u001b[0m\u001b[0;34m\u001b[0m\u001b[0m\n\u001b[0;32m--> 116\u001b[0;31m         \u001b[0;32mreturn\u001b[0m \u001b[0mself\u001b[0m\u001b[0;34m.\u001b[0m\u001b[0m_get_batches_of_transformed_samples\u001b[0m\u001b[0;34m(\u001b[0m\u001b[0mindex_array\u001b[0m\u001b[0;34m)\u001b[0m\u001b[0;34m\u001b[0m\u001b[0;34m\u001b[0m\u001b[0m\n\u001b[0m\u001b[1;32m    117\u001b[0m \u001b[0;34m\u001b[0m\u001b[0m\n\u001b[1;32m    118\u001b[0m     \u001b[0;32mdef\u001b[0m \u001b[0m_get_batches_of_transformed_samples\u001b[0m\u001b[0;34m(\u001b[0m\u001b[0mself\u001b[0m\u001b[0;34m,\u001b[0m \u001b[0mindex_array\u001b[0m\u001b[0;34m)\u001b[0m\u001b[0;34m:\u001b[0m\u001b[0;34m\u001b[0m\u001b[0;34m\u001b[0m\u001b[0m\n",
            "\u001b[0;32m/usr/local/lib/python3.6/dist-packages/keras_preprocessing/image/numpy_array_iterator.py\u001b[0m in \u001b[0;36m_get_batches_of_transformed_samples\u001b[0;34m(self, index_array)\u001b[0m\n\u001b[1;32m    163\u001b[0m                     \u001b[0mhash\u001b[0m\u001b[0;34m=\u001b[0m\u001b[0mnp\u001b[0m\u001b[0;34m.\u001b[0m\u001b[0mrandom\u001b[0m\u001b[0;34m.\u001b[0m\u001b[0mrandint\u001b[0m\u001b[0;34m(\u001b[0m\u001b[0;36m1e4\u001b[0m\u001b[0;34m)\u001b[0m\u001b[0;34m,\u001b[0m\u001b[0;34m\u001b[0m\u001b[0;34m\u001b[0m\u001b[0m\n\u001b[1;32m    164\u001b[0m                     format=self.save_format)\n\u001b[0;32m--> 165\u001b[0;31m                 \u001b[0mimg\u001b[0m\u001b[0;34m.\u001b[0m\u001b[0msave\u001b[0m\u001b[0;34m(\u001b[0m\u001b[0mos\u001b[0m\u001b[0;34m.\u001b[0m\u001b[0mpath\u001b[0m\u001b[0;34m.\u001b[0m\u001b[0mjoin\u001b[0m\u001b[0;34m(\u001b[0m\u001b[0mself\u001b[0m\u001b[0;34m.\u001b[0m\u001b[0msave_to_dir\u001b[0m\u001b[0;34m,\u001b[0m \u001b[0mfname\u001b[0m\u001b[0;34m)\u001b[0m\u001b[0;34m)\u001b[0m\u001b[0;34m\u001b[0m\u001b[0;34m\u001b[0m\u001b[0m\n\u001b[0m\u001b[1;32m    166\u001b[0m         \u001b[0mbatch_x_miscs\u001b[0m \u001b[0;34m=\u001b[0m \u001b[0;34m[\u001b[0m\u001b[0mxx\u001b[0m\u001b[0;34m[\u001b[0m\u001b[0mindex_array\u001b[0m\u001b[0;34m]\u001b[0m \u001b[0;32mfor\u001b[0m \u001b[0mxx\u001b[0m \u001b[0;32min\u001b[0m \u001b[0mself\u001b[0m\u001b[0;34m.\u001b[0m\u001b[0mx_misc\u001b[0m\u001b[0;34m]\u001b[0m\u001b[0;34m\u001b[0m\u001b[0;34m\u001b[0m\u001b[0m\n\u001b[1;32m    167\u001b[0m         output = (batch_x if batch_x_miscs == []\n",
            "\u001b[0;32m/usr/local/lib/python3.6/dist-packages/PIL/Image.py\u001b[0m in \u001b[0;36msave\u001b[0;34m(self, fp, format, **params)\u001b[0m\n\u001b[1;32m   2069\u001b[0m \u001b[0;34m\u001b[0m\u001b[0m\n\u001b[1;32m   2070\u001b[0m         \u001b[0msave_all\u001b[0m \u001b[0;34m=\u001b[0m \u001b[0mparams\u001b[0m\u001b[0;34m.\u001b[0m\u001b[0mpop\u001b[0m\u001b[0;34m(\u001b[0m\u001b[0;34m\"save_all\"\u001b[0m\u001b[0;34m,\u001b[0m \u001b[0;32mFalse\u001b[0m\u001b[0;34m)\u001b[0m\u001b[0;34m\u001b[0m\u001b[0;34m\u001b[0m\u001b[0m\n\u001b[0;32m-> 2071\u001b[0;31m         \u001b[0mself\u001b[0m\u001b[0;34m.\u001b[0m\u001b[0mencoderinfo\u001b[0m \u001b[0;34m=\u001b[0m \u001b[0mparams\u001b[0m\u001b[0;34m\u001b[0m\u001b[0;34m\u001b[0m\u001b[0m\n\u001b[0m\u001b[1;32m   2072\u001b[0m         \u001b[0mself\u001b[0m\u001b[0;34m.\u001b[0m\u001b[0mencoderconfig\u001b[0m \u001b[0;34m=\u001b[0m \u001b[0;34m(\u001b[0m\u001b[0;34m)\u001b[0m\u001b[0;34m\u001b[0m\u001b[0;34m\u001b[0m\u001b[0m\n\u001b[1;32m   2073\u001b[0m \u001b[0;34m\u001b[0m\u001b[0m\n",
            "\u001b[0;31mKeyboardInterrupt\u001b[0m: "
          ]
        }
      ]
    },
    {
      "cell_type": "code",
      "metadata": {
        "id": "CCjux3pNytlZ",
        "colab_type": "code",
        "colab": {}
      },
      "source": [
        "## checking the length of the data\n",
        "#print(len(data))\n",
        "#print(len(aug_data))"
      ],
      "execution_count": 0,
      "outputs": []
    },
    {
      "cell_type": "code",
      "metadata": {
        "id": "maieFuZhx_R2",
        "colab_type": "code",
        "colab": {}
      },
      "source": [
        ""
      ],
      "execution_count": 0,
      "outputs": []
    },
    {
      "cell_type": "markdown",
      "metadata": {
        "id": "o8-RfA_azEMi",
        "colab_type": "text"
      },
      "source": [
        "Checking if the data is ballanced now\n"
      ]
    },
    {
      "cell_type": "code",
      "metadata": {
        "id": "y8FUUFRCzCSb",
        "colab_type": "code",
        "colab": {}
      },
      "source": [
        "#print(len(combined_data))\n",
        "#num_normal = 0\n",
        "#num_bacteria = 0\n",
        "#num_virus = 0\n",
        "\n",
        "#for features, label in combined_data:\n",
        "#    if label == 0:\n",
        "#        num_normal += 1\n",
        "#    elif label == 1:\n",
        "#        num_bacteria += 1\n",
        "#    elif label == 2:\n",
        "#        num_virus += 1\n",
        "#    else:\n",
        "#        raise Exception('Something went wrong')\n",
        "\n",
        "#print(\"Images for no pneumonia: \" + str(num_normal))\n",
        "#print(\"Images for bacterial pneumonia: \" + str(num_bacteria))\n",
        "#print(\"Images for viral pneumonia: \" + str(num_virus))"
      ],
      "execution_count": 0,
      "outputs": []
    },
    {
      "cell_type": "code",
      "metadata": {
        "id": "zZGJwgQ5tbH1",
        "colab_type": "code",
        "colab": {}
      },
      "source": [
        ""
      ],
      "execution_count": 0,
      "outputs": []
    }
  ]
}