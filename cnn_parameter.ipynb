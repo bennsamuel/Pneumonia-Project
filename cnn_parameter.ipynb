{
  "nbformat": 4,
  "nbformat_minor": 0,
  "metadata": {
    "kernelspec": {
      "name": "python3",
      "display_name": "Python 3"
    },
    "language_info": {
      "pygments_lexer": "ipython3",
      "nbconvert_exporter": "python",
      "version": "3.6.4",
      "file_extension": ".py",
      "codemirror_mode": {
        "name": "ipython",
        "version": 3
      },
      "name": "python",
      "mimetype": "text/x-python"
    },
    "colab": {
      "name": "cnn_parameter.ipynb",
      "provenance": [],
      "collapsed_sections": [],
      "include_colab_link": true
    },
    "accelerator": "GPU"
  },
  "cells": [
    {
      "cell_type": "markdown",
      "metadata": {
        "id": "view-in-github",
        "colab_type": "text"
      },
      "source": [
        "<a href=\"https://colab.research.google.com/github/bennsamuel/Pneumonia-Project/blob/master/cnn_parameter.ipynb\" target=\"_parent\"><img src=\"https://colab.research.google.com/assets/colab-badge.svg\" alt=\"Open In Colab\"/></a>"
      ]
    },
    {
      "cell_type": "markdown",
      "metadata": {
        "id": "i1HJrduozTKM",
        "colab_type": "text"
      },
      "source": [
        "# Deletes log folder\n",
        "should not be used. Was implemented when cnn algorithm was not finshed to mingle around.\n"
      ]
    },
    {
      "cell_type": "code",
      "metadata": {
        "id": "Uukp28eezLbM",
        "colab_type": "code",
        "colab": {}
      },
      "source": [
        "\n",
        "# %cd /content/drive/My Drive/Group 77 - Pneumonia/logs\n",
        "# !rm -d -r *\n"
      ],
      "execution_count": 0,
      "outputs": []
    },
    {
      "cell_type": "markdown",
      "metadata": {
        "id": "khtTZm2LqT9b",
        "colab_type": "text"
      },
      "source": [
        "# START HERE"
      ]
    },
    {
      "cell_type": "code",
      "metadata": {
        "id": "6gCSpATnMr5e",
        "colab_type": "code",
        "outputId": "0781f1a9-2aed-4c4e-c821-7b37a2fa254f",
        "colab": {
          "base_uri": "https://localhost:8080/",
          "height": 54
        }
      },
      "source": [
        "# START HERE\n",
        "\n",
        "# Load the Drive helper and mount\n",
        "from google.colab import drive\n",
        "\n",
        "# This will prompt for authorization.\n",
        "drive.mount('/content/drive')"
      ],
      "execution_count": 1,
      "outputs": [
        {
          "output_type": "stream",
          "text": [
            "Drive already mounted at /content/drive; to attempt to forcibly remount, call drive.mount(\"/content/drive\", force_remount=True).\n"
          ],
          "name": "stdout"
        }
      ]
    },
    {
      "cell_type": "code",
      "metadata": {
        "id": "I4AOCheJNu3U",
        "colab_type": "code",
        "outputId": "36ec1861-18d8-4018-883f-7914a8963465",
        "colab": {
          "base_uri": "https://localhost:8080/",
          "height": 34
        }
      },
      "source": [
        "# After executing the cell above, Drive\n",
        "# files will be present in \"/content/drive/My Drive\".\n",
        "!ls \"/content/drive/My Drive/Group 77 - Pneumonia/pickle/\""
      ],
      "execution_count": 2,
      "outputs": [
        {
          "output_type": "stream",
          "text": [
            "old  test_data.pickle  training_data.pickle  validation_data.pickle\n"
          ],
          "name": "stdout"
        }
      ]
    },
    {
      "cell_type": "code",
      "metadata": {
        "id": "peGASGqf1tHI",
        "colab_type": "code",
        "outputId": "95b44a9a-57a6-42c8-fc91-44aa73bfcb47",
        "colab": {
          "base_uri": "https://localhost:8080/",
          "height": 34
        }
      },
      "source": [
        "IMG_SIZE = 224\n",
        "NUM_CLASSES = 3\n",
        "\n",
        "#                0          1         2\n",
        "CATEGORIES = [\"NORMAL\",\"BACTERIA\", \"VIRUS\"]\n",
        "\n",
        "\n",
        "%cd /content/"
      ],
      "execution_count": 3,
      "outputs": [
        {
          "output_type": "stream",
          "text": [
            "/content\n"
          ],
          "name": "stdout"
        }
      ]
    },
    {
      "cell_type": "markdown",
      "metadata": {
        "id": "G534nMYhAJEY",
        "colab_type": "text"
      },
      "source": [
        "## `DATA SET which should be used for training is defined here.`"
      ]
    },
    {
      "cell_type": "code",
      "metadata": {
        "trusted": true,
        "id": "wHYgnMIKEPlo",
        "colab_type": "code",
        "outputId": "c1f43d5c-285b-43aa-ba19-f10c5491c83c",
        "colab": {
          "base_uri": "https://localhost:8080/",
          "height": 80
        }
      },
      "source": [
        "import pickle\n",
        "import numpy as np\n",
        "from keras.utils.np_utils import to_categorical\n",
        "import tensorflow as tf\n",
        "from tensorflow.keras.datasets import cifar10\n",
        "from tensorflow.keras.preprocessing.image import ImageDataGenerator\n",
        "from tensorflow.keras.models import Sequential \n",
        "from tensorflow.keras.layers import Dense, Dropout, Activation, Flatten, Conv2D, MaxPooling2D\n",
        "from tensorflow.keras.callbacks import TensorBoard\n",
        "import time\n",
        "\n",
        "\n",
        "\n",
        "\n",
        "\n",
        "\n",
        "def parameter_study(WIDTH_SHIFT, HEIGHT_SHIFT, ZOOM, ROTATION, MIRROR_V):\n",
        "\n",
        "    data_set_path = \"/content/drive/My Drive/Group 77 - Pneumonia/pickle_augmented/aug-{}_{}_{}_{}_{}.pickle\".format(WIDTH_SHIFT,HEIGHT_SHIFT,ZOOM,ROTATION,MIRROR_V)\n",
        "    # extract name from dataset\n",
        "    specific_data_set = data_set_path.split('/')[-1]\n",
        "\n",
        "    # train set\n",
        "    data = pickle.load(open(data_set_path, \"rb\"))\n",
        "\n",
        "    # validation set\n",
        "    test_data = pickle.load(open(\"/content/drive/My Drive/Group 77 - Pneumonia/pickle/validation_data.pickle\", \"rb\"))\n",
        "\n",
        "    print(\"Mounted data set: {}\".format(specific_data_set))\n",
        "\n",
        "    # splitting data in training data and validation data \n",
        "    # creating normalized SHUFFLED arrays\n",
        "    # DUE TO REFACTORING validaiton set it called test set\n",
        "    \n",
        "\n",
        "    X = []\n",
        "    y = []\n",
        "\n",
        "    for features, label in data:\n",
        "        X.append(features)\n",
        "        y.append(label)\n",
        "        \n",
        "    X_train = np.array(X).reshape(-1, IMG_SIZE, IMG_SIZE, 1)\n",
        "    y_train = y\n",
        "\n",
        "    X_test = []\n",
        "    y_test = []\n",
        "\n",
        "    for features, label in test_data:\n",
        "        X_test.append(features)\n",
        "        y_test.append(label)\n",
        "        \n",
        "    X_test = np.array(X_test).reshape(-1, IMG_SIZE, IMG_SIZE, 1)\n",
        "\n",
        "    X_train = np.asarray(X_train)\n",
        "    y_train = np.asarray(y_train)\n",
        "\n",
        "    # X_val = np.asarray(X_val)\n",
        "    # y_val = np.asarray(y_val)\n",
        "\n",
        "    X_test = np.asarray(X_test)\n",
        "    y_test = np.asarray(y_test)\n",
        "\n",
        "    X_train = X_train/255.0\n",
        "    # X_val = X_val/255.0\n",
        "    X_test = X_test/255.0\n",
        "\n",
        "\n",
        "\n",
        "    y_train = to_categorical(y_train, NUM_CLASSES)\n",
        "    y_test = to_categorical(y_test, NUM_CLASSES)\n",
        "\n",
        "\n",
        "    y_train.shape\n",
        "\n",
        "    NAME = \"{data_set} - {time}\".format(data_set = specific_data_set, time = time.strftime(\"%Y-%m-%d_%H:%M:%S\"))\n",
        "\n",
        "    tensorboard = TensorBoard(log_dir = \"/content/drive/My Drive/Group 77 - Pneumonia/logs/{}\".format(NAME))\n",
        "\n",
        "    model = Sequential()\n",
        "\n",
        "    model.add(Conv2D(64, kernel_size=(3, 3),\n",
        "                    strides=2,\n",
        "                    activation='relu',\n",
        "                    input_shape=X_train.shape[1:]))\n",
        "    model.add(Conv2D(64, kernel_size=(3, 3), strides=2, activation='relu'))\n",
        "    # model.add(MaxPooling2D(pool_size=(2,2)))\n",
        "\n",
        "    model.add(Conv2D(128, kernel_size=(3, 3), strides=2, activation='relu'))\n",
        "    model.add(Conv2D(128, kernel_size=(3, 3), strides=2, activation='relu'))\n",
        "    # model.add(MaxPooling2D(pool_size=(2,2)))\n",
        "\n",
        "    model.add(Conv2D(256, kernel_size=(3, 3), strides=2, activation='relu'))\n",
        "    model.add(Conv2D(256, kernel_size=(3, 3), strides=2, activation='relu'))\n",
        "    # model.add(MaxPooling2D(pool_size=(2,2)))\n",
        "\n",
        "    model.add(Flatten())\n",
        "\n",
        "    # w/o regularization\n",
        "    # model.add(Dense(128, activation='relu'))\n",
        "    # model.add(Dropout(0.5))\n",
        "\n",
        "    # model.add(Dense(128, activation='relu'))\n",
        "    # model.add(Dropout(0.5))\n",
        "\n",
        "    # with regularization\n",
        "    model.add(Dense(128, activation='relu', kernel_regularizer=tf.keras.regularizers.l2(l=0.1)))\n",
        "    model.add(Dropout(0.5))\n",
        "\n",
        "    model.add(Dense(128, activation='relu', kernel_regularizer=tf.keras.regularizers.l2(l=0.1)))\n",
        "    model.add(Dropout(0.5))\n",
        "\n",
        "    # Dense 3 softmax because we have 3 classes\n",
        "    model.add(Dense(NUM_CLASSES, activation='softmax'))\n",
        "\n",
        "    print(\"Mounted data set: {}\".format(specific_data_set))\n",
        "\n",
        "    model.layers\n",
        "\n",
        "    precision = tf.keras.metrics.Precision()\n",
        "    recall = tf.keras.metrics.Recall()\n",
        "\n",
        "    model.compile(loss=\"categorical_crossentropy\", \n",
        "                  optimizer=\"adam\", \n",
        "                  metrics=[\"accuracy\", precision, recall])\n",
        "\n",
        "    model.fit(X_train, y_train, batch_size=128, epochs=30, validation_data=(X_test,y_test), callbacks = [tensorboard])\n"
      ],
      "execution_count": 4,
      "outputs": [
        {
          "output_type": "stream",
          "text": [
            "Using TensorFlow backend.\n"
          ],
          "name": "stderr"
        },
        {
          "output_type": "display_data",
          "data": {
            "text/html": [
              "<p style=\"color: red;\">\n",
              "The default version of TensorFlow in Colab will soon switch to TensorFlow 2.x.<br>\n",
              "We recommend you <a href=\"https://www.tensorflow.org/guide/migrate\" target=\"_blank\">upgrade</a> now \n",
              "or ensure your notebook will continue to use TensorFlow 1.x via the <code>%tensorflow_version 1.x</code> magic:\n",
              "<a href=\"https://colab.research.google.com/notebooks/tensorflow_version.ipynb\" target=\"_blank\">more info</a>.</p>\n"
            ],
            "text/plain": [
              "<IPython.core.display.HTML object>"
            ]
          },
          "metadata": {
            "tags": []
          }
        }
      ]
    },
    {
      "cell_type": "code",
      "metadata": {
        "id": "lEsSqaMEWCpD",
        "colab_type": "code",
        "outputId": "4982da0c-5d08-4abb-fea7-8ddbda997475",
        "colab": {
          "base_uri": "https://localhost:8080/",
          "height": 1000
        }
      },
      "source": [
        "\n",
        "for width_shift in range(0, 11, 5):\n",
        "    for height_shift in range(0, 11, 5):\n",
        "      for zoom in range(0, 22, 10):\n",
        "        for rotation in range(0, 22, 10):\n",
        "          for mirror_v in range(2):\n",
        "            mir_v = False if mirror_v == 0 else True\n",
        "            parameter_study(width_shift, height_shift, float(zoom)/100, rotation, mir_v)"
      ],
      "execution_count": 0,
      "outputs": [
        {
          "output_type": "stream",
          "text": [
            "Mounted data set: aug-0_0_0.0_0_False.pickle\n",
            "WARNING:tensorflow:From /tensorflow-1.15.0/python3.6/tensorflow_core/python/ops/resource_variable_ops.py:1630: calling BaseResourceVariable.__init__ (from tensorflow.python.ops.resource_variable_ops) with constraint is deprecated and will be removed in a future version.\n",
            "Instructions for updating:\n",
            "If using Keras pass *_constraint arguments to layers.\n",
            "Mounted data set: aug-0_0_0.0_0_False.pickle\n",
            "Train on 5331 samples, validate on 1570 samples\n",
            "Epoch 1/30\n",
            " 128/5331 [..............................] - ETA: 1:42 - loss: 36.6089 - acc: 0.3047 - precision: 0.0000e+00 - recall: 0.0000e+00WARNING:tensorflow:Method (on_train_batch_end) is slow compared to the batch update (0.138125). Check your callbacks.\n",
            "5331/5331 [==============================] - 10s 2ms/sample - loss: 19.8682 - acc: 0.3361 - precision: 0.0000e+00 - recall: 0.0000e+00 - val_loss: 8.7798 - val_acc: 0.2567 - val_precision: 0.0000e+00 - val_recall: 0.0000e+00\n",
            "Epoch 2/30\n",
            "5331/5331 [==============================] - 7s 1ms/sample - loss: 5.2096 - acc: 0.4588 - precision: 0.6034 - recall: 0.1418 - val_loss: 2.7656 - val_acc: 0.6879 - val_precision: 0.7857 - val_recall: 0.5465\n",
            "Epoch 3/30\n",
            "5331/5331 [==============================] - 7s 1ms/sample - loss: 2.0008 - acc: 0.6269 - precision: 0.6772 - recall: 0.5183 - val_loss: 1.2897 - val_acc: 0.7452 - val_precision: 0.7811 - val_recall: 0.6955\n",
            "Epoch 4/30\n",
            "5331/5331 [==============================] - 7s 1ms/sample - loss: 1.0705 - acc: 0.6890 - precision: 0.7146 - recall: 0.6241 - val_loss: 0.7963 - val_acc: 0.7790 - val_precision: 0.8007 - val_recall: 0.7573\n",
            "Epoch 5/30\n",
            "5331/5331 [==============================] - 7s 1ms/sample - loss: 0.7504 - acc: 0.7196 - precision: 0.7429 - recall: 0.6715 - val_loss: 0.6756 - val_acc: 0.7726 - val_precision: 0.7946 - val_recall: 0.7293\n",
            "Epoch 6/30\n",
            "5331/5331 [==============================] - 7s 1ms/sample - loss: 0.6446 - acc: 0.7387 - precision: 0.7589 - recall: 0.6948 - val_loss: 0.6240 - val_acc: 0.7599 - val_precision: 0.7876 - val_recall: 0.7299\n",
            "Epoch 7/30\n",
            "5331/5331 [==============================] - 7s 1ms/sample - loss: 0.6121 - acc: 0.7471 - precision: 0.7678 - recall: 0.7083 - val_loss: 0.5849 - val_acc: 0.7796 - val_precision: 0.7983 - val_recall: 0.7586\n",
            "Epoch 8/30\n",
            "5331/5331 [==============================] - 7s 1ms/sample - loss: 0.5805 - acc: 0.7481 - precision: 0.7714 - recall: 0.7139 - val_loss: 0.6167 - val_acc: 0.7803 - val_precision: 0.8077 - val_recall: 0.7516\n",
            "Epoch 9/30\n",
            "5331/5331 [==============================] - 7s 1ms/sample - loss: 0.5511 - acc: 0.7646 - precision: 0.7791 - recall: 0.7383 - val_loss: 0.5676 - val_acc: 0.7771 - val_precision: 0.7850 - val_recall: 0.7580\n",
            "Epoch 10/30\n",
            "5331/5331 [==============================] - 7s 1ms/sample - loss: 0.5373 - acc: 0.7711 - precision: 0.7834 - recall: 0.7490 - val_loss: 0.5450 - val_acc: 0.7854 - val_precision: 0.7951 - val_recall: 0.7662\n",
            "Epoch 11/30\n",
            "5331/5331 [==============================] - 7s 1ms/sample - loss: 0.5251 - acc: 0.7818 - precision: 0.7943 - recall: 0.7599 - val_loss: 0.6132 - val_acc: 0.7675 - val_precision: 0.8140 - val_recall: 0.7191\n",
            "Epoch 12/30\n",
            "5331/5331 [==============================] - 7s 1ms/sample - loss: 0.5218 - acc: 0.7826 - precision: 0.7956 - recall: 0.7593 - val_loss: 0.5646 - val_acc: 0.7764 - val_precision: 0.7842 - val_recall: 0.7662\n",
            "Epoch 13/30\n",
            "5331/5331 [==============================] - 7s 1ms/sample - loss: 0.4996 - acc: 0.7953 - precision: 0.8062 - recall: 0.7781 - val_loss: 0.5480 - val_acc: 0.7994 - val_precision: 0.8117 - val_recall: 0.7854\n",
            "Epoch 14/30\n",
            "5331/5331 [==============================] - 7s 1ms/sample - loss: 0.5086 - acc: 0.7935 - precision: 0.8032 - recall: 0.7738 - val_loss: 0.6114 - val_acc: 0.7783 - val_precision: 0.7934 - val_recall: 0.7631\n",
            "Epoch 15/30\n",
            "5331/5331 [==============================] - 7s 1ms/sample - loss: 0.4903 - acc: 0.8021 - precision: 0.8134 - recall: 0.7865 - val_loss: 0.5515 - val_acc: 0.7892 - val_precision: 0.8003 - val_recall: 0.7834\n",
            "Epoch 16/30\n",
            "5331/5331 [==============================] - 7s 1ms/sample - loss: 0.4724 - acc: 0.8104 - precision: 0.8201 - recall: 0.7976 - val_loss: 0.5531 - val_acc: 0.7975 - val_precision: 0.8040 - val_recall: 0.7917\n",
            "Epoch 17/30\n",
            "5331/5331 [==============================] - 7s 1ms/sample - loss: 0.4497 - acc: 0.8269 - precision: 0.8346 - recall: 0.8179 - val_loss: 0.5666 - val_acc: 0.7777 - val_precision: 0.7838 - val_recall: 0.7688\n",
            "Epoch 18/30\n",
            "5331/5331 [==============================] - 7s 1ms/sample - loss: 0.4322 - acc: 0.8304 - precision: 0.8360 - recall: 0.8195 - val_loss: 0.5892 - val_acc: 0.7758 - val_precision: 0.7806 - val_recall: 0.7707\n",
            "Epoch 19/30\n",
            "5331/5331 [==============================] - 7s 1ms/sample - loss: 0.4438 - acc: 0.8349 - precision: 0.8421 - recall: 0.8244 - val_loss: 0.5896 - val_acc: 0.7790 - val_precision: 0.7816 - val_recall: 0.7726\n",
            "Epoch 20/30\n",
            "5331/5331 [==============================] - 7s 1ms/sample - loss: 0.4518 - acc: 0.8327 - precision: 0.8395 - recall: 0.8203 - val_loss: 0.5894 - val_acc: 0.8051 - val_precision: 0.8088 - val_recall: 0.7975\n",
            "Epoch 21/30\n",
            "5331/5331 [==============================] - 7s 1ms/sample - loss: 0.3985 - acc: 0.8561 - precision: 0.8606 - recall: 0.8497 - val_loss: 0.6159 - val_acc: 0.7376 - val_precision: 0.7421 - val_recall: 0.7293\n",
            "Epoch 22/30\n",
            "5331/5331 [==============================] - 7s 1ms/sample - loss: 0.3887 - acc: 0.8655 - precision: 0.8694 - recall: 0.8591 - val_loss: 0.6019 - val_acc: 0.7975 - val_precision: 0.7997 - val_recall: 0.7936\n",
            "Epoch 23/30\n",
            "5331/5331 [==============================] - 7s 1ms/sample - loss: 0.3673 - acc: 0.8676 - precision: 0.8722 - recall: 0.8627 - val_loss: 0.7073 - val_acc: 0.7847 - val_precision: 0.7879 - val_recall: 0.7809\n",
            "Epoch 24/30\n",
            "5331/5331 [==============================] - 7s 1ms/sample - loss: 0.3700 - acc: 0.8749 - precision: 0.8800 - recall: 0.8664 - val_loss: 0.6711 - val_acc: 0.7847 - val_precision: 0.7908 - val_recall: 0.7803\n",
            "Epoch 25/30\n",
            "5331/5331 [==============================] - 7s 1ms/sample - loss: 0.3675 - acc: 0.8762 - precision: 0.8818 - recall: 0.8678 - val_loss: 0.6205 - val_acc: 0.7834 - val_precision: 0.7906 - val_recall: 0.7720\n",
            "Epoch 26/30\n",
            "5331/5331 [==============================] - 7s 1ms/sample - loss: 0.3373 - acc: 0.8914 - precision: 0.8955 - recall: 0.8876 - val_loss: 0.7114 - val_acc: 0.7720 - val_precision: 0.7783 - val_recall: 0.7669\n",
            "Epoch 27/30\n",
            "5331/5331 [==============================] - 7s 1ms/sample - loss: 0.3058 - acc: 0.9085 - precision: 0.9113 - recall: 0.9056 - val_loss: 0.8069 - val_acc: 0.7567 - val_precision: 0.7604 - val_recall: 0.7561\n",
            "Epoch 28/30\n",
            "5331/5331 [==============================] - 7s 1ms/sample - loss: 0.2896 - acc: 0.9071 - precision: 0.9099 - recall: 0.9041 - val_loss: 0.7390 - val_acc: 0.7771 - val_precision: 0.7831 - val_recall: 0.7752\n",
            "Epoch 29/30\n",
            "5331/5331 [==============================] - 7s 1ms/sample - loss: 0.3255 - acc: 0.9038 - precision: 0.9068 - recall: 0.8998 - val_loss: 0.7725 - val_acc: 0.7777 - val_precision: 0.7827 - val_recall: 0.7732\n",
            "Epoch 30/30\n",
            "5331/5331 [==============================] - 7s 1ms/sample - loss: 0.2792 - acc: 0.9231 - precision: 0.9251 - recall: 0.9220 - val_loss: 0.8842 - val_acc: 0.7618 - val_precision: 0.7681 - val_recall: 0.7573\n",
            "Mounted data set: aug-0_0_0.0_0_True.pickle\n",
            "Mounted data set: aug-0_0_0.0_0_True.pickle\n",
            "Train on 5331 samples, validate on 1570 samples\n",
            "Epoch 1/30\n",
            "5331/5331 [==============================] - 7s 1ms/sample - loss: 19.8247 - acc: 0.3260 - precision_1: 0.0000e+00 - recall_1: 0.0000e+00 - val_loss: 8.7506 - val_acc: 0.2586 - val_precision_1: 0.0000e+00 - val_recall_1: 0.0000e+00\n",
            "Epoch 2/30\n",
            "5331/5331 [==============================] - 7s 1ms/sample - loss: 5.2612 - acc: 0.3624 - precision_1: 0.5000 - recall_1: 0.0028 - val_loss: 3.0366 - val_acc: 0.4968 - val_precision_1: 0.0000e+00 - val_recall_1: 0.0000e+00\n",
            "Epoch 3/30\n",
            "5331/5331 [==============================] - 7s 1ms/sample - loss: 2.1015 - acc: 0.5689 - precision_1: 0.6582 - recall_1: 0.3579 - val_loss: 1.3535 - val_acc: 0.7134 - val_precision_1: 0.7577 - val_recall_1: 0.6433\n",
            "Epoch 4/30\n",
            "5331/5331 [==============================] - 7s 1ms/sample - loss: 1.1394 - acc: 0.6631 - precision_1: 0.7106 - recall_1: 0.5791 - val_loss: 0.8494 - val_acc: 0.7459 - val_precision_1: 0.7663 - val_recall_1: 0.7102\n",
            "Epoch 5/30\n",
            "5331/5331 [==============================] - 7s 1ms/sample - loss: 0.8125 - acc: 0.7057 - precision_1: 0.7353 - recall_1: 0.6440 - val_loss: 0.6646 - val_acc: 0.7796 - val_precision_1: 0.8085 - val_recall_1: 0.7478\n",
            "Epoch 6/30\n",
            "5331/5331 [==============================] - 7s 1ms/sample - loss: 0.6631 - acc: 0.7424 - precision_1: 0.7658 - recall_1: 0.7025 - val_loss: 0.6425 - val_acc: 0.7611 - val_precision_1: 0.7812 - val_recall_1: 0.7325\n",
            "Epoch 7/30\n",
            "5331/5331 [==============================] - 7s 1ms/sample - loss: 0.6155 - acc: 0.7543 - precision_1: 0.7783 - recall_1: 0.7196 - val_loss: 0.5764 - val_acc: 0.7885 - val_precision_1: 0.8048 - val_recall_1: 0.7694\n",
            "Epoch 8/30\n",
            "5331/5331 [==============================] - 7s 1ms/sample - loss: 0.5675 - acc: 0.7727 - precision_1: 0.7888 - recall_1: 0.7481 - val_loss: 0.5782 - val_acc: 0.7758 - val_precision_1: 0.7935 - val_recall_1: 0.7490\n",
            "Epoch 9/30\n",
            "5331/5331 [==============================] - 7s 1ms/sample - loss: 0.5429 - acc: 0.7800 - precision_1: 0.7978 - recall_1: 0.7586 - val_loss: 0.5218 - val_acc: 0.8108 - val_precision_1: 0.8231 - val_recall_1: 0.7975\n",
            "Epoch 10/30\n",
            "5331/5331 [==============================] - 7s 1ms/sample - loss: 0.5384 - acc: 0.7815 - precision_1: 0.7958 - recall_1: 0.7597 - val_loss: 0.5539 - val_acc: 0.8057 - val_precision_1: 0.8153 - val_recall_1: 0.7955\n",
            "Epoch 11/30\n",
            "5331/5331 [==============================] - 7s 1ms/sample - loss: 0.5150 - acc: 0.8000 - precision_1: 0.8123 - recall_1: 0.7787 - val_loss: 0.5346 - val_acc: 0.8070 - val_precision_1: 0.8231 - val_recall_1: 0.7796\n",
            "Epoch 12/30\n",
            "5331/5331 [==============================] - 7s 1ms/sample - loss: 0.4960 - acc: 0.8074 - precision_1: 0.8205 - recall_1: 0.7888 - val_loss: 0.5643 - val_acc: 0.7726 - val_precision_1: 0.7869 - val_recall_1: 0.7573\n",
            "Epoch 13/30\n",
            "5331/5331 [==============================] - 7s 1ms/sample - loss: 0.4809 - acc: 0.8090 - precision_1: 0.8230 - recall_1: 0.7905 - val_loss: 0.6186 - val_acc: 0.7764 - val_precision_1: 0.7881 - val_recall_1: 0.7650\n",
            "Epoch 14/30\n",
            "5331/5331 [==============================] - 7s 1ms/sample - loss: 0.4727 - acc: 0.8126 - precision_1: 0.8222 - recall_1: 0.7987 - val_loss: 0.5308 - val_acc: 0.8210 - val_precision_1: 0.8299 - val_recall_1: 0.8108\n",
            "Epoch 15/30\n",
            "5331/5331 [==============================] - 7s 1ms/sample - loss: 0.4525 - acc: 0.8250 - precision_1: 0.8329 - recall_1: 0.8109 - val_loss: 0.5865 - val_acc: 0.7873 - val_precision_1: 0.7961 - val_recall_1: 0.7758\n",
            "Epoch 16/30\n",
            "5331/5331 [==============================] - 7s 1ms/sample - loss: 0.4501 - acc: 0.8278 - precision_1: 0.8354 - recall_1: 0.8152 - val_loss: 0.5355 - val_acc: 0.8083 - val_precision_1: 0.8144 - val_recall_1: 0.7994\n",
            "Epoch 17/30\n",
            "5331/5331 [==============================] - 7s 1ms/sample - loss: 0.4238 - acc: 0.8364 - precision_1: 0.8428 - recall_1: 0.8257 - val_loss: 0.5299 - val_acc: 0.8134 - val_precision_1: 0.8207 - val_recall_1: 0.8045\n",
            "Epoch 18/30\n",
            "5331/5331 [==============================] - 7s 1ms/sample - loss: 0.4342 - acc: 0.8349 - precision_1: 0.8412 - recall_1: 0.8248 - val_loss: 0.5275 - val_acc: 0.8166 - val_precision_1: 0.8272 - val_recall_1: 0.8051\n",
            "Epoch 19/30\n",
            "5331/5331 [==============================] - 7s 1ms/sample - loss: 0.4274 - acc: 0.8426 - precision_1: 0.8513 - recall_1: 0.8321 - val_loss: 0.5911 - val_acc: 0.8070 - val_precision_1: 0.8128 - val_recall_1: 0.8019\n",
            "Epoch 20/30\n",
            "5331/5331 [==============================] - 7s 1ms/sample - loss: 0.4000 - acc: 0.8582 - precision_1: 0.8613 - recall_1: 0.8505 - val_loss: 0.5768 - val_acc: 0.7949 - val_precision_1: 0.7981 - val_recall_1: 0.7904\n",
            "Epoch 21/30\n",
            "5331/5331 [==============================] - 7s 1ms/sample - loss: 0.3863 - acc: 0.8604 - precision_1: 0.8668 - recall_1: 0.8557 - val_loss: 0.5469 - val_acc: 0.8045 - val_precision_1: 0.8129 - val_recall_1: 0.8000\n",
            "Epoch 22/30\n",
            "5331/5331 [==============================] - 7s 1ms/sample - loss: 0.3827 - acc: 0.8642 - precision_1: 0.8692 - recall_1: 0.8591 - val_loss: 0.5957 - val_acc: 0.7885 - val_precision_1: 0.7921 - val_recall_1: 0.7815\n",
            "Epoch 23/30\n",
            "5331/5331 [==============================] - 7s 1ms/sample - loss: 0.3658 - acc: 0.8739 - precision_1: 0.8777 - recall_1: 0.8696 - val_loss: 0.5739 - val_acc: 0.7854 - val_precision_1: 0.7875 - val_recall_1: 0.7790\n",
            "Epoch 24/30\n",
            "5331/5331 [==============================] - 7s 1ms/sample - loss: 0.3550 - acc: 0.8822 - precision_1: 0.8855 - recall_1: 0.8773 - val_loss: 0.5979 - val_acc: 0.8013 - val_precision_1: 0.8051 - val_recall_1: 0.7975\n",
            "Epoch 25/30\n",
            "5331/5331 [==============================] - 7s 1ms/sample - loss: 0.3519 - acc: 0.8850 - precision_1: 0.8873 - recall_1: 0.8805 - val_loss: 0.6441 - val_acc: 0.7675 - val_precision_1: 0.7730 - val_recall_1: 0.7637\n",
            "Epoch 26/30\n",
            "5331/5331 [==============================] - 7s 1ms/sample - loss: 0.3228 - acc: 0.8970 - precision_1: 0.8995 - recall_1: 0.8933 - val_loss: 0.6319 - val_acc: 0.7968 - val_precision_1: 0.8005 - val_recall_1: 0.7924\n",
            "Epoch 27/30\n",
            "5331/5331 [==============================] - 7s 1ms/sample - loss: 0.3187 - acc: 0.8996 - precision_1: 0.9011 - recall_1: 0.8957 - val_loss: 0.6096 - val_acc: 0.7841 - val_precision_1: 0.7886 - val_recall_1: 0.7771\n",
            "Epoch 28/30\n",
            "5331/5331 [==============================] - 7s 1ms/sample - loss: 0.2865 - acc: 0.9128 - precision_1: 0.9157 - recall_1: 0.9103 - val_loss: 0.6887 - val_acc: 0.8025 - val_precision_1: 0.8035 - val_recall_1: 0.7994\n",
            "Epoch 29/30\n",
            "5331/5331 [==============================] - 7s 1ms/sample - loss: 0.2784 - acc: 0.9137 - precision_1: 0.9162 - recall_1: 0.9109 - val_loss: 0.7157 - val_acc: 0.7834 - val_precision_1: 0.7870 - val_recall_1: 0.7815\n",
            "Epoch 30/30\n",
            "5331/5331 [==============================] - 7s 1ms/sample - loss: 0.2663 - acc: 0.9244 - precision_1: 0.9269 - recall_1: 0.9225 - val_loss: 0.7120 - val_acc: 0.8025 - val_precision_1: 0.8062 - val_recall_1: 0.7975\n",
            "Mounted data set: aug-0_0_0.0_10_False.pickle\n",
            "Mounted data set: aug-0_0_0.0_10_False.pickle\n",
            "Train on 5331 samples, validate on 1570 samples\n",
            "Epoch 1/30\n",
            "5331/5331 [==============================] - 8s 1ms/sample - loss: 19.9138 - acc: 0.3457 - precision_2: 0.0000e+00 - recall_2: 0.0000e+00 - val_loss: 8.8291 - val_acc: 0.4217 - val_precision_2: 0.0000e+00 - val_recall_2: 0.0000e+00\n",
            "Epoch 2/30\n",
            "5331/5331 [==============================] - 7s 1ms/sample - loss: 5.1894 - acc: 0.5237 - precision_2: 0.6494 - recall_2: 0.2544 - val_loss: 2.8226 - val_acc: 0.7140 - val_precision_2: 0.8329 - val_recall_2: 0.4541\n",
            "Epoch 3/30\n",
            "5331/5331 [==============================] - 7s 1ms/sample - loss: 2.0189 - acc: 0.6475 - precision_2: 0.7008 - recall_2: 0.5342 - val_loss: 1.2847 - val_acc: 0.7592 - val_precision_2: 0.8039 - val_recall_2: 0.6892\n",
            "Epoch 4/30\n",
            "5331/5331 [==============================] - 7s 1ms/sample - loss: 1.0853 - acc: 0.6911 - precision_2: 0.7256 - recall_2: 0.6305 - val_loss: 0.8177 - val_acc: 0.7675 - val_precision_2: 0.8065 - val_recall_2: 0.6930\n",
            "Epoch 5/30\n",
            "5331/5331 [==============================] - 7s 1ms/sample - loss: 0.7703 - acc: 0.7216 - precision_2: 0.7506 - recall_2: 0.6640 - val_loss: 0.6558 - val_acc: 0.7478 - val_precision_2: 0.7778 - val_recall_2: 0.7178\n",
            "Epoch 6/30\n",
            "5331/5331 [==============================] - 7s 1ms/sample - loss: 0.6593 - acc: 0.7295 - precision_2: 0.7556 - recall_2: 0.6901 - val_loss: 0.5984 - val_acc: 0.7707 - val_precision_2: 0.7972 - val_recall_2: 0.7510\n",
            "Epoch 7/30\n",
            "4992/5331 [===========================>..] - ETA: 0s - loss: 0.6209 - acc: 0.7362 - precision_2: 0.7566 - recall_2: 0.6941"
          ],
          "name": "stdout"
        }
      ]
    }
  ]
}