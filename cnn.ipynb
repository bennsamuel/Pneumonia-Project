{
  "nbformat": 4,
  "nbformat_minor": 0,
  "metadata": {
    "kernelspec": {
      "name": "python3",
      "display_name": "Python 3"
    },
    "language_info": {
      "pygments_lexer": "ipython3",
      "nbconvert_exporter": "python",
      "version": "3.6.4",
      "file_extension": ".py",
      "codemirror_mode": {
        "name": "ipython",
        "version": 3
      },
      "name": "python",
      "mimetype": "text/x-python"
    },
    "colab": {
      "name": "Group_77-Pneumonia.ipynb",
      "provenance": [],
      "collapsed_sections": [],
      "include_colab_link": true
    },
    "accelerator": "GPU"
  },
  "cells": [
    {
      "cell_type": "markdown",
      "metadata": {
        "id": "view-in-github",
        "colab_type": "text"
      },
      "source": [
        "<a href=\"https://colab.research.google.com/github/bennsamuel/Pneumonia-Project/blob/master/cnn.ipynb\" target=\"_parent\"><img src=\"https://colab.research.google.com/assets/colab-badge.svg\" alt=\"Open In Colab\"/></a>"
      ]
    },
    {
      "cell_type": "markdown",
      "metadata": {
        "id": "i1HJrduozTKM",
        "colab_type": "text"
      },
      "source": [
        "# Deletes log folder\n",
        "should not be used. Was implemented when cnn algorithm was not finshed to mingle around.\n"
      ]
    },
    {
      "cell_type": "code",
      "metadata": {
        "id": "Uukp28eezLbM",
        "colab_type": "code",
        "colab": {}
      },
      "source": [
        "\n",
        "# %cd /content/drive/My Drive/Group 77 - Pneumonia/logs\n",
        "# !rm -d -r *\n"
      ],
      "execution_count": 0,
      "outputs": []
    },
    {
      "cell_type": "markdown",
      "metadata": {
        "id": "khtTZm2LqT9b",
        "colab_type": "text"
      },
      "source": [
        "# START HERE"
      ]
    },
    {
      "cell_type": "code",
      "metadata": {
        "id": "6gCSpATnMr5e",
        "colab_type": "code",
        "outputId": "e5734d3e-ebbf-4e3b-cc47-b857988aeb77",
        "colab": {
          "base_uri": "https://localhost:8080/",
          "height": 122
        }
      },
      "source": [
        "# START HERE\n",
        "\n",
        "# Load the Drive helper and mount\n",
        "from google.colab import drive\n",
        "\n",
        "# This will prompt for authorization.\n",
        "drive.mount('/content/drive')"
      ],
      "execution_count": 1,
      "outputs": [
        {
          "output_type": "stream",
          "text": [
            "Go to this URL in a browser: https://accounts.google.com/o/oauth2/auth?client_id=947318989803-6bn6qk8qdgf4n4g3pfee6491hc0brc4i.apps.googleusercontent.com&redirect_uri=urn%3aietf%3awg%3aoauth%3a2.0%3aoob&response_type=code&scope=email%20https%3a%2f%2fwww.googleapis.com%2fauth%2fdocs.test%20https%3a%2f%2fwww.googleapis.com%2fauth%2fdrive%20https%3a%2f%2fwww.googleapis.com%2fauth%2fdrive.photos.readonly%20https%3a%2f%2fwww.googleapis.com%2fauth%2fpeopleapi.readonly\n",
            "\n",
            "Enter your authorization code:\n",
            "··········\n",
            "Mounted at /content/drive\n"
          ],
          "name": "stdout"
        }
      ]
    },
    {
      "cell_type": "code",
      "metadata": {
        "id": "I4AOCheJNu3U",
        "colab_type": "code",
        "outputId": "a7ed7bf8-5a2c-40f3-fd1f-8111cd615603",
        "colab": {
          "base_uri": "https://localhost:8080/",
          "height": 34
        }
      },
      "source": [
        "# After executing the cell above, Drive\n",
        "# files will be present in \"/content/drive/My Drive\".\n",
        "!ls \"/content/drive/My Drive/Group 77 - Pneumonia/pickle/\""
      ],
      "execution_count": 2,
      "outputs": [
        {
          "output_type": "stream",
          "text": [
            "data.pickle  test_data.pickle\n"
          ],
          "name": "stdout"
        }
      ]
    },
    {
      "cell_type": "code",
      "metadata": {
        "id": "peGASGqf1tHI",
        "colab_type": "code",
        "outputId": "a78f6d2e-d619-4848-bb41-7ff5ccabff27",
        "colab": {
          "base_uri": "https://localhost:8080/",
          "height": 34
        }
      },
      "source": [
        "IMG_SIZE = 224\n",
        "NUM_CLASSES = 3\n",
        "\n",
        "#                0          1         2\n",
        "CATEGORIES = [\"NORMAL\",\"BACTERIA\", \"VIRUS\"]\n",
        "\n",
        "\n",
        "%cd /content/"
      ],
      "execution_count": 3,
      "outputs": [
        {
          "output_type": "stream",
          "text": [
            "/content\n"
          ],
          "name": "stdout"
        }
      ]
    },
    {
      "cell_type": "markdown",
      "metadata": {
        "id": "G534nMYhAJEY",
        "colab_type": "text"
      },
      "source": [
        "## `DATA SET which should be used for training is defined here.`"
      ]
    },
    {
      "cell_type": "code",
      "metadata": {
        "trusted": true,
        "id": "wHYgnMIKEPlo",
        "colab_type": "code",
        "outputId": "e153a12d-6427-4067-dd56-07289f05359c",
        "colab": {
          "base_uri": "https://localhost:8080/",
          "height": 34
        }
      },
      "source": [
        "#load dataset --> method baseline!\n",
        "import pickle\n",
        "\n",
        "# select which pickle folder\n",
        "data_set_folder_path = \"/content/drive/My Drive/Group 77 - Pneumonia/pickle_augmented/\"\n",
        "\n",
        "# HERE Define here which data set should be used for training\n",
        "\n",
        "data_set_path = \"/content/drive/My Drive/Group 77 - Pneumonia/pickle_augmented/augmented-0.05_0_0_0_0.pickle\"\n",
        "\n",
        "# extract name from dataset\n",
        "specific_data_set = data_set_path.split('/')[-1]\n",
        "\n",
        "data = pickle.load(open(data_set_path, \"rb\"))\n",
        "\n",
        "test_data = pickle.load(open(\"/content/drive/My Drive/Group 77 - Pneumonia/pickle/test_data.pickle\", \"rb\"))\n",
        "\n",
        "print(\"Mounted data set: {}\".format(specific_data_set))"
      ],
      "execution_count": 4,
      "outputs": [
        {
          "output_type": "stream",
          "text": [
            "Mounted data set: augmented-0.05_0_0_0_0.pickle\n"
          ],
          "name": "stdout"
        }
      ]
    },
    {
      "cell_type": "code",
      "metadata": {
        "id": "vdZyLUR16qn9",
        "colab_type": "code",
        "colab": {}
      },
      "source": [
        ""
      ],
      "execution_count": 0,
      "outputs": []
    },
    {
      "cell_type": "code",
      "metadata": {
        "trusted": true,
        "id": "CZybEQwoEPlY",
        "colab_type": "code",
        "colab": {}
      },
      "source": [
        "# splitting data in training data and validation data \n",
        "# creating normalized SHUFFLED arrays\n",
        "\n",
        "import numpy as np\n",
        "\n",
        "X = []\n",
        "y = []\n",
        "\n",
        "for features, label in data:\n",
        "    X.append(features)\n",
        "    y.append(label)\n",
        "    \n",
        "X = np.array(X).reshape(-1, IMG_SIZE, IMG_SIZE, 1)\n",
        "\n",
        "from sklearn.model_selection import train_test_split\n",
        "\n",
        "# stratify preserves distribution of classes\n",
        "X_train, X_val, y_train, y_val = train_test_split(X, y, test_size=0.4,\n",
        "                                                  random_state=42, stratify=y)\n",
        "\n",
        "X_test = []\n",
        "y_test = []\n",
        "\n",
        "for features, label in test_data:\n",
        "    X_test.append(features)\n",
        "    y_test.append(label)\n",
        "    \n",
        "X_test = np.array(X_test).reshape(-1, IMG_SIZE, IMG_SIZE, 1)\n"
      ],
      "execution_count": 0,
      "outputs": []
    },
    {
      "cell_type": "code",
      "metadata": {
        "trusted": true,
        "id": "O9_iDu0sEPls",
        "colab_type": "code",
        "colab": {}
      },
      "source": [
        "X_train = np.asarray(X_train)\n",
        "y_train = np.asarray(y_train)\n",
        "\n",
        "X_val = np.asarray(X_val)\n",
        "y_val = np.asarray(y_val)\n",
        "\n",
        "X_test = np.asarray(X_test)\n",
        "y_test = np.asarray(y_test)\n",
        "\n",
        "X_train = X_train/255.0\n",
        "X_val = X_val/255.0\n",
        "X_test = X_test/255.0"
      ],
      "execution_count": 0,
      "outputs": []
    },
    {
      "cell_type": "markdown",
      "metadata": {
        "id": "riG4HC1ZJcbt",
        "colab_type": "text"
      },
      "source": [
        "Create the plotting data for later. This is done at this point to have a the data before one hot encoding."
      ]
    },
    {
      "cell_type": "code",
      "metadata": {
        "id": "Xl0p0M8RIdYc",
        "colab_type": "code",
        "colab": {}
      },
      "source": [
        "import pandas as pd\n",
        "\n",
        "\n",
        "train_plot_data = pd.DataFrame(y_train, columns=['CLASS'])\n",
        "train_plot_data['DATA SET'] = 'train'\n",
        "\n",
        "val_plot_data = pd.DataFrame(y_val, columns=['CLASS'])\n",
        "val_plot_data['DATA SET'] = 'val'\n",
        "\n",
        "to_merge = [train_plot_data, val_plot_data]\n",
        "merged_plot_data = pd.concat(to_merge)"
      ],
      "execution_count": 0,
      "outputs": []
    },
    {
      "cell_type": "markdown",
      "metadata": {
        "id": "4i1TriNTImBb",
        "colab_type": "text"
      },
      "source": [
        "'one hot encode' classes\n",
        "\n",
        "before to_categorical: \n",
        "\n",
        "  [1, \n",
        "  2,\n",
        "  1, \n",
        "  0, \n",
        "  1, \n",
        "  2, \n",
        "  ...]\n",
        "\n",
        "after to_categorical:\n",
        "  [[0,1,0],\n",
        "   [0,0,1],\n",
        "   [0,1,0],\n",
        "   ...]"
      ]
    },
    {
      "cell_type": "code",
      "metadata": {
        "id": "1tGqdvi4Im3Q",
        "colab_type": "code",
        "outputId": "c7143dfb-4ae4-41ac-b761-da9407aa559c",
        "colab": {
          "base_uri": "https://localhost:8080/",
          "height": 97
        }
      },
      "source": [
        "from keras.utils.np_utils import to_categorical\n",
        "\n",
        "y_train = to_categorical(y_train, NUM_CLASSES)\n",
        "y_val = to_categorical(y_val, NUM_CLASSES)\n",
        "y_test = to_categorical(y_test, NUM_CLASSES)"
      ],
      "execution_count": 8,
      "outputs": [
        {
          "output_type": "stream",
          "text": [
            "Using TensorFlow backend.\n"
          ],
          "name": "stderr"
        },
        {
          "output_type": "display_data",
          "data": {
            "text/html": [
              "<p style=\"color: red;\">\n",
              "The default version of TensorFlow in Colab will soon switch to TensorFlow 2.x.<br>\n",
              "We recommend you <a href=\"https://www.tensorflow.org/guide/migrate\" target=\"_blank\">upgrade</a> now \n",
              "or ensure your notebook will continue to use TensorFlow 1.x via the <code>%tensorflow_version 1.x</code> magic:\n",
              "<a href=\"https://colab.research.google.com/notebooks/tensorflow_version.ipynb\" target=\"_blank\">more info</a>.</p>\n"
            ],
            "text/plain": [
              "<IPython.core.display.HTML object>"
            ]
          },
          "metadata": {
            "tags": []
          }
        }
      ]
    },
    {
      "cell_type": "markdown",
      "metadata": {
        "id": "2hL_DPn8h4vo",
        "colab_type": "text"
      },
      "source": [
        "Possibility to export target data sets."
      ]
    },
    {
      "cell_type": "code",
      "metadata": {
        "id": "DyXS7lAjhaiW",
        "colab_type": "code",
        "colab": {}
      },
      "source": [
        "# import pickle\n",
        "\n",
        "# %cd /content/drive/My Drive/Group 77 - Pneumonia/pickle\n",
        "\n",
        "# pickle_out = open(\"y_train.pickle\", \"wb\")\n",
        "# pickle.dump(y_train, pickle_out)\n",
        "# pickle_out.close()\n",
        "\n",
        "# pickle_out = open(\"y_val.pickle\", \"wb\")\n",
        "# pickle.dump(y_val, pickle_out)\n",
        "# pickle_out.close()\n",
        "\n",
        "# pickle_out = open(\"y_test.pickle\", \"wb\")\n",
        "# pickle.dump(y_test, pickle_out)\n",
        "# pickle_out.close()"
      ],
      "execution_count": 0,
      "outputs": []
    },
    {
      "cell_type": "code",
      "metadata": {
        "id": "h4aeHNCs4Pi6",
        "colab_type": "code",
        "outputId": "013ac563-1f40-493b-9e90-ca44f470901b",
        "colab": {
          "base_uri": "https://localhost:8080/",
          "height": 34
        }
      },
      "source": [
        "y_train.shape"
      ],
      "execution_count": 10,
      "outputs": [
        {
          "output_type": "execute_result",
          "data": {
            "text/plain": [
              "(4568, 3)"
            ]
          },
          "metadata": {
            "tags": []
          },
          "execution_count": 10
        }
      ]
    },
    {
      "cell_type": "markdown",
      "metadata": {
        "id": "BhZc6GMNurYi",
        "colab_type": "text"
      },
      "source": [
        "Defining layers"
      ]
    },
    {
      "cell_type": "markdown",
      "metadata": {
        "id": "1scT1xVPDyN2",
        "colab_type": "text"
      },
      "source": [
        "Code partially based on [stanford cs 231](http://cs231n.github.io/convolutional-networks/)\n",
        "\n",
        "**strides and dropout** \n",
        "\n",
        "Decided to use increased strides instead of maxpooling layer. Based on:\n",
        "https://www.kaggle.com/dansbecker/dropout-and-strides-for-larger-models\n",
        "\n",
        "and corresponding research paper:\n",
        "[\"Striving for Simplicity: The All Convolutional Net\"](https://academic.microsoft.com/paper/2963382180/citedby/search?q=Striving%20for%20Simplicity%3A%20The%20All%20Convolutional%20Net&qe=RId%253D2963382180&f=&orderBy=0)\n",
        "\n",
        "Dropout percentage (0.5) based on [this paper](https://academic.microsoft.com/paper/1904365287/reference/search?q=Improving%20neural%20networks%20by%20preventing%20co-adaptation%20of%20feature%20detectors&qe=Or(Id%253D2911964244%252CId%253D2108598243%252CId%253D2112796928%252CId%253D2100495367%252CId%253D2912934387%252CId%253D2116064496%252CId%253D2147768505%252CId%253D1993882792%252CId%253D4919037%252CId%253D1498436455%252CId%253D2053229256%252CId%253D2132424367%252CId%253D2184852195%252CId%253D1567512734%252CId%253D2150884987%252CId%253D2125725328%252CId%253D2465562739)&f=&orderBy=0)\n",
        "\n",
        "[another paper](http://jmlr.csail.mit.edu/papers/volume15/srivastava14a/srivastava14a.pdf) on dropout cited by google\n",
        "\n",
        "Why dropout is not used on convolutional layer:\n",
        "[link text](https://academic.microsoft.com/paper/2890166761/citedby/search?q=DropBlock%3A%20A%20regularization%20method%20for%20convolutional%20networks&qe=RId%253D2890166761&f=&orderBy=0)\n"
      ]
    },
    {
      "cell_type": "code",
      "metadata": {
        "trusted": true,
        "id": "Q-5ThfjpEPlv",
        "colab_type": "code",
        "outputId": "d495dabf-f526-43ad-824b-0c0a602cc836",
        "colab": {
          "base_uri": "https://localhost:8080/",
          "height": 88
        }
      },
      "source": [
        "\n",
        "import tensorflow as tf\n",
        "from tensorflow.keras.datasets import cifar10\n",
        "from tensorflow.keras.preprocessing.image import ImageDataGenerator\n",
        "from tensorflow.keras.models import Sequential \n",
        "from tensorflow.keras.layers import Dense, Dropout, Activation, Flatten, Conv2D, MaxPooling2D\n",
        "from tensorflow.keras.callbacks import TensorBoard\n",
        "\n",
        "import time\n",
        "\n",
        "NAME = \"{data_set} - {time}\".format(data_set = specific_data_set, time = time.strftime(\"%Y-%m-%d_%H:%M:%S\"))\n",
        "\n",
        "tensorboard = TensorBoard(log_dir = \"/content/drive/My Drive/Group 77 - Pneumonia/logs/{}\".format(NAME))\n",
        "\n",
        "model = Sequential()\n",
        "\n",
        "model.add(Conv2D(64, kernel_size=(3, 3),\n",
        "                 strides=2,\n",
        "                 activation='relu',\n",
        "                 input_shape=X_train.shape[1:]))\n",
        "model.add(Conv2D(64, kernel_size=(3, 3), strides=2, activation='relu'))\n",
        "# model.add(MaxPooling2D(pool_size=(2,2)))\n",
        "\n",
        "model.add(Conv2D(128, kernel_size=(3, 3), strides=2, activation='relu'))\n",
        "model.add(Conv2D(128, kernel_size=(3, 3), strides=2, activation='relu'))\n",
        "# model.add(MaxPooling2D(pool_size=(2,2)))\n",
        "\n",
        "model.add(Conv2D(256, kernel_size=(3, 3), strides=2, activation='relu'))\n",
        "model.add(Conv2D(256, kernel_size=(3, 3), strides=2, activation='relu'))\n",
        "# model.add(MaxPooling2D(pool_size=(2,2)))\n",
        "\n",
        "model.add(Flatten())\n",
        "\n",
        "# w/o regularization\n",
        "# model.add(Dense(128, activation='relu'))\n",
        "# model.add(Dropout(0.5))\n",
        "\n",
        "# model.add(Dense(128, activation='relu'))\n",
        "# model.add(Dropout(0.5))\n",
        "\n",
        "# with regularization\n",
        "model.add(Dense(128, activation='relu', kernel_regularizer=tf.keras.regularizers.l2(l=0.1)))\n",
        "model.add(Dropout(0.5))\n",
        "\n",
        "model.add(Dense(128, activation='relu', kernel_regularizer=tf.keras.regularizers.l2(l=0.1)))\n",
        "model.add(Dropout(0.5))\n",
        "\n",
        "# Dense 3 softmax because we have 3 classes\n",
        "model.add(Dense(NUM_CLASSES, activation='softmax'))"
      ],
      "execution_count": 11,
      "outputs": [
        {
          "output_type": "stream",
          "text": [
            "WARNING:tensorflow:From /tensorflow-1.15.0/python3.6/tensorflow_core/python/ops/resource_variable_ops.py:1630: calling BaseResourceVariable.__init__ (from tensorflow.python.ops.resource_variable_ops) with constraint is deprecated and will be removed in a future version.\n",
            "Instructions for updating:\n",
            "If using Keras pass *_constraint arguments to layers.\n"
          ],
          "name": "stdout"
        }
      ]
    },
    {
      "cell_type": "markdown",
      "metadata": {
        "id": "LYCGbces_grt",
        "colab_type": "text"
      },
      "source": [
        "Fitting the model. If this is executed multiple times make sure that no addiotional layers were added by runnning the cell above. *THIS DOES NOT WORK. YOU HAVE TO RESTART THE RUNTIME* This can be checked with the model.layers variable."
      ]
    },
    {
      "cell_type": "code",
      "metadata": {
        "id": "EgWk5UAyA2cJ",
        "colab_type": "code",
        "outputId": "0b8e5f2d-e53c-43cc-9ed1-9e648b42ca99",
        "colab": {
          "base_uri": "https://localhost:8080/",
          "height": 34
        }
      },
      "source": [
        "print(\"Mounted data set: {}\".format(specific_data_set))"
      ],
      "execution_count": 12,
      "outputs": [
        {
          "output_type": "stream",
          "text": [
            "Mounted data set: augmented-0.05_0_0_0_0.pickle\n"
          ],
          "name": "stdout"
        }
      ]
    },
    {
      "cell_type": "code",
      "metadata": {
        "id": "3yoexBRn0yEP",
        "colab_type": "code",
        "outputId": "84339f4d-a9c6-49f6-aff4-8feba5f6a884",
        "colab": {
          "base_uri": "https://localhost:8080/",
          "height": 221
        }
      },
      "source": [
        "model.layers"
      ],
      "execution_count": 13,
      "outputs": [
        {
          "output_type": "execute_result",
          "data": {
            "text/plain": [
              "[<tensorflow.python.keras.layers.convolutional.Conv2D at 0x7fc687123208>,\n",
              " <tensorflow.python.keras.layers.convolutional.Conv2D at 0x7fc6871255c0>,\n",
              " <tensorflow.python.keras.layers.convolutional.Conv2D at 0x7fc687125550>,\n",
              " <tensorflow.python.keras.layers.convolutional.Conv2D at 0x7fc687125dd8>,\n",
              " <tensorflow.python.keras.layers.convolutional.Conv2D at 0x7fc686908f98>,\n",
              " <tensorflow.python.keras.layers.convolutional.Conv2D at 0x7fc68689d5c0>,\n",
              " <tensorflow.python.keras.layers.core.Flatten at 0x7fc68689d5f8>,\n",
              " <tensorflow.python.keras.layers.core.Dense at 0x7fc6868c4898>,\n",
              " <tensorflow.python.keras.layers.core.Dropout at 0x7fc6868bd320>,\n",
              " <tensorflow.python.keras.layers.core.Dense at 0x7fc686850160>,\n",
              " <tensorflow.python.keras.layers.core.Dropout at 0x7fc686868f60>,\n",
              " <tensorflow.python.keras.layers.core.Dense at 0x7fc68687f8d0>]"
            ]
          },
          "metadata": {
            "tags": []
          },
          "execution_count": 13
        }
      ]
    },
    {
      "cell_type": "code",
      "metadata": {
        "id": "pHuOkCRt_uO_",
        "colab_type": "code",
        "outputId": "0d27725f-3d56-4b9b-e66e-5507eb9edcd1",
        "colab": {
          "base_uri": "https://localhost:8080/",
          "height": 1000
        }
      },
      "source": [
        "precision = tf.keras.metrics.Precision()\n",
        "recall = tf.keras.metrics.Recall()\n",
        "\n",
        "model.compile(loss=\"categorical_crossentropy\", \n",
        "              optimizer=\"adam\", \n",
        "              metrics=[\"accuracy\", precision, recall])\n",
        "\n",
        "model.fit(X_train, y_train, batch_size=128, epochs=30, validation_data=(X_val,y_val), callbacks = [tensorboard])"
      ],
      "execution_count": 14,
      "outputs": [
        {
          "output_type": "stream",
          "text": [
            "Train on 4568 samples, validate on 3046 samples\n",
            "Epoch 1/30\n",
            " 128/4568 [..............................] - ETA: 4:04 - loss: 36.7375 - acc: 0.3125 - precision: 0.0000e+00 - recall: 0.0000e+00WARNING:tensorflow:Method (on_train_batch_end) is slow compared to the batch update (0.173836). Check your callbacks.\n",
            "4568/4568 [==============================] - 11s 2ms/sample - loss: 21.6059 - acc: 0.3356 - precision: 0.0000e+00 - recall: 0.0000e+00 - val_loss: 10.6933 - val_acc: 0.3345 - val_precision: 0.0000e+00 - val_recall: 0.0000e+00\n",
            "Epoch 2/30\n",
            "4568/4568 [==============================] - 4s 877us/sample - loss: 6.6601 - acc: 0.3921 - precision: 0.3500 - recall: 0.0015 - val_loss: 3.8990 - val_acc: 0.4100 - val_precision: 0.0000e+00 - val_recall: 0.0000e+00\n",
            "Epoch 3/30\n",
            "4568/4568 [==============================] - 4s 877us/sample - loss: 2.7210 - acc: 0.5534 - precision: 0.6490 - recall: 0.3465 - val_loss: 1.8359 - val_acc: 0.6185 - val_precision: 0.6706 - val_recall: 0.5427\n",
            "Epoch 4/30\n",
            "4568/4568 [==============================] - 4s 874us/sample - loss: 1.4391 - acc: 0.6432 - precision: 0.6828 - recall: 0.5466 - val_loss: 1.1045 - val_acc: 0.6356 - val_precision: 0.6797 - val_recall: 0.5601\n",
            "Epoch 5/30\n",
            "4568/4568 [==============================] - 4s 871us/sample - loss: 0.9563 - acc: 0.6760 - precision: 0.7178 - recall: 0.6075 - val_loss: 0.7850 - val_acc: 0.7203 - val_precision: 0.7418 - val_recall: 0.6865\n",
            "Epoch 6/30\n",
            "4568/4568 [==============================] - 4s 872us/sample - loss: 0.7535 - acc: 0.7148 - precision: 0.7469 - recall: 0.6602 - val_loss: 0.6892 - val_acc: 0.7413 - val_precision: 0.7622 - val_recall: 0.7039\n",
            "Epoch 7/30\n",
            "4568/4568 [==============================] - 4s 880us/sample - loss: 0.6780 - acc: 0.7404 - precision: 0.7642 - recall: 0.6889 - val_loss: 0.6534 - val_acc: 0.7515 - val_precision: 0.7883 - val_recall: 0.7065\n",
            "Epoch 8/30\n",
            "4568/4568 [==============================] - 4s 871us/sample - loss: 0.6385 - acc: 0.7397 - precision: 0.7642 - recall: 0.6981 - val_loss: 0.6346 - val_acc: 0.7370 - val_precision: 0.7463 - val_recall: 0.7223\n",
            "Epoch 9/30\n",
            "4568/4568 [==============================] - 4s 870us/sample - loss: 0.6017 - acc: 0.7463 - precision: 0.7692 - recall: 0.7152 - val_loss: 0.5845 - val_acc: 0.7689 - val_precision: 0.7848 - val_recall: 0.7364\n",
            "Epoch 10/30\n",
            "4568/4568 [==============================] - 4s 876us/sample - loss: 0.5887 - acc: 0.7677 - precision: 0.7853 - recall: 0.7345 - val_loss: 0.5907 - val_acc: 0.7646 - val_precision: 0.7911 - val_recall: 0.7272\n",
            "Epoch 11/30\n",
            "4568/4568 [==============================] - 4s 873us/sample - loss: 0.5708 - acc: 0.7719 - precision: 0.7904 - recall: 0.7362 - val_loss: 0.6049 - val_acc: 0.7485 - val_precision: 0.7683 - val_recall: 0.7239\n",
            "Epoch 12/30\n",
            "4568/4568 [==============================] - 4s 863us/sample - loss: 0.5639 - acc: 0.7767 - precision: 0.7920 - recall: 0.7511 - val_loss: 0.5610 - val_acc: 0.7679 - val_precision: 0.7740 - val_recall: 0.7554\n",
            "Epoch 13/30\n",
            "4568/4568 [==============================] - 4s 868us/sample - loss: 0.5454 - acc: 0.7804 - precision: 0.7957 - recall: 0.7590 - val_loss: 0.5695 - val_acc: 0.7679 - val_precision: 0.7811 - val_recall: 0.7485\n",
            "Epoch 14/30\n",
            "4568/4568 [==============================] - 4s 868us/sample - loss: 0.5323 - acc: 0.7885 - precision: 0.8011 - recall: 0.7651 - val_loss: 0.6138 - val_acc: 0.7508 - val_precision: 0.7774 - val_recall: 0.7154\n",
            "Epoch 15/30\n",
            "4568/4568 [==============================] - 4s 874us/sample - loss: 0.5330 - acc: 0.7896 - precision: 0.8045 - recall: 0.7684 - val_loss: 0.5540 - val_acc: 0.7837 - val_precision: 0.7953 - val_recall: 0.7640\n",
            "Epoch 16/30\n",
            "4568/4568 [==============================] - 4s 867us/sample - loss: 0.5193 - acc: 0.7977 - precision: 0.8138 - recall: 0.7750 - val_loss: 0.5771 - val_acc: 0.7538 - val_precision: 0.7672 - val_recall: 0.7390\n",
            "Epoch 17/30\n",
            "4568/4568 [==============================] - 4s 877us/sample - loss: 0.5053 - acc: 0.7958 - precision: 0.8064 - recall: 0.7789 - val_loss: 0.5549 - val_acc: 0.7768 - val_precision: 0.7897 - val_recall: 0.7544\n",
            "Epoch 18/30\n",
            "4568/4568 [==============================] - 4s 868us/sample - loss: 0.5019 - acc: 0.8060 - precision: 0.8158 - recall: 0.7894 - val_loss: 0.5587 - val_acc: 0.7761 - val_precision: 0.7808 - val_recall: 0.7659\n",
            "Epoch 19/30\n",
            "4568/4568 [==============================] - 4s 863us/sample - loss: 0.4900 - acc: 0.8126 - precision: 0.8215 - recall: 0.7982 - val_loss: 0.5533 - val_acc: 0.7804 - val_precision: 0.7902 - val_recall: 0.7692\n",
            "Epoch 20/30\n",
            "4568/4568 [==============================] - 4s 877us/sample - loss: 0.5060 - acc: 0.8001 - precision: 0.8126 - recall: 0.7811 - val_loss: 0.5490 - val_acc: 0.7771 - val_precision: 0.7838 - val_recall: 0.7676\n",
            "Epoch 21/30\n",
            "4568/4568 [==============================] - 4s 870us/sample - loss: 0.4721 - acc: 0.8196 - precision: 0.8276 - recall: 0.8058 - val_loss: 0.5826 - val_acc: 0.7728 - val_precision: 0.7806 - val_recall: 0.7672\n",
            "Epoch 22/30\n",
            "4568/4568 [==============================] - 4s 869us/sample - loss: 0.4626 - acc: 0.8257 - precision: 0.8320 - recall: 0.8109 - val_loss: 0.5553 - val_acc: 0.7837 - val_precision: 0.7909 - val_recall: 0.7774\n",
            "Epoch 23/30\n",
            "4568/4568 [==============================] - 4s 869us/sample - loss: 0.4411 - acc: 0.8349 - precision: 0.8399 - recall: 0.8279 - val_loss: 0.5805 - val_acc: 0.7820 - val_precision: 0.7874 - val_recall: 0.7699\n",
            "Epoch 24/30\n",
            "4568/4568 [==============================] - 4s 865us/sample - loss: 0.4456 - acc: 0.8369 - precision: 0.8435 - recall: 0.8238 - val_loss: 0.5931 - val_acc: 0.7791 - val_precision: 0.7869 - val_recall: 0.7685\n",
            "Epoch 25/30\n",
            "4568/4568 [==============================] - 4s 871us/sample - loss: 0.4344 - acc: 0.8363 - precision: 0.8443 - recall: 0.8264 - val_loss: 0.5452 - val_acc: 0.7892 - val_precision: 0.7968 - val_recall: 0.7791\n",
            "Epoch 26/30\n",
            "4568/4568 [==============================] - 4s 868us/sample - loss: 0.4214 - acc: 0.8492 - precision: 0.8553 - recall: 0.8400 - val_loss: 0.5678 - val_acc: 0.7971 - val_precision: 0.8011 - val_recall: 0.7909\n",
            "Epoch 27/30\n",
            "4568/4568 [==============================] - 4s 871us/sample - loss: 0.4053 - acc: 0.8540 - precision: 0.8575 - recall: 0.8468 - val_loss: 0.5609 - val_acc: 0.7787 - val_precision: 0.7850 - val_recall: 0.7708\n",
            "Epoch 28/30\n",
            "4568/4568 [==============================] - 4s 869us/sample - loss: 0.4003 - acc: 0.8564 - precision: 0.8619 - recall: 0.8487 - val_loss: 0.5748 - val_acc: 0.7771 - val_precision: 0.7843 - val_recall: 0.7712\n",
            "Epoch 29/30\n",
            "4568/4568 [==============================] - 4s 869us/sample - loss: 0.4016 - acc: 0.8599 - precision: 0.8650 - recall: 0.8511 - val_loss: 0.5591 - val_acc: 0.7925 - val_precision: 0.7991 - val_recall: 0.7823\n",
            "Epoch 30/30\n",
            "4568/4568 [==============================] - 4s 878us/sample - loss: 0.3935 - acc: 0.8660 - precision: 0.8708 - recall: 0.8601 - val_loss: 0.6001 - val_acc: 0.7685 - val_precision: 0.7727 - val_recall: 0.7643\n"
          ],
          "name": "stdout"
        },
        {
          "output_type": "execute_result",
          "data": {
            "text/plain": [
              "<tensorflow.python.keras.callbacks.History at 0x7fc68667fda0>"
            ]
          },
          "metadata": {
            "tags": []
          },
          "execution_count": 14
        }
      ]
    },
    {
      "cell_type": "markdown",
      "metadata": {
        "id": "swb3Yu-LutGE",
        "colab_type": "text"
      },
      "source": [
        "fit model and define metrics"
      ]
    },
    {
      "cell_type": "code",
      "metadata": {
        "id": "G3uHqquJ6t8h",
        "colab_type": "code",
        "outputId": "f3e5b417-6896-4a11-8cff-f83b2e01f700",
        "colab": {
          "base_uri": "https://localhost:8080/",
          "height": 34
        }
      },
      "source": [
        "!kill 3615"
      ],
      "execution_count": 15,
      "outputs": [
        {
          "output_type": "stream",
          "text": [
            "/bin/bash: line 0: kill: (3615) - No such process\n"
          ],
          "name": "stdout"
        }
      ]
    },
    {
      "cell_type": "code",
      "metadata": {
        "id": "7yRTOkoZmV_R",
        "colab_type": "code",
        "colab": {}
      },
      "source": [
        "%load_ext tensorboard "
      ],
      "execution_count": 0,
      "outputs": []
    },
    {
      "cell_type": "code",
      "metadata": {
        "id": "izpEbXQomo6_",
        "colab_type": "code",
        "outputId": "2cd8e0d2-9964-4ccd-f7c3-40b6d75fe38b",
        "colab": {
          "base_uri": "https://localhost:8080/",
          "height": 17
        }
      },
      "source": [
        "# has to be run twice. no clue why\n",
        "\n",
        "%tensorboard --logdir \"/content/drive/My Drive/Group 77 - Pneumonia/logs\""
      ],
      "execution_count": 17,
      "outputs": [
        {
          "output_type": "display_data",
          "data": {
            "text/html": [
              "\n",
              "    <div id=\"root\"></div>\n",
              "    <script>\n",
              "      (function() {\n",
              "        window.TENSORBOARD_ENV = window.TENSORBOARD_ENV || {};\n",
              "        window.TENSORBOARD_ENV[\"IN_COLAB\"] = true;\n",
              "        document.querySelector(\"base\").href = \"https://localhost:6006\";\n",
              "        function fixUpTensorboard(root) {\n",
              "          const tftb = root.querySelector(\"tf-tensorboard\");\n",
              "          // Disable the fragment manipulation behavior in Colab. Not\n",
              "          // only is the behavior not useful (as the iframe's location\n",
              "          // is not visible to the user), it causes TensorBoard's usage\n",
              "          // of `window.replace` to navigate away from the page and to\n",
              "          // the `localhost:<port>` URL specified by the base URI, which\n",
              "          // in turn causes the frame to (likely) crash.\n",
              "          tftb.removeAttribute(\"use-hash\");\n",
              "        }\n",
              "        function executeAllScripts(root) {\n",
              "          // When `script` elements are inserted into the DOM by\n",
              "          // assigning to an element's `innerHTML`, the scripts are not\n",
              "          // executed. Thus, we manually re-insert these scripts so that\n",
              "          // TensorBoard can initialize itself.\n",
              "          for (const script of root.querySelectorAll(\"script\")) {\n",
              "            const newScript = document.createElement(\"script\");\n",
              "            newScript.type = script.type;\n",
              "            newScript.textContent = script.textContent;\n",
              "            root.appendChild(newScript);\n",
              "            script.remove();\n",
              "          }\n",
              "        }\n",
              "        function setHeight(root, height) {\n",
              "          // We set the height dynamically after the TensorBoard UI has\n",
              "          // been initialized. This avoids an intermediate state in\n",
              "          // which the container plus the UI become taller than the\n",
              "          // final width and cause the Colab output frame to be\n",
              "          // permanently resized, eventually leading to an empty\n",
              "          // vertical gap below the TensorBoard UI. It's not clear\n",
              "          // exactly what causes this problematic intermediate state,\n",
              "          // but setting the height late seems to fix it.\n",
              "          root.style.height = `${height}px`;\n",
              "        }\n",
              "        const root = document.getElementById(\"root\");\n",
              "        fetch(\".\")\n",
              "          .then((x) => x.text())\n",
              "          .then((html) => void (root.innerHTML = html))\n",
              "          .then(() => fixUpTensorboard(root))\n",
              "          .then(() => executeAllScripts(root))\n",
              "          .then(() => setHeight(root, 800));\n",
              "      })();\n",
              "    </script>\n",
              "  "
            ],
            "text/plain": [
              "<IPython.core.display.HTML object>"
            ]
          },
          "metadata": {
            "tags": []
          }
        }
      ]
    },
    {
      "cell_type": "code",
      "metadata": {
        "id": "hHlccmssWKT5",
        "colab_type": "code",
        "colab": {}
      },
      "source": [
        "# prevents tensorboard from creating new precision_1, precision_2 etc.\n",
        "tf.reset_default_graph()"
      ],
      "execution_count": 0,
      "outputs": []
    },
    {
      "cell_type": "markdown",
      "metadata": {
        "id": "d0DfAb4lk-AA",
        "colab_type": "text"
      },
      "source": [
        "# data plots"
      ]
    },
    {
      "cell_type": "code",
      "metadata": {
        "id": "Qv_0G0IdDw5m",
        "colab_type": "code",
        "outputId": "d907c21d-66a0-48ec-d3ea-34edb090fe0f",
        "colab": {
          "base_uri": "https://localhost:8080/",
          "height": 542
        }
      },
      "source": [
        "import plotly.express as px\n",
        "fig = px.histogram(merged_plot_data, x='DATA SET', color=\"CLASS\")\n",
        "fig.show()\n"
      ],
      "execution_count": 19,
      "outputs": [
        {
          "output_type": "display_data",
          "data": {
            "text/html": [
              "<html>\n",
              "<head><meta charset=\"utf-8\" /></head>\n",
              "<body>\n",
              "    <div>\n",
              "            <script src=\"https://cdnjs.cloudflare.com/ajax/libs/mathjax/2.7.5/MathJax.js?config=TeX-AMS-MML_SVG\"></script><script type=\"text/javascript\">if (window.MathJax) {MathJax.Hub.Config({SVG: {font: \"STIX-Web\"}});}</script>\n",
              "                <script type=\"text/javascript\">window.PlotlyConfig = {MathJaxConfig: 'local'};</script>\n",
              "        <script src=\"https://cdn.plot.ly/plotly-latest.min.js\"></script>    \n",
              "            <div id=\"f0b7719b-bcfb-48c1-921a-3448c86df711\" class=\"plotly-graph-div\" style=\"height:525px; width:100%;\"></div>\n",
              "            <script type=\"text/javascript\">\n",
              "                \n",
              "                    window.PLOTLYENV=window.PLOTLYENV || {};\n",
              "                    \n",
              "                if (document.getElementById(\"f0b7719b-bcfb-48c1-921a-3448c86df711\")) {\n",
              "                    Plotly.newPlot(\n",
              "                        'f0b7719b-bcfb-48c1-921a-3448c86df711',\n",
              "                        [{\"alignmentgroup\": \"True\", \"bingroup\": \"x\", \"hoverlabel\": {\"namelength\": 0}, \"hovertemplate\": \"CLASS=1<br>DATA SET=%{x}<br>count=%{y}\", \"legendgroup\": \"CLASS=1\", \"marker\": {\"color\": \"#636efa\"}, \"name\": \"CLASS=1\", \"offsetgroup\": \"CLASS=1\", \"orientation\": \"v\", \"showlegend\": true, \"type\": \"histogram\", \"x\": [\"train\", \"train\", \"train\", \"train\", \"train\", \"train\", \"train\", \"train\", \"train\", \"train\", \"train\", \"train\", \"train\", \"train\", \"train\", \"train\", \"train\", \"train\", \"train\", \"train\", \"train\", \"train\", \"train\", \"train\", \"train\", \"train\", \"train\", \"train\", \"train\", \"train\", \"train\", \"train\", \"train\", \"train\", \"train\", \"train\", \"train\", \"train\", \"train\", \"train\", \"train\", \"train\", \"train\", \"train\", \"train\", \"train\", \"train\", \"train\", \"train\", \"train\", \"train\", \"train\", \"train\", \"train\", \"train\", \"train\", \"train\", \"train\", \"train\", \"train\", \"train\", \"train\", \"train\", \"train\", \"train\", \"train\", \"train\", \"train\", \"train\", \"train\", \"train\", \"train\", \"train\", \"train\", \"train\", \"train\", \"train\", \"train\", \"train\", \"train\", \"train\", \"train\", \"train\", \"train\", \"train\", \"train\", \"train\", \"train\", \"train\", \"train\", \"train\", \"train\", \"train\", \"train\", \"train\", \"train\", \"train\", \"train\", \"train\", \"train\", \"train\", \"train\", \"train\", \"train\", \"train\", \"train\", \"train\", \"train\", \"train\", \"train\", \"train\", \"train\", \"train\", \"train\", \"train\", \"train\", \"train\", \"train\", \"train\", \"train\", \"train\", \"train\", \"train\", \"train\", \"train\", \"train\", \"train\", \"train\", \"train\", \"train\", \"train\", \"train\", \"train\", \"train\", \"train\", \"train\", \"train\", \"train\", \"train\", \"train\", \"train\", \"train\", \"train\", \"train\", \"train\", \"train\", \"train\", \"train\", \"train\", \"train\", \"train\", \"train\", \"train\", \"train\", \"train\", \"train\", \"train\", \"train\", \"train\", \"train\", \"train\", \"train\", \"train\", \"train\", \"train\", \"train\", \"train\", \"train\", \"train\", \"train\", \"train\", \"train\", \"train\", \"train\", \"train\", \"train\", \"train\", \"train\", \"train\", \"train\", \"train\", \"train\", \"train\", \"train\", \"train\", \"train\", \"train\", \"train\", \"train\", \"train\", \"train\", \"train\", \"train\", \"train\", \"train\", \"train\", \"train\", \"train\", \"train\", \"train\", \"train\", \"train\", \"train\", \"train\", \"train\", \"train\", \"train\", \"train\", \"train\", \"train\", \"train\", \"train\", \"train\", \"train\", \"train\", \"train\", \"train\", \"train\", \"train\", \"train\", \"train\", \"train\", \"train\", \"train\", \"train\", \"train\", \"train\", \"train\", \"train\", \"train\", \"train\", \"train\", \"train\", \"train\", \"train\", \"train\", \"train\", \"train\", \"train\", \"train\", \"train\", \"train\", \"train\", \"train\", \"train\", \"train\", \"train\", \"train\", \"train\", \"train\", \"train\", \"train\", \"train\", \"train\", \"train\", \"train\", \"train\", \"train\", \"train\", \"train\", \"train\", \"train\", \"train\", \"train\", \"train\", \"train\", \"train\", \"train\", \"train\", \"train\", \"train\", \"train\", \"train\", \"train\", \"train\", \"train\", \"train\", \"train\", \"train\", \"train\", \"train\", \"train\", \"train\", \"train\", \"train\", \"train\", \"train\", \"train\", \"train\", \"train\", \"train\", \"train\", \"train\", \"train\", \"train\", \"train\", \"train\", \"train\", \"train\", \"train\", \"train\", \"train\", \"train\", \"train\", \"train\", \"train\", \"train\", \"train\", \"train\", \"train\", \"train\", \"train\", \"train\", \"train\", \"train\", \"train\", \"train\", \"train\", \"train\", \"train\", \"train\", \"train\", \"train\", \"train\", \"train\", \"train\", \"train\", \"train\", \"train\", \"train\", \"train\", \"train\", \"train\", \"train\", \"train\", \"train\", \"train\", \"train\", \"train\", \"train\", \"train\", \"train\", \"train\", \"train\", \"train\", \"train\", \"train\", \"train\", \"train\", \"train\", \"train\", \"train\", \"train\", \"train\", \"train\", \"train\", \"train\", \"train\", \"train\", \"train\", \"train\", \"train\", \"train\", \"train\", \"train\", \"train\", \"train\", \"train\", \"train\", \"train\", \"train\", \"train\", \"train\", \"train\", \"train\", \"train\", \"train\", \"train\", \"train\", \"train\", \"train\", \"train\", \"train\", \"train\", \"train\", \"train\", \"train\", \"train\", \"train\", \"train\", \"train\", \"train\", \"train\", \"train\", \"train\", \"train\", \"train\", \"train\", \"train\", \"train\", \"train\", \"train\", \"train\", \"train\", \"train\", \"train\", \"train\", \"train\", \"train\", \"train\", \"train\", \"train\", \"train\", \"train\", \"train\", \"train\", \"train\", \"train\", \"train\", \"train\", \"train\", \"train\", \"train\", \"train\", \"train\", \"train\", \"train\", \"train\", \"train\", \"train\", \"train\", \"train\", \"train\", \"train\", \"train\", \"train\", \"train\", \"train\", \"train\", \"train\", \"train\", \"train\", \"train\", \"train\", \"train\", \"train\", \"train\", \"train\", \"train\", \"train\", \"train\", \"train\", \"train\", \"train\", \"train\", \"train\", \"train\", \"train\", \"train\", \"train\", \"train\", \"train\", \"train\", \"train\", \"train\", \"train\", \"train\", \"train\", \"train\", \"train\", \"train\", \"train\", \"train\", \"train\", \"train\", \"train\", \"train\", \"train\", \"train\", \"train\", \"train\", \"train\", \"train\", \"train\", \"train\", \"train\", \"train\", \"train\", \"train\", \"train\", \"train\", \"train\", \"train\", \"train\", \"train\", \"train\", \"train\", \"train\", \"train\", \"train\", \"train\", \"train\", \"train\", \"train\", \"train\", \"train\", \"train\", \"train\", \"train\", \"train\", \"train\", \"train\", \"train\", \"train\", \"train\", \"train\", \"train\", \"train\", \"train\", \"train\", \"train\", \"train\", \"train\", \"train\", \"train\", \"train\", \"train\", \"train\", \"train\", \"train\", \"train\", \"train\", \"train\", \"train\", \"train\", \"train\", \"train\", \"train\", \"train\", \"train\", \"train\", \"train\", \"train\", \"train\", \"train\", \"train\", \"train\", \"train\", \"train\", \"train\", \"train\", \"train\", \"train\", \"train\", \"train\", \"train\", \"train\", \"train\", \"train\", \"train\", \"train\", \"train\", \"train\", \"train\", \"train\", \"train\", \"train\", \"train\", \"train\", \"train\", \"train\", \"train\", \"train\", \"train\", \"train\", \"train\", \"train\", \"train\", \"train\", \"train\", \"train\", \"train\", \"train\", \"train\", \"train\", \"train\", \"train\", \"train\", \"train\", \"train\", \"train\", \"train\", \"train\", \"train\", \"train\", \"train\", \"train\", \"train\", \"train\", \"train\", \"train\", \"train\", \"train\", \"train\", \"train\", \"train\", \"train\", \"train\", \"train\", \"train\", \"train\", \"train\", \"train\", \"train\", \"train\", \"train\", \"train\", \"train\", \"train\", \"train\", \"train\", \"train\", \"train\", \"train\", \"train\", \"train\", \"train\", \"train\", \"train\", \"train\", \"train\", \"train\", \"train\", \"train\", \"train\", \"train\", \"train\", \"train\", \"train\", \"train\", \"train\", \"train\", \"train\", \"train\", \"train\", \"train\", \"train\", \"train\", \"train\", \"train\", \"train\", \"train\", \"train\", \"train\", \"train\", \"train\", \"train\", \"train\", \"train\", \"train\", \"train\", \"train\", \"train\", \"train\", \"train\", \"train\", \"train\", \"train\", \"train\", \"train\", \"train\", \"train\", \"train\", \"train\", \"train\", \"train\", \"train\", \"train\", \"train\", \"train\", \"train\", \"train\", \"train\", \"train\", \"train\", \"train\", \"train\", \"train\", \"train\", \"train\", \"train\", \"train\", \"train\", \"train\", \"train\", \"train\", \"train\", \"train\", \"train\", \"train\", \"train\", \"train\", \"train\", \"train\", \"train\", \"train\", \"train\", \"train\", \"train\", \"train\", \"train\", \"train\", \"train\", \"train\", \"train\", \"train\", \"train\", \"train\", \"train\", \"train\", \"train\", \"train\", \"train\", \"train\", \"train\", \"train\", \"train\", \"train\", \"train\", \"train\", \"train\", \"train\", \"train\", \"train\", \"train\", \"train\", \"train\", \"train\", \"train\", \"train\", \"train\", \"train\", \"train\", \"train\", \"train\", \"train\", \"train\", \"train\", \"train\", \"train\", \"train\", \"train\", \"train\", \"train\", \"train\", \"train\", \"train\", \"train\", \"train\", \"train\", \"train\", \"train\", \"train\", \"train\", \"train\", \"train\", \"train\", \"train\", \"train\", \"train\", \"train\", \"train\", \"train\", \"train\", \"train\", \"train\", \"train\", \"train\", \"train\", \"train\", \"train\", \"train\", \"train\", \"train\", \"train\", \"train\", \"train\", \"train\", \"train\", \"train\", \"train\", \"train\", \"train\", \"train\", \"train\", \"train\", \"train\", \"train\", \"train\", \"train\", \"train\", \"train\", \"train\", \"train\", \"train\", \"train\", \"train\", \"train\", \"train\", \"train\", \"train\", \"train\", \"train\", \"train\", \"train\", \"train\", \"train\", \"train\", \"train\", \"train\", \"train\", \"train\", \"train\", \"train\", \"train\", \"train\", \"train\", \"train\", \"train\", \"train\", \"train\", \"train\", \"train\", \"train\", \"train\", \"train\", \"train\", \"train\", \"train\", \"train\", \"train\", \"train\", \"train\", \"train\", \"train\", \"train\", \"train\", \"train\", \"train\", \"train\", \"train\", \"train\", \"train\", \"train\", \"train\", \"train\", \"train\", \"train\", \"train\", \"train\", \"train\", \"train\", \"train\", \"train\", \"train\", \"train\", \"train\", \"train\", \"train\", \"train\", \"train\", \"train\", \"train\", \"train\", \"train\", \"train\", \"train\", \"train\", \"train\", \"train\", \"train\", \"train\", \"train\", \"train\", \"train\", \"train\", \"train\", \"train\", \"train\", \"train\", \"train\", \"train\", \"train\", \"train\", \"train\", \"train\", \"train\", \"train\", \"train\", \"train\", \"train\", \"train\", \"train\", \"train\", \"train\", \"train\", \"train\", \"train\", \"train\", \"train\", \"train\", \"train\", \"train\", \"train\", \"train\", \"train\", \"train\", \"train\", \"train\", \"train\", \"train\", \"train\", \"train\", \"train\", \"train\", \"train\", \"train\", \"train\", \"train\", \"train\", \"train\", \"train\", \"train\", \"train\", \"train\", \"train\", \"train\", \"train\", \"train\", \"train\", \"train\", \"train\", \"train\", \"train\", \"train\", \"train\", \"train\", \"train\", \"train\", \"train\", \"train\", \"train\", \"train\", \"train\", \"train\", \"train\", \"train\", \"train\", \"train\", \"train\", \"train\", \"train\", \"train\", \"train\", \"train\", \"train\", \"train\", \"train\", \"train\", \"train\", \"train\", \"train\", \"train\", \"train\", \"train\", \"train\", \"train\", \"train\", \"train\", \"train\", \"train\", \"train\", \"train\", \"train\", \"train\", \"train\", \"train\", \"train\", \"train\", \"train\", \"train\", \"train\", \"train\", \"train\", \"train\", \"train\", \"train\", \"train\", \"train\", \"train\", \"train\", \"train\", \"train\", \"train\", \"train\", \"train\", \"train\", \"train\", \"train\", \"train\", \"train\", \"train\", \"train\", \"train\", \"train\", \"train\", \"train\", \"train\", \"train\", \"train\", \"train\", \"train\", \"train\", \"train\", \"train\", \"train\", \"train\", \"train\", \"train\", \"train\", \"train\", \"train\", \"train\", \"train\", \"train\", \"train\", \"train\", \"train\", \"train\", \"train\", \"train\", \"train\", \"train\", \"train\", \"train\", \"train\", \"train\", \"train\", \"train\", \"train\", \"train\", \"train\", \"train\", \"train\", \"train\", \"train\", \"train\", \"train\", \"train\", \"train\", \"train\", \"train\", \"train\", \"train\", \"train\", \"train\", \"train\", \"train\", \"train\", \"train\", \"train\", \"train\", \"train\", \"train\", \"train\", \"train\", \"train\", \"train\", \"train\", \"train\", \"train\", \"train\", \"train\", \"train\", \"train\", \"train\", \"train\", \"train\", \"train\", \"train\", \"train\", \"train\", \"train\", \"train\", \"train\", \"train\", \"train\", \"train\", \"train\", \"train\", \"train\", \"train\", \"train\", \"train\", \"train\", \"train\", \"train\", \"train\", \"train\", \"train\", \"train\", \"train\", \"train\", \"train\", \"train\", \"train\", \"train\", \"train\", \"train\", \"train\", \"train\", \"train\", \"train\", \"train\", \"train\", \"train\", \"train\", \"train\", \"train\", \"train\", \"train\", \"train\", \"train\", \"train\", \"train\", \"train\", \"train\", \"train\", \"train\", \"train\", \"train\", \"train\", \"train\", \"train\", \"train\", \"train\", \"train\", \"train\", \"train\", \"train\", \"train\", \"train\", \"train\", \"train\", \"train\", \"train\", \"train\", \"train\", \"train\", \"train\", \"train\", \"train\", \"train\", \"train\", \"train\", \"train\", \"train\", \"train\", \"train\", \"train\", \"train\", \"train\", \"train\", \"train\", \"train\", \"train\", \"train\", \"train\", \"train\", \"train\", \"train\", \"train\", \"train\", \"train\", \"train\", \"train\", \"train\", \"train\", \"train\", \"train\", \"train\", \"train\", \"train\", \"train\", \"train\", \"train\", \"train\", \"train\", \"train\", \"train\", \"train\", \"train\", \"train\", \"train\", \"train\", \"train\", \"train\", \"train\", \"train\", \"train\", \"train\", \"train\", \"train\", \"train\", \"train\", \"train\", \"train\", \"train\", \"train\", \"train\", \"train\", \"train\", \"train\", \"train\", \"train\", \"train\", \"train\", \"train\", \"train\", \"train\", \"train\", \"train\", \"train\", \"train\", \"train\", \"train\", \"train\", \"train\", \"train\", \"train\", \"train\", \"train\", \"train\", \"train\", \"train\", \"train\", \"train\", \"train\", \"train\", \"train\", \"train\", \"train\", \"train\", \"train\", \"train\", \"train\", \"train\", \"train\", \"train\", \"train\", \"train\", \"train\", \"train\", \"train\", \"train\", \"train\", \"train\", \"train\", \"train\", \"train\", \"train\", \"train\", \"train\", \"train\", \"train\", \"train\", \"train\", \"train\", \"train\", \"train\", \"train\", \"train\", \"train\", \"train\", \"train\", \"train\", \"train\", \"train\", \"train\", \"train\", \"train\", \"train\", \"train\", \"train\", \"train\", \"train\", \"train\", \"train\", \"train\", \"train\", \"train\", \"train\", \"train\", \"train\", \"train\", \"train\", \"train\", \"train\", \"train\", \"train\", \"train\", \"train\", \"train\", \"train\", \"train\", \"train\", \"train\", \"train\", \"train\", \"train\", \"train\", \"train\", \"train\", \"train\", \"train\", \"train\", \"train\", \"train\", \"train\", \"train\", \"train\", \"train\", \"train\", \"train\", \"train\", \"train\", \"train\", \"train\", \"train\", \"train\", \"train\", \"train\", \"train\", \"train\", \"train\", \"train\", \"train\", \"train\", \"train\", \"train\", \"train\", \"train\", \"train\", \"train\", \"train\", \"train\", \"train\", \"train\", \"train\", \"train\", \"train\", \"train\", \"train\", \"train\", \"train\", \"train\", \"train\", \"train\", \"train\", \"train\", \"train\", \"train\", \"train\", \"train\", \"train\", \"train\", \"train\", \"train\", \"train\", \"train\", \"train\", \"train\", \"train\", \"train\", \"train\", \"train\", \"train\", \"train\", \"train\", \"train\", \"train\", \"train\", \"train\", \"train\", \"train\", \"train\", \"train\", \"train\", \"train\", \"train\", \"train\", \"train\", \"train\", \"train\", \"train\", \"train\", \"train\", \"train\", \"train\", \"train\", \"train\", \"train\", \"train\", \"train\", \"train\", \"train\", \"train\", \"train\", \"train\", \"train\", \"train\", \"train\", \"train\", \"train\", \"train\", \"train\", \"train\", \"train\", \"train\", \"train\", \"train\", \"train\", \"train\", \"train\", \"train\", \"train\", \"train\", \"train\", \"train\", \"train\", \"train\", \"train\", \"train\", \"train\", \"train\", \"train\", \"train\", \"train\", \"train\", \"train\", \"train\", \"train\", \"train\", \"train\", \"train\", \"train\", \"train\", \"train\", \"train\", \"train\", \"train\", \"train\", \"train\", \"train\", \"train\", \"train\", \"train\", \"train\", \"train\", \"train\", \"train\", \"train\", \"train\", \"train\", \"train\", \"train\", \"train\", \"train\", \"train\", \"train\", \"train\", \"train\", \"train\", \"train\", \"train\", \"train\", \"train\", \"train\", \"train\", \"train\", \"train\", \"train\", \"train\", \"train\", \"train\", \"train\", \"train\", \"train\", \"train\", \"train\", \"train\", \"train\", \"train\", \"train\", \"train\", \"train\", \"train\", \"train\", \"train\", \"train\", \"train\", \"train\", \"train\", \"train\", \"train\", \"train\", \"train\", \"train\", \"train\", \"train\", \"train\", \"train\", \"train\", \"val\", \"val\", \"val\", \"val\", \"val\", \"val\", \"val\", \"val\", \"val\", \"val\", \"val\", \"val\", \"val\", \"val\", \"val\", \"val\", \"val\", \"val\", \"val\", \"val\", \"val\", \"val\", \"val\", \"val\", \"val\", \"val\", \"val\", \"val\", \"val\", \"val\", \"val\", \"val\", \"val\", \"val\", \"val\", \"val\", \"val\", \"val\", \"val\", \"val\", \"val\", \"val\", \"val\", \"val\", \"val\", \"val\", \"val\", \"val\", \"val\", \"val\", \"val\", \"val\", \"val\", \"val\", \"val\", \"val\", \"val\", \"val\", \"val\", \"val\", \"val\", \"val\", \"val\", \"val\", \"val\", \"val\", \"val\", \"val\", \"val\", \"val\", \"val\", \"val\", \"val\", \"val\", \"val\", \"val\", \"val\", \"val\", \"val\", \"val\", \"val\", \"val\", \"val\", \"val\", \"val\", \"val\", \"val\", \"val\", \"val\", \"val\", \"val\", \"val\", \"val\", \"val\", \"val\", \"val\", \"val\", \"val\", \"val\", \"val\", \"val\", \"val\", \"val\", \"val\", \"val\", \"val\", \"val\", \"val\", \"val\", \"val\", \"val\", \"val\", \"val\", \"val\", \"val\", \"val\", \"val\", \"val\", \"val\", \"val\", \"val\", \"val\", \"val\", \"val\", \"val\", \"val\", \"val\", \"val\", \"val\", \"val\", \"val\", \"val\", \"val\", \"val\", \"val\", \"val\", \"val\", \"val\", \"val\", \"val\", \"val\", \"val\", \"val\", \"val\", \"val\", \"val\", \"val\", \"val\", \"val\", \"val\", \"val\", \"val\", \"val\", \"val\", \"val\", \"val\", \"val\", \"val\", \"val\", \"val\", \"val\", \"val\", \"val\", \"val\", \"val\", \"val\", \"val\", \"val\", \"val\", \"val\", \"val\", \"val\", \"val\", \"val\", \"val\", \"val\", \"val\", \"val\", \"val\", \"val\", \"val\", \"val\", \"val\", \"val\", \"val\", \"val\", \"val\", \"val\", \"val\", \"val\", \"val\", \"val\", \"val\", \"val\", \"val\", \"val\", \"val\", \"val\", \"val\", \"val\", \"val\", \"val\", \"val\", \"val\", \"val\", \"val\", \"val\", \"val\", \"val\", \"val\", \"val\", \"val\", \"val\", \"val\", \"val\", \"val\", \"val\", \"val\", \"val\", \"val\", \"val\", \"val\", \"val\", \"val\", \"val\", \"val\", \"val\", \"val\", \"val\", \"val\", \"val\", \"val\", \"val\", \"val\", \"val\", \"val\", \"val\", \"val\", \"val\", \"val\", \"val\", \"val\", \"val\", \"val\", \"val\", \"val\", \"val\", \"val\", \"val\", \"val\", \"val\", \"val\", \"val\", \"val\", \"val\", \"val\", \"val\", \"val\", \"val\", \"val\", \"val\", \"val\", \"val\", \"val\", \"val\", \"val\", \"val\", \"val\", \"val\", \"val\", \"val\", \"val\", \"val\", \"val\", \"val\", \"val\", \"val\", \"val\", \"val\", \"val\", \"val\", \"val\", \"val\", \"val\", \"val\", \"val\", \"val\", \"val\", \"val\", \"val\", \"val\", \"val\", \"val\", \"val\", \"val\", \"val\", \"val\", \"val\", \"val\", \"val\", \"val\", \"val\", \"val\", \"val\", \"val\", \"val\", \"val\", \"val\", \"val\", \"val\", \"val\", \"val\", \"val\", \"val\", \"val\", \"val\", \"val\", \"val\", \"val\", \"val\", \"val\", \"val\", \"val\", \"val\", \"val\", \"val\", \"val\", \"val\", \"val\", \"val\", \"val\", \"val\", \"val\", \"val\", \"val\", \"val\", \"val\", \"val\", \"val\", \"val\", \"val\", \"val\", \"val\", \"val\", \"val\", \"val\", \"val\", \"val\", \"val\", \"val\", \"val\", \"val\", \"val\", \"val\", \"val\", \"val\", \"val\", \"val\", \"val\", \"val\", \"val\", \"val\", \"val\", \"val\", \"val\", \"val\", \"val\", \"val\", \"val\", \"val\", \"val\", \"val\", \"val\", \"val\", \"val\", \"val\", \"val\", \"val\", \"val\", \"val\", \"val\", \"val\", \"val\", \"val\", \"val\", \"val\", \"val\", \"val\", \"val\", \"val\", \"val\", \"val\", \"val\", \"val\", \"val\", \"val\", \"val\", \"val\", \"val\", \"val\", \"val\", \"val\", \"val\", \"val\", \"val\", \"val\", \"val\", \"val\", \"val\", \"val\", \"val\", \"val\", \"val\", \"val\", \"val\", \"val\", \"val\", \"val\", \"val\", \"val\", \"val\", \"val\", \"val\", \"val\", \"val\", \"val\", \"val\", \"val\", \"val\", \"val\", \"val\", \"val\", \"val\", \"val\", \"val\", \"val\", \"val\", \"val\", \"val\", \"val\", \"val\", \"val\", \"val\", \"val\", \"val\", \"val\", \"val\", \"val\", \"val\", \"val\", \"val\", \"val\", \"val\", \"val\", \"val\", \"val\", \"val\", \"val\", \"val\", \"val\", \"val\", \"val\", \"val\", \"val\", \"val\", \"val\", \"val\", \"val\", \"val\", \"val\", \"val\", \"val\", \"val\", \"val\", \"val\", \"val\", \"val\", \"val\", \"val\", \"val\", \"val\", \"val\", \"val\", \"val\", \"val\", \"val\", \"val\", \"val\", \"val\", \"val\", \"val\", \"val\", \"val\", \"val\", \"val\", \"val\", \"val\", \"val\", \"val\", \"val\", \"val\", \"val\", \"val\", \"val\", \"val\", \"val\", \"val\", \"val\", \"val\", \"val\", \"val\", \"val\", \"val\", \"val\", \"val\", \"val\", \"val\", \"val\", \"val\", \"val\", \"val\", \"val\", \"val\", \"val\", \"val\", \"val\", \"val\", \"val\", \"val\", \"val\", \"val\", \"val\", \"val\", \"val\", \"val\", \"val\", \"val\", \"val\", \"val\", \"val\", \"val\", \"val\", \"val\", \"val\", \"val\", \"val\", \"val\", \"val\", \"val\", \"val\", \"val\", \"val\", \"val\", \"val\", \"val\", \"val\", \"val\", \"val\", \"val\", \"val\", \"val\", \"val\", \"val\", \"val\", \"val\", \"val\", \"val\", \"val\", \"val\", \"val\", \"val\", \"val\", \"val\", \"val\", \"val\", \"val\", \"val\", \"val\", \"val\", \"val\", \"val\", \"val\", \"val\", \"val\", \"val\", \"val\", \"val\", \"val\", \"val\", \"val\", \"val\", \"val\", \"val\", \"val\", \"val\", \"val\", \"val\", \"val\", \"val\", \"val\", \"val\", \"val\", \"val\", \"val\", \"val\", \"val\", \"val\", \"val\", \"val\", \"val\", \"val\", \"val\", \"val\", \"val\", \"val\", \"val\", \"val\", \"val\", \"val\", \"val\", \"val\", \"val\", \"val\", \"val\", \"val\", \"val\", \"val\", \"val\", \"val\", \"val\", \"val\", \"val\", \"val\", \"val\", \"val\", \"val\", \"val\", \"val\", \"val\", \"val\", \"val\", \"val\", \"val\", \"val\", \"val\", \"val\", \"val\", \"val\", \"val\", \"val\", \"val\", \"val\", \"val\", \"val\", \"val\", \"val\", \"val\", \"val\", \"val\", \"val\", \"val\", \"val\", \"val\", \"val\", \"val\", \"val\", \"val\", \"val\", \"val\", \"val\", \"val\", \"val\", \"val\", \"val\", \"val\", \"val\", \"val\", \"val\", \"val\", \"val\", \"val\", \"val\", \"val\", \"val\", \"val\", \"val\", \"val\", \"val\", \"val\", \"val\", \"val\", \"val\", \"val\", \"val\", \"val\", \"val\", \"val\", \"val\", \"val\", \"val\", \"val\", \"val\", \"val\", \"val\", \"val\", \"val\", \"val\", \"val\", \"val\", \"val\", \"val\", \"val\", \"val\", \"val\", \"val\", \"val\", \"val\", \"val\", \"val\", \"val\", \"val\", \"val\", \"val\", \"val\", \"val\", \"val\", \"val\", \"val\", \"val\", \"val\", \"val\", \"val\", \"val\", \"val\", \"val\", \"val\", \"val\", \"val\", \"val\", \"val\", \"val\", \"val\", \"val\", \"val\", \"val\", \"val\", \"val\", \"val\", \"val\", \"val\", \"val\", \"val\", \"val\", \"val\", \"val\", \"val\", \"val\", \"val\", \"val\", \"val\", \"val\", \"val\", \"val\", \"val\", \"val\", \"val\", \"val\", \"val\", \"val\", \"val\", \"val\", \"val\", \"val\", \"val\", \"val\", \"val\", \"val\", \"val\", \"val\", \"val\", \"val\", \"val\", \"val\", \"val\", \"val\", \"val\", \"val\", \"val\", \"val\", \"val\", \"val\", \"val\", \"val\", \"val\", \"val\", \"val\", \"val\", \"val\", \"val\", \"val\", \"val\", \"val\", \"val\", \"val\", \"val\", \"val\", \"val\", \"val\", \"val\", \"val\", \"val\", \"val\", \"val\", \"val\", \"val\", \"val\", \"val\", \"val\", \"val\", \"val\", \"val\", \"val\", \"val\", \"val\", \"val\", \"val\", \"val\", \"val\", \"val\", \"val\", \"val\", \"val\", \"val\", \"val\", \"val\", \"val\", \"val\", \"val\", \"val\", \"val\", \"val\", \"val\", \"val\", \"val\", \"val\", \"val\", \"val\", \"val\", \"val\", \"val\", \"val\", \"val\", \"val\", \"val\", \"val\", \"val\", \"val\", \"val\", \"val\", \"val\", \"val\", \"val\", \"val\", \"val\", \"val\", \"val\", \"val\", \"val\", \"val\", \"val\", \"val\", \"val\", \"val\", \"val\", \"val\", \"val\", \"val\", \"val\", \"val\", \"val\", \"val\", \"val\", \"val\", \"val\", \"val\", \"val\", \"val\", \"val\", \"val\", \"val\", \"val\", \"val\", \"val\", \"val\", \"val\", \"val\", \"val\", \"val\", \"val\", \"val\", \"val\", \"val\", \"val\", \"val\", \"val\", \"val\", \"val\", \"val\", \"val\", \"val\", \"val\", \"val\", \"val\", \"val\", \"val\", \"val\", \"val\", \"val\", \"val\", \"val\", \"val\", \"val\", \"val\", \"val\", \"val\", \"val\", \"val\", \"val\", \"val\", \"val\", \"val\", \"val\", \"val\", \"val\", \"val\", \"val\", \"val\", \"val\", \"val\", \"val\", \"val\", \"val\", \"val\", \"val\", \"val\", \"val\", \"val\", \"val\", \"val\", \"val\", \"val\", \"val\", \"val\", \"val\", \"val\", \"val\", \"val\", \"val\", \"val\", \"val\", \"val\", \"val\", \"val\", \"val\", \"val\", \"val\", \"val\", \"val\", \"val\", \"val\", \"val\", \"val\", \"val\", \"val\", \"val\", \"val\", \"val\", \"val\", \"val\", \"val\", \"val\", \"val\", \"val\", \"val\", \"val\", \"val\", \"val\", \"val\", \"val\", \"val\", \"val\", \"val\", \"val\", \"val\", \"val\", \"val\", \"val\", \"val\", \"val\", \"val\", \"val\", \"val\", \"val\", \"val\", \"val\", \"val\", \"val\", \"val\", \"val\", \"val\", \"val\", \"val\", \"val\", \"val\", \"val\"], \"xaxis\": \"x\", \"yaxis\": \"y\"}, {\"alignmentgroup\": \"True\", \"bingroup\": \"x\", \"hoverlabel\": {\"namelength\": 0}, \"hovertemplate\": \"CLASS=0<br>DATA SET=%{x}<br>count=%{y}\", \"legendgroup\": \"CLASS=0\", \"marker\": {\"color\": \"#EF553B\"}, \"name\": \"CLASS=0\", \"offsetgroup\": \"CLASS=0\", \"orientation\": \"v\", \"showlegend\": true, \"type\": \"histogram\", \"x\": [\"train\", \"train\", \"train\", \"train\", \"train\", \"train\", \"train\", \"train\", \"train\", \"train\", \"train\", \"train\", \"train\", \"train\", \"train\", \"train\", \"train\", \"train\", \"train\", \"train\", \"train\", \"train\", \"train\", \"train\", \"train\", \"train\", \"train\", \"train\", \"train\", \"train\", \"train\", \"train\", \"train\", \"train\", \"train\", \"train\", \"train\", \"train\", \"train\", \"train\", \"train\", \"train\", \"train\", \"train\", \"train\", \"train\", \"train\", \"train\", \"train\", \"train\", \"train\", \"train\", \"train\", \"train\", \"train\", \"train\", \"train\", \"train\", \"train\", \"train\", \"train\", \"train\", \"train\", \"train\", \"train\", \"train\", \"train\", \"train\", \"train\", \"train\", \"train\", \"train\", \"train\", \"train\", \"train\", \"train\", \"train\", \"train\", \"train\", \"train\", \"train\", \"train\", \"train\", \"train\", \"train\", \"train\", \"train\", \"train\", \"train\", \"train\", \"train\", \"train\", \"train\", \"train\", \"train\", \"train\", \"train\", \"train\", \"train\", \"train\", \"train\", \"train\", \"train\", \"train\", \"train\", \"train\", \"train\", \"train\", \"train\", \"train\", \"train\", \"train\", \"train\", \"train\", \"train\", \"train\", \"train\", \"train\", \"train\", \"train\", \"train\", \"train\", \"train\", \"train\", \"train\", \"train\", \"train\", \"train\", \"train\", \"train\", \"train\", \"train\", \"train\", \"train\", \"train\", \"train\", \"train\", \"train\", \"train\", \"train\", \"train\", \"train\", \"train\", \"train\", \"train\", \"train\", \"train\", \"train\", \"train\", \"train\", \"train\", \"train\", \"train\", \"train\", \"train\", \"train\", \"train\", \"train\", \"train\", \"train\", \"train\", \"train\", \"train\", \"train\", \"train\", \"train\", \"train\", \"train\", \"train\", \"train\", \"train\", \"train\", \"train\", \"train\", \"train\", \"train\", \"train\", \"train\", \"train\", \"train\", \"train\", \"train\", \"train\", \"train\", \"train\", \"train\", \"train\", \"train\", \"train\", \"train\", \"train\", \"train\", \"train\", \"train\", \"train\", \"train\", \"train\", \"train\", \"train\", \"train\", \"train\", \"train\", \"train\", \"train\", \"train\", \"train\", \"train\", \"train\", \"train\", \"train\", \"train\", \"train\", \"train\", \"train\", \"train\", \"train\", \"train\", \"train\", \"train\", \"train\", \"train\", \"train\", \"train\", \"train\", \"train\", \"train\", \"train\", \"train\", \"train\", \"train\", \"train\", \"train\", \"train\", \"train\", \"train\", \"train\", \"train\", \"train\", \"train\", \"train\", \"train\", \"train\", \"train\", \"train\", \"train\", \"train\", \"train\", \"train\", \"train\", \"train\", \"train\", \"train\", \"train\", \"train\", \"train\", \"train\", \"train\", \"train\", \"train\", \"train\", \"train\", \"train\", \"train\", \"train\", \"train\", \"train\", \"train\", \"train\", \"train\", \"train\", \"train\", \"train\", \"train\", \"train\", \"train\", \"train\", \"train\", \"train\", \"train\", \"train\", \"train\", \"train\", \"train\", \"train\", \"train\", \"train\", \"train\", \"train\", \"train\", \"train\", \"train\", \"train\", \"train\", \"train\", \"train\", \"train\", \"train\", \"train\", \"train\", \"train\", \"train\", \"train\", \"train\", \"train\", \"train\", \"train\", \"train\", \"train\", \"train\", \"train\", \"train\", \"train\", \"train\", \"train\", \"train\", \"train\", \"train\", \"train\", \"train\", \"train\", \"train\", \"train\", \"train\", \"train\", \"train\", \"train\", \"train\", \"train\", \"train\", \"train\", \"train\", \"train\", \"train\", \"train\", \"train\", \"train\", \"train\", \"train\", \"train\", \"train\", \"train\", \"train\", \"train\", \"train\", \"train\", \"train\", \"train\", \"train\", \"train\", \"train\", \"train\", \"train\", \"train\", \"train\", \"train\", \"train\", \"train\", \"train\", \"train\", \"train\", \"train\", \"train\", \"train\", \"train\", \"train\", \"train\", \"train\", \"train\", \"train\", \"train\", \"train\", \"train\", \"train\", \"train\", \"train\", \"train\", \"train\", \"train\", \"train\", \"train\", \"train\", \"train\", \"train\", \"train\", \"train\", \"train\", \"train\", \"train\", \"train\", \"train\", \"train\", \"train\", \"train\", \"train\", \"train\", \"train\", \"train\", \"train\", \"train\", \"train\", \"train\", \"train\", \"train\", \"train\", \"train\", \"train\", \"train\", \"train\", \"train\", \"train\", \"train\", \"train\", \"train\", \"train\", \"train\", \"train\", \"train\", \"train\", \"train\", \"train\", \"train\", \"train\", \"train\", \"train\", \"train\", \"train\", \"train\", \"train\", \"train\", \"train\", \"train\", \"train\", \"train\", \"train\", \"train\", \"train\", \"train\", \"train\", \"train\", \"train\", \"train\", \"train\", \"train\", \"train\", \"train\", \"train\", \"train\", \"train\", \"train\", \"train\", \"train\", \"train\", \"train\", \"train\", \"train\", \"train\", \"train\", \"train\", \"train\", \"train\", \"train\", \"train\", \"train\", \"train\", \"train\", \"train\", \"train\", \"train\", \"train\", \"train\", \"train\", \"train\", \"train\", \"train\", \"train\", \"train\", \"train\", \"train\", \"train\", \"train\", \"train\", \"train\", \"train\", \"train\", \"train\", \"train\", \"train\", \"train\", \"train\", \"train\", \"train\", \"train\", \"train\", \"train\", \"train\", \"train\", \"train\", \"train\", \"train\", \"train\", \"train\", \"train\", \"train\", \"train\", \"train\", \"train\", \"train\", \"train\", \"train\", \"train\", \"train\", \"train\", \"train\", \"train\", \"train\", \"train\", \"train\", \"train\", \"train\", \"train\", \"train\", \"train\", \"train\", \"train\", \"train\", \"train\", \"train\", \"train\", \"train\", \"train\", \"train\", \"train\", \"train\", \"train\", \"train\", \"train\", \"train\", \"train\", \"train\", \"train\", \"train\", \"train\", \"train\", \"train\", \"train\", \"train\", \"train\", \"train\", \"train\", \"train\", \"train\", \"train\", \"train\", \"train\", \"train\", \"train\", \"train\", \"train\", \"train\", \"train\", \"train\", \"train\", \"train\", \"train\", \"train\", \"train\", \"train\", \"train\", \"train\", \"train\", \"train\", \"train\", \"train\", \"train\", \"train\", \"train\", \"train\", \"train\", \"train\", \"train\", \"train\", \"train\", \"train\", \"train\", \"train\", \"train\", \"train\", \"train\", \"train\", \"train\", \"train\", \"train\", \"train\", \"train\", \"train\", \"train\", \"train\", \"train\", \"train\", \"train\", \"train\", \"train\", \"train\", \"train\", \"train\", \"train\", \"train\", \"train\", \"train\", \"train\", \"train\", \"train\", \"train\", \"train\", \"train\", \"train\", \"train\", \"train\", \"train\", \"train\", \"train\", \"train\", \"train\", \"train\", \"train\", \"train\", \"train\", \"train\", \"train\", \"train\", \"train\", \"train\", \"train\", \"train\", \"train\", \"train\", \"train\", \"train\", \"train\", \"train\", \"train\", \"train\", \"train\", \"train\", \"train\", \"train\", \"train\", \"train\", \"train\", \"train\", \"train\", \"train\", \"train\", \"train\", \"train\", \"train\", \"train\", \"train\", \"train\", \"train\", \"train\", \"train\", \"train\", \"train\", \"train\", \"train\", \"train\", \"train\", \"train\", \"train\", \"train\", \"train\", \"train\", \"train\", \"train\", \"train\", \"train\", \"train\", \"train\", \"train\", \"train\", \"train\", \"train\", \"train\", \"train\", \"train\", \"train\", \"train\", \"train\", \"train\", \"train\", \"train\", \"train\", \"train\", \"train\", \"train\", \"train\", \"train\", \"train\", \"train\", \"train\", \"train\", \"train\", \"train\", \"train\", \"train\", \"train\", \"train\", \"train\", \"train\", \"train\", \"train\", \"train\", \"train\", \"train\", \"train\", \"train\", \"train\", \"train\", \"train\", \"train\", \"train\", \"train\", \"train\", \"train\", \"train\", \"train\", \"train\", \"train\", \"train\", \"train\", \"train\", \"train\", \"train\", \"train\", \"train\", \"train\", \"train\", \"train\", \"train\", \"train\", \"train\", \"train\", \"train\", \"train\", \"train\", \"train\", \"train\", \"train\", \"train\", \"train\", \"train\", \"train\", \"train\", \"train\", \"train\", \"train\", \"train\", \"train\", \"train\", \"train\", \"train\", \"train\", \"train\", \"train\", \"train\", \"train\", \"train\", \"train\", \"train\", \"train\", \"train\", \"train\", \"train\", \"train\", \"train\", \"train\", \"train\", \"train\", \"train\", \"train\", \"train\", \"train\", \"train\", \"train\", \"train\", \"train\", \"train\", \"train\", \"train\", \"train\", \"train\", \"train\", \"train\", \"train\", \"train\", \"train\", \"train\", \"train\", \"train\", \"train\", \"train\", \"train\", \"train\", \"train\", \"train\", \"train\", \"train\", \"train\", \"train\", \"train\", \"train\", \"train\", \"train\", \"train\", \"train\", \"train\", \"train\", \"train\", \"train\", \"train\", \"train\", \"train\", \"train\", \"train\", \"train\", \"train\", \"train\", \"train\", \"train\", \"train\", \"train\", \"train\", \"train\", \"train\", \"train\", \"train\", \"train\", \"train\", \"train\", \"train\", \"train\", \"train\", \"train\", \"train\", \"train\", \"train\", \"train\", \"train\", \"train\", \"train\", \"train\", \"train\", \"train\", \"train\", \"train\", \"train\", \"train\", \"train\", \"train\", \"train\", \"train\", \"train\", \"train\", \"train\", \"train\", \"train\", \"train\", \"train\", \"train\", \"train\", \"train\", \"train\", \"train\", \"train\", \"train\", \"train\", \"train\", \"train\", \"train\", \"train\", \"train\", \"train\", \"train\", \"train\", \"train\", \"train\", \"train\", \"train\", \"train\", \"train\", \"train\", \"train\", \"train\", \"train\", \"train\", \"train\", \"train\", \"train\", \"train\", \"train\", \"train\", \"train\", \"train\", \"train\", \"train\", \"train\", \"train\", \"train\", \"train\", \"train\", \"train\", \"train\", \"train\", \"train\", \"train\", \"train\", \"train\", \"train\", \"train\", \"train\", \"train\", \"train\", \"train\", \"train\", \"train\", \"train\", \"train\", \"train\", \"train\", \"train\", \"train\", \"train\", \"train\", \"train\", \"train\", \"train\", \"train\", \"train\", \"train\", \"train\", \"train\", \"train\", \"train\", \"train\", \"train\", \"train\", \"train\", \"train\", \"train\", \"train\", \"train\", \"train\", \"train\", \"train\", \"train\", \"train\", \"train\", \"train\", \"train\", \"train\", \"train\", \"train\", \"train\", \"train\", \"train\", \"train\", \"train\", \"train\", \"train\", \"train\", \"train\", \"train\", \"train\", \"train\", \"train\", \"train\", \"train\", \"train\", \"train\", \"train\", \"train\", \"train\", \"train\", \"train\", \"train\", \"train\", \"train\", \"train\", \"train\", \"train\", \"train\", \"train\", \"train\", \"train\", \"train\", \"train\", \"train\", \"train\", \"train\", \"train\", \"train\", \"train\", \"train\", \"train\", \"train\", \"train\", \"train\", \"train\", \"train\", \"train\", \"train\", \"train\", \"train\", \"train\", \"train\", \"train\", \"train\", \"train\", \"train\", \"train\", \"train\", \"train\", \"train\", \"train\", \"train\", \"train\", \"train\", \"train\", \"train\", \"train\", \"train\", \"train\", \"train\", \"train\", \"train\", \"train\", \"train\", \"train\", \"train\", \"train\", \"train\", \"train\", \"train\", \"train\", \"train\", \"train\", \"train\", \"train\", \"train\", \"train\", \"train\", \"train\", \"train\", \"train\", \"train\", \"train\", \"train\", \"train\", \"train\", \"train\", \"train\", \"train\", \"train\", \"train\", \"train\", \"train\", \"train\", \"train\", \"train\", \"train\", \"train\", \"train\", \"train\", \"train\", \"train\", \"train\", \"train\", \"train\", \"train\", \"train\", \"train\", \"train\", \"train\", \"train\", \"train\", \"train\", \"train\", \"train\", \"train\", \"train\", \"train\", \"train\", \"train\", \"train\", \"train\", \"train\", \"train\", \"train\", \"train\", \"train\", \"train\", \"train\", \"train\", \"train\", \"train\", \"train\", \"train\", \"train\", \"train\", \"train\", \"train\", \"train\", \"train\", \"train\", \"train\", \"train\", \"train\", \"train\", \"train\", \"train\", \"train\", \"train\", \"train\", \"train\", \"train\", \"train\", \"train\", \"train\", \"train\", \"train\", \"train\", \"train\", \"train\", \"train\", \"train\", \"train\", \"train\", \"train\", \"train\", \"train\", \"train\", \"train\", \"train\", \"train\", \"train\", \"train\", \"train\", \"train\", \"train\", \"train\", \"train\", \"train\", \"train\", \"train\", \"train\", \"train\", \"train\", \"train\", \"train\", \"train\", \"train\", \"train\", \"train\", \"train\", \"train\", \"train\", \"train\", \"train\", \"train\", \"train\", \"train\", \"train\", \"train\", \"train\", \"train\", \"train\", \"train\", \"train\", \"train\", \"train\", \"train\", \"train\", \"train\", \"train\", \"train\", \"train\", \"train\", \"train\", \"train\", \"train\", \"train\", \"train\", \"train\", \"train\", \"train\", \"train\", \"train\", \"train\", \"train\", \"train\", \"train\", \"train\", \"train\", \"train\", \"train\", \"train\", \"train\", \"train\", \"train\", \"train\", \"train\", \"train\", \"train\", \"train\", \"train\", \"train\", \"train\", \"train\", \"train\", \"train\", \"train\", \"train\", \"train\", \"train\", \"train\", \"train\", \"train\", \"train\", \"train\", \"train\", \"train\", \"train\", \"train\", \"train\", \"train\", \"train\", \"train\", \"train\", \"train\", \"train\", \"train\", \"train\", \"train\", \"train\", \"train\", \"train\", \"train\", \"train\", \"train\", \"train\", \"train\", \"train\", \"train\", \"train\", \"train\", \"train\", \"train\", \"train\", \"train\", \"train\", \"train\", \"train\", \"train\", \"train\", \"train\", \"train\", \"train\", \"train\", \"train\", \"train\", \"train\", \"train\", \"train\", \"train\", \"train\", \"train\", \"train\", \"train\", \"train\", \"train\", \"train\", \"train\", \"train\", \"train\", \"train\", \"train\", \"train\", \"train\", \"train\", \"train\", \"train\", \"train\", \"train\", \"train\", \"train\", \"train\", \"train\", \"train\", \"train\", \"train\", \"train\", \"train\", \"train\", \"train\", \"train\", \"train\", \"train\", \"train\", \"train\", \"train\", \"train\", \"train\", \"train\", \"train\", \"train\", \"train\", \"train\", \"train\", \"train\", \"train\", \"train\", \"train\", \"train\", \"train\", \"train\", \"train\", \"train\", \"train\", \"train\", \"train\", \"train\", \"train\", \"train\", \"train\", \"train\", \"train\", \"train\", \"train\", \"train\", \"train\", \"train\", \"train\", \"train\", \"train\", \"train\", \"train\", \"train\", \"train\", \"train\", \"train\", \"train\", \"train\", \"train\", \"train\", \"train\", \"train\", \"train\", \"train\", \"train\", \"train\", \"train\", \"train\", \"train\", \"train\", \"train\", \"train\", \"train\", \"train\", \"train\", \"train\", \"train\", \"train\", \"train\", \"train\", \"train\", \"train\", \"train\", \"train\", \"train\", \"train\", \"train\", \"train\", \"train\", \"train\", \"train\", \"train\", \"train\", \"train\", \"train\", \"train\", \"train\", \"train\", \"train\", \"train\", \"train\", \"train\", \"train\", \"train\", \"train\", \"train\", \"train\", \"train\", \"train\", \"train\", \"train\", \"train\", \"train\", \"train\", \"train\", \"train\", \"train\", \"train\", \"train\", \"train\", \"train\", \"train\", \"train\", \"train\", \"train\", \"train\", \"train\", \"train\", \"train\", \"train\", \"train\", \"train\", \"train\", \"train\", \"train\", \"train\", \"train\", \"train\", \"train\", \"train\", \"train\", \"train\", \"train\", \"train\", \"train\", \"train\", \"train\", \"train\", \"train\", \"train\", \"train\", \"train\", \"train\", \"train\", \"train\", \"train\", \"train\", \"train\", \"train\", \"train\", \"train\", \"train\", \"train\", \"train\", \"train\", \"train\", \"train\", \"train\", \"train\", \"train\", \"train\", \"train\", \"train\", \"train\", \"train\", \"train\", \"train\", \"train\", \"train\", \"train\", \"train\", \"train\", \"train\", \"train\", \"train\", \"train\", \"train\", \"train\", \"train\", \"train\", \"train\", \"train\", \"train\", \"train\", \"train\", \"train\", \"train\", \"train\", \"train\", \"train\", \"train\", \"train\", \"train\", \"train\", \"train\", \"train\", \"train\", \"train\", \"train\", \"train\", \"train\", \"train\", \"train\", \"train\", \"train\", \"train\", \"train\", \"train\", \"train\", \"train\", \"train\", \"train\", \"train\", \"train\", \"train\", \"train\", \"train\", \"train\", \"val\", \"val\", \"val\", \"val\", \"val\", \"val\", \"val\", \"val\", \"val\", \"val\", \"val\", \"val\", \"val\", \"val\", \"val\", \"val\", \"val\", \"val\", \"val\", \"val\", \"val\", \"val\", \"val\", \"val\", \"val\", \"val\", \"val\", \"val\", \"val\", \"val\", \"val\", \"val\", \"val\", \"val\", \"val\", \"val\", \"val\", \"val\", \"val\", \"val\", \"val\", \"val\", \"val\", \"val\", \"val\", \"val\", \"val\", \"val\", \"val\", \"val\", \"val\", \"val\", \"val\", \"val\", \"val\", \"val\", \"val\", \"val\", \"val\", \"val\", \"val\", \"val\", \"val\", \"val\", \"val\", \"val\", \"val\", \"val\", \"val\", \"val\", \"val\", \"val\", \"val\", \"val\", \"val\", \"val\", \"val\", \"val\", \"val\", \"val\", \"val\", \"val\", \"val\", \"val\", \"val\", \"val\", \"val\", \"val\", \"val\", \"val\", \"val\", \"val\", \"val\", \"val\", \"val\", \"val\", \"val\", \"val\", \"val\", \"val\", \"val\", \"val\", \"val\", \"val\", \"val\", \"val\", \"val\", \"val\", \"val\", \"val\", \"val\", \"val\", \"val\", \"val\", \"val\", \"val\", \"val\", \"val\", \"val\", \"val\", \"val\", \"val\", \"val\", \"val\", \"val\", \"val\", \"val\", \"val\", \"val\", \"val\", \"val\", \"val\", \"val\", \"val\", \"val\", \"val\", \"val\", \"val\", \"val\", \"val\", \"val\", \"val\", \"val\", \"val\", \"val\", \"val\", \"val\", \"val\", \"val\", \"val\", \"val\", \"val\", \"val\", \"val\", \"val\", \"val\", \"val\", \"val\", \"val\", \"val\", \"val\", \"val\", \"val\", \"val\", \"val\", \"val\", \"val\", \"val\", \"val\", \"val\", \"val\", \"val\", \"val\", \"val\", \"val\", \"val\", \"val\", \"val\", \"val\", \"val\", \"val\", \"val\", \"val\", \"val\", \"val\", \"val\", \"val\", \"val\", \"val\", \"val\", \"val\", \"val\", \"val\", \"val\", \"val\", \"val\", \"val\", \"val\", \"val\", \"val\", \"val\", \"val\", \"val\", \"val\", \"val\", \"val\", \"val\", \"val\", \"val\", \"val\", \"val\", \"val\", \"val\", \"val\", \"val\", \"val\", \"val\", \"val\", \"val\", \"val\", \"val\", \"val\", \"val\", \"val\", \"val\", \"val\", \"val\", \"val\", \"val\", \"val\", \"val\", \"val\", \"val\", \"val\", \"val\", \"val\", \"val\", \"val\", \"val\", \"val\", \"val\", \"val\", \"val\", \"val\", \"val\", \"val\", \"val\", \"val\", \"val\", \"val\", \"val\", \"val\", \"val\", \"val\", \"val\", \"val\", \"val\", \"val\", \"val\", \"val\", \"val\", \"val\", \"val\", \"val\", \"val\", \"val\", \"val\", \"val\", \"val\", \"val\", \"val\", \"val\", \"val\", \"val\", \"val\", \"val\", \"val\", \"val\", \"val\", \"val\", \"val\", \"val\", \"val\", \"val\", \"val\", \"val\", \"val\", \"val\", \"val\", \"val\", \"val\", \"val\", \"val\", \"val\", \"val\", \"val\", \"val\", \"val\", \"val\", \"val\", \"val\", \"val\", \"val\", \"val\", \"val\", \"val\", \"val\", \"val\", \"val\", \"val\", \"val\", \"val\", \"val\", \"val\", \"val\", \"val\", \"val\", \"val\", \"val\", \"val\", \"val\", \"val\", \"val\", \"val\", \"val\", \"val\", \"val\", \"val\", \"val\", \"val\", \"val\", \"val\", \"val\", \"val\", \"val\", \"val\", \"val\", \"val\", \"val\", \"val\", \"val\", \"val\", \"val\", \"val\", \"val\", \"val\", \"val\", \"val\", \"val\", \"val\", \"val\", \"val\", \"val\", \"val\", \"val\", \"val\", \"val\", \"val\", \"val\", \"val\", \"val\", \"val\", \"val\", \"val\", \"val\", \"val\", \"val\", \"val\", \"val\", \"val\", \"val\", \"val\", \"val\", \"val\", \"val\", \"val\", \"val\", \"val\", \"val\", \"val\", \"val\", \"val\", \"val\", \"val\", \"val\", \"val\", \"val\", \"val\", \"val\", \"val\", \"val\", \"val\", \"val\", \"val\", \"val\", \"val\", \"val\", \"val\", \"val\", \"val\", \"val\", \"val\", \"val\", \"val\", \"val\", \"val\", \"val\", \"val\", \"val\", \"val\", \"val\", \"val\", \"val\", \"val\", \"val\", \"val\", \"val\", \"val\", \"val\", \"val\", \"val\", \"val\", \"val\", \"val\", \"val\", \"val\", \"val\", \"val\", \"val\", \"val\", \"val\", \"val\", \"val\", \"val\", \"val\", \"val\", \"val\", \"val\", \"val\", \"val\", \"val\", \"val\", \"val\", \"val\", \"val\", \"val\", \"val\", \"val\", \"val\", \"val\", \"val\", \"val\", \"val\", \"val\", \"val\", \"val\", \"val\", \"val\", \"val\", \"val\", \"val\", \"val\", \"val\", \"val\", \"val\", \"val\", \"val\", \"val\", \"val\", \"val\", \"val\", \"val\", \"val\", \"val\", \"val\", \"val\", \"val\", \"val\", \"val\", \"val\", \"val\", \"val\", \"val\", \"val\", \"val\", \"val\", \"val\", \"val\", \"val\", \"val\", \"val\", \"val\", \"val\", \"val\", \"val\", \"val\", \"val\", \"val\", \"val\", \"val\", \"val\", \"val\", \"val\", \"val\", \"val\", \"val\", \"val\", \"val\", \"val\", \"val\", \"val\", \"val\", \"val\", \"val\", \"val\", \"val\", \"val\", \"val\", \"val\", \"val\", \"val\", \"val\", \"val\", \"val\", \"val\", \"val\", \"val\", \"val\", \"val\", \"val\", \"val\", \"val\", \"val\", \"val\", \"val\", \"val\", \"val\", \"val\", \"val\", \"val\", \"val\", \"val\", \"val\", \"val\", \"val\", \"val\", \"val\", \"val\", \"val\", \"val\", \"val\", \"val\", \"val\", \"val\", \"val\", \"val\", \"val\", \"val\", \"val\", \"val\", \"val\", \"val\", \"val\", \"val\", \"val\", \"val\", \"val\", \"val\", \"val\", \"val\", \"val\", \"val\", \"val\", \"val\", \"val\", \"val\", \"val\", \"val\", \"val\", \"val\", \"val\", \"val\", \"val\", \"val\", \"val\", \"val\", \"val\", \"val\", \"val\", \"val\", \"val\", \"val\", \"val\", \"val\", \"val\", \"val\", \"val\", \"val\", \"val\", \"val\", \"val\", \"val\", \"val\", \"val\", \"val\", \"val\", \"val\", \"val\", \"val\", \"val\", \"val\", \"val\", \"val\", \"val\", \"val\", \"val\", \"val\", \"val\", \"val\", \"val\", \"val\", \"val\", \"val\", \"val\", \"val\", \"val\", \"val\", \"val\", \"val\", \"val\", \"val\", \"val\", \"val\", \"val\", \"val\", \"val\", \"val\", \"val\", \"val\", \"val\", \"val\", \"val\", \"val\", \"val\", \"val\", \"val\", \"val\", \"val\", \"val\", \"val\", \"val\", \"val\", \"val\", \"val\", \"val\", \"val\", \"val\", \"val\", \"val\", \"val\", \"val\", \"val\", \"val\", \"val\", \"val\", \"val\", \"val\", \"val\", \"val\", \"val\", \"val\", \"val\", \"val\", \"val\", \"val\", \"val\", \"val\", \"val\", \"val\", \"val\", \"val\", \"val\", \"val\", \"val\", \"val\", \"val\", \"val\", \"val\", \"val\", \"val\", \"val\", \"val\", \"val\", \"val\", \"val\", \"val\", \"val\", \"val\", \"val\", \"val\", \"val\", \"val\", \"val\", \"val\", \"val\", \"val\", \"val\", \"val\", \"val\", \"val\", \"val\", \"val\", \"val\", \"val\", \"val\", \"val\", \"val\", \"val\", \"val\", \"val\", \"val\", \"val\", \"val\", \"val\", \"val\", \"val\", \"val\", \"val\", \"val\", \"val\", \"val\", \"val\", \"val\", \"val\", \"val\", \"val\", \"val\", \"val\", \"val\", \"val\", \"val\", \"val\", \"val\", \"val\", \"val\", \"val\", \"val\", \"val\", \"val\", \"val\", \"val\", \"val\", \"val\", \"val\", \"val\", \"val\", \"val\", \"val\", \"val\", \"val\", \"val\", \"val\", \"val\", \"val\", \"val\", \"val\", \"val\", \"val\", \"val\", \"val\", \"val\", \"val\", \"val\", \"val\", \"val\", \"val\", \"val\", \"val\", \"val\", \"val\", \"val\", \"val\", \"val\", \"val\", \"val\", \"val\", \"val\", \"val\", \"val\", \"val\", \"val\", \"val\", \"val\", \"val\", \"val\", \"val\", \"val\", \"val\", \"val\", \"val\", \"val\", \"val\", \"val\", \"val\", \"val\", \"val\", \"val\", \"val\", \"val\", \"val\", \"val\", \"val\", \"val\", \"val\", \"val\", \"val\", \"val\", \"val\", \"val\", \"val\", \"val\", \"val\", \"val\", \"val\", \"val\", \"val\", \"val\", \"val\", \"val\", \"val\", \"val\", \"val\", \"val\", \"val\", \"val\", \"val\", \"val\", \"val\", \"val\", \"val\", \"val\", \"val\", \"val\", \"val\", \"val\", \"val\", \"val\", \"val\", \"val\", \"val\", \"val\", \"val\", \"val\", \"val\", \"val\", \"val\", \"val\", \"val\", \"val\", \"val\", \"val\", \"val\", \"val\", \"val\", \"val\", \"val\", \"val\", \"val\", \"val\", \"val\", \"val\", \"val\", \"val\", \"val\", \"val\", \"val\", \"val\", \"val\", \"val\", \"val\", \"val\", \"val\", \"val\", \"val\", \"val\", \"val\", \"val\", \"val\", \"val\", \"val\", \"val\", \"val\", \"val\", \"val\", \"val\", \"val\", \"val\", \"val\", \"val\", \"val\", \"val\", \"val\", \"val\", \"val\", \"val\", \"val\", \"val\", \"val\", \"val\", \"val\", \"val\", \"val\", \"val\", \"val\", \"val\", \"val\", \"val\", \"val\", \"val\", \"val\", \"val\", \"val\", \"val\", \"val\", \"val\", \"val\", \"val\", \"val\", \"val\", \"val\", \"val\", \"val\", \"val\", \"val\", \"val\", \"val\", \"val\", \"val\", \"val\", \"val\", \"val\", \"val\", \"val\", \"val\", \"val\", \"val\", \"val\", \"val\", \"val\", \"val\", \"val\", \"val\", \"val\", \"val\", \"val\", \"val\", \"val\", \"val\", \"val\", \"val\", \"val\", \"val\", \"val\", \"val\", \"val\", \"val\", \"val\", \"val\", \"val\", \"val\", \"val\", \"val\", \"val\", \"val\", \"val\", \"val\", \"val\", \"val\", \"val\", \"val\", \"val\", \"val\", \"val\", \"val\", \"val\", \"val\", \"val\", \"val\", \"val\", \"val\", \"val\", \"val\", \"val\", \"val\", \"val\", \"val\", \"val\", \"val\", \"val\", \"val\", \"val\", \"val\", \"val\", \"val\", \"val\", \"val\", \"val\", \"val\", \"val\", \"val\", \"val\", \"val\", \"val\", \"val\", \"val\"], \"xaxis\": \"x\", \"yaxis\": \"y\"}, {\"alignmentgroup\": \"True\", \"bingroup\": \"x\", \"hoverlabel\": {\"namelength\": 0}, \"hovertemplate\": \"CLASS=2<br>DATA SET=%{x}<br>count=%{y}\", \"legendgroup\": \"CLASS=2\", \"marker\": {\"color\": \"#00cc96\"}, \"name\": \"CLASS=2\", \"offsetgroup\": \"CLASS=2\", \"orientation\": \"v\", \"showlegend\": true, \"type\": \"histogram\", \"x\": [\"train\", \"train\", \"train\", \"train\", \"train\", \"train\", \"train\", \"train\", \"train\", \"train\", \"train\", \"train\", \"train\", \"train\", \"train\", \"train\", \"train\", \"train\", \"train\", \"train\", \"train\", \"train\", \"train\", \"train\", \"train\", \"train\", \"train\", \"train\", \"train\", \"train\", \"train\", \"train\", \"train\", \"train\", \"train\", \"train\", \"train\", \"train\", \"train\", \"train\", \"train\", \"train\", \"train\", \"train\", \"train\", \"train\", \"train\", \"train\", \"train\", \"train\", \"train\", \"train\", \"train\", \"train\", \"train\", \"train\", \"train\", \"train\", \"train\", \"train\", \"train\", \"train\", \"train\", \"train\", \"train\", \"train\", \"train\", \"train\", \"train\", \"train\", \"train\", \"train\", \"train\", \"train\", \"train\", \"train\", \"train\", \"train\", \"train\", \"train\", \"train\", \"train\", \"train\", \"train\", \"train\", \"train\", \"train\", \"train\", \"train\", \"train\", \"train\", \"train\", \"train\", \"train\", \"train\", \"train\", \"train\", \"train\", \"train\", \"train\", \"train\", \"train\", \"train\", \"train\", \"train\", \"train\", \"train\", \"train\", \"train\", \"train\", \"train\", \"train\", \"train\", \"train\", \"train\", \"train\", \"train\", \"train\", \"train\", \"train\", \"train\", \"train\", \"train\", \"train\", \"train\", \"train\", \"train\", \"train\", \"train\", \"train\", \"train\", \"train\", \"train\", \"train\", \"train\", \"train\", \"train\", \"train\", \"train\", \"train\", \"train\", \"train\", \"train\", \"train\", \"train\", \"train\", \"train\", \"train\", \"train\", \"train\", \"train\", \"train\", \"train\", \"train\", \"train\", \"train\", \"train\", \"train\", \"train\", \"train\", \"train\", \"train\", \"train\", \"train\", \"train\", \"train\", \"train\", \"train\", \"train\", \"train\", \"train\", \"train\", \"train\", \"train\", \"train\", \"train\", \"train\", \"train\", \"train\", \"train\", \"train\", \"train\", \"train\", \"train\", \"train\", \"train\", \"train\", \"train\", \"train\", \"train\", \"train\", \"train\", \"train\", \"train\", \"train\", \"train\", \"train\", \"train\", \"train\", \"train\", \"train\", \"train\", \"train\", \"train\", \"train\", \"train\", \"train\", \"train\", \"train\", \"train\", \"train\", \"train\", \"train\", \"train\", \"train\", \"train\", \"train\", \"train\", \"train\", \"train\", \"train\", \"train\", \"train\", \"train\", \"train\", \"train\", \"train\", \"train\", \"train\", \"train\", \"train\", \"train\", \"train\", \"train\", \"train\", \"train\", \"train\", \"train\", \"train\", \"train\", \"train\", \"train\", \"train\", \"train\", \"train\", \"train\", \"train\", \"train\", \"train\", \"train\", \"train\", \"train\", \"train\", \"train\", \"train\", \"train\", \"train\", \"train\", \"train\", \"train\", \"train\", \"train\", \"train\", \"train\", \"train\", \"train\", \"train\", \"train\", \"train\", \"train\", \"train\", \"train\", \"train\", \"train\", \"train\", \"train\", \"train\", \"train\", \"train\", \"train\", \"train\", \"train\", \"train\", \"train\", \"train\", \"train\", \"train\", \"train\", \"train\", \"train\", \"train\", \"train\", \"train\", \"train\", \"train\", \"train\", \"train\", \"train\", \"train\", \"train\", \"train\", \"train\", \"train\", \"train\", \"train\", \"train\", \"train\", \"train\", \"train\", \"train\", \"train\", \"train\", \"train\", \"train\", \"train\", \"train\", \"train\", \"train\", \"train\", \"train\", \"train\", \"train\", \"train\", \"train\", \"train\", \"train\", \"train\", \"train\", \"train\", \"train\", \"train\", \"train\", \"train\", \"train\", \"train\", \"train\", \"train\", \"train\", \"train\", \"train\", \"train\", \"train\", \"train\", \"train\", \"train\", \"train\", \"train\", \"train\", \"train\", \"train\", \"train\", \"train\", \"train\", \"train\", \"train\", \"train\", \"train\", \"train\", \"train\", \"train\", \"train\", \"train\", \"train\", \"train\", \"train\", \"train\", \"train\", \"train\", \"train\", \"train\", \"train\", \"train\", \"train\", \"train\", \"train\", \"train\", \"train\", \"train\", \"train\", \"train\", \"train\", \"train\", \"train\", \"train\", \"train\", \"train\", \"train\", \"train\", \"train\", \"train\", \"train\", \"train\", \"train\", \"train\", \"train\", \"train\", \"train\", \"train\", \"train\", \"train\", \"train\", \"train\", \"train\", \"train\", \"train\", \"train\", \"train\", \"train\", \"train\", \"train\", \"train\", \"train\", \"train\", \"train\", \"train\", \"train\", \"train\", \"train\", \"train\", \"train\", \"train\", \"train\", \"train\", \"train\", \"train\", \"train\", \"train\", \"train\", \"train\", \"train\", \"train\", \"train\", \"train\", \"train\", \"train\", \"train\", \"train\", \"train\", \"train\", \"train\", \"train\", \"train\", \"train\", \"train\", \"train\", \"train\", \"train\", \"train\", \"train\", \"train\", \"train\", \"train\", \"train\", \"train\", \"train\", \"train\", \"train\", \"train\", \"train\", \"train\", \"train\", \"train\", \"train\", \"train\", \"train\", \"train\", \"train\", \"train\", \"train\", \"train\", \"train\", \"train\", \"train\", \"train\", \"train\", \"train\", \"train\", \"train\", \"train\", \"train\", \"train\", \"train\", \"train\", \"train\", \"train\", \"train\", \"train\", \"train\", \"train\", \"train\", \"train\", \"train\", \"train\", \"train\", \"train\", \"train\", \"train\", \"train\", \"train\", \"train\", \"train\", \"train\", \"train\", \"train\", \"train\", \"train\", \"train\", \"train\", \"train\", \"train\", \"train\", \"train\", \"train\", \"train\", \"train\", \"train\", \"train\", \"train\", \"train\", \"train\", \"train\", \"train\", \"train\", \"train\", \"train\", \"train\", \"train\", \"train\", \"train\", \"train\", \"train\", \"train\", \"train\", \"train\", \"train\", \"train\", \"train\", \"train\", \"train\", \"train\", \"train\", \"train\", \"train\", \"train\", \"train\", \"train\", \"train\", \"train\", \"train\", \"train\", \"train\", \"train\", \"train\", \"train\", \"train\", \"train\", \"train\", \"train\", \"train\", \"train\", \"train\", \"train\", \"train\", \"train\", \"train\", \"train\", \"train\", \"train\", \"train\", \"train\", \"train\", \"train\", \"train\", \"train\", \"train\", \"train\", \"train\", \"train\", \"train\", \"train\", \"train\", \"train\", \"train\", \"train\", \"train\", \"train\", \"train\", \"train\", \"train\", \"train\", \"train\", \"train\", \"train\", \"train\", \"train\", \"train\", \"train\", \"train\", \"train\", \"train\", \"train\", \"train\", \"train\", \"train\", \"train\", \"train\", \"train\", \"train\", \"train\", \"train\", \"train\", \"train\", \"train\", \"train\", \"train\", \"train\", \"train\", \"train\", \"train\", \"train\", \"train\", \"train\", \"train\", \"train\", \"train\", \"train\", \"train\", \"train\", \"train\", \"train\", \"train\", \"train\", \"train\", \"train\", \"train\", \"train\", \"train\", \"train\", \"train\", \"train\", \"train\", \"train\", \"train\", \"train\", \"train\", \"train\", \"train\", \"train\", \"train\", \"train\", \"train\", \"train\", \"train\", \"train\", \"train\", \"train\", \"train\", \"train\", \"train\", \"train\", \"train\", \"train\", \"train\", \"train\", \"train\", \"train\", \"train\", \"train\", \"train\", \"train\", \"train\", \"train\", \"train\", \"train\", \"train\", \"train\", \"train\", \"train\", \"train\", \"train\", \"train\", \"train\", \"train\", \"train\", \"train\", \"train\", \"train\", \"train\", \"train\", \"train\", \"train\", \"train\", \"train\", \"train\", \"train\", \"train\", \"train\", \"train\", \"train\", \"train\", \"train\", \"train\", \"train\", \"train\", \"train\", \"train\", \"train\", \"train\", \"train\", \"train\", \"train\", \"train\", \"train\", \"train\", \"train\", \"train\", \"train\", \"train\", \"train\", \"train\", \"train\", \"train\", \"train\", \"train\", \"train\", \"train\", \"train\", \"train\", \"train\", \"train\", \"train\", \"train\", \"train\", \"train\", \"train\", \"train\", \"train\", \"train\", \"train\", \"train\", \"train\", \"train\", \"train\", \"train\", \"train\", \"train\", \"train\", \"train\", \"train\", \"train\", \"train\", \"train\", \"train\", \"train\", \"train\", \"train\", \"train\", \"train\", \"train\", \"train\", \"train\", \"train\", \"train\", \"train\", \"train\", \"train\", \"train\", \"train\", \"train\", \"train\", \"train\", \"train\", \"train\", \"train\", \"train\", \"train\", \"train\", \"train\", \"train\", \"train\", \"train\", \"train\", \"train\", \"train\", \"train\", \"train\", \"train\", \"train\", \"train\", \"train\", \"train\", \"train\", \"train\", \"train\", \"train\", \"train\", \"train\", \"train\", \"train\", \"train\", \"train\", \"train\", \"train\", \"train\", \"train\", \"train\", \"train\", \"train\", \"train\", \"train\", \"train\", \"train\", \"train\", \"train\", \"train\", \"train\", \"train\", \"train\", \"train\", \"train\", \"train\", \"train\", \"train\", \"train\", \"train\", \"train\", \"train\", \"train\", \"train\", \"train\", \"train\", \"train\", \"train\", \"train\", \"train\", \"train\", \"train\", \"train\", \"train\", \"train\", \"train\", \"train\", \"train\", \"train\", \"train\", \"train\", \"train\", \"train\", \"train\", \"train\", \"train\", \"train\", \"train\", \"train\", \"train\", \"train\", \"train\", \"train\", \"train\", \"train\", \"train\", \"train\", \"train\", \"train\", \"train\", \"train\", \"train\", \"train\", \"train\", \"train\", \"train\", \"train\", \"train\", \"train\", \"train\", \"train\", \"train\", \"train\", \"train\", \"train\", \"train\", \"train\", \"train\", \"train\", \"train\", \"train\", \"train\", \"train\", \"train\", \"train\", \"train\", \"train\", \"train\", \"train\", \"train\", \"train\", \"train\", \"train\", \"train\", \"train\", \"train\", \"train\", \"train\", \"train\", \"train\", \"train\", \"train\", \"train\", \"train\", \"train\", \"train\", \"train\", \"train\", \"train\", \"train\", \"train\", \"train\", \"train\", \"train\", \"train\", \"train\", \"train\", \"train\", \"train\", \"train\", \"train\", \"train\", \"train\", \"train\", \"train\", \"train\", \"train\", \"train\", \"train\", \"train\", \"train\", \"train\", \"train\", \"train\", \"train\", \"train\", \"train\", \"train\", \"train\", \"train\", \"train\", \"train\", \"train\", \"train\", \"train\", \"train\", \"train\", \"train\", \"train\", \"train\", \"train\", \"train\", \"train\", \"train\", \"train\", \"train\", \"train\", \"train\", \"train\", \"train\", \"train\", \"train\", \"train\", \"train\", \"train\", \"train\", \"train\", \"train\", \"train\", \"train\", \"train\", \"train\", \"train\", \"train\", \"train\", \"train\", \"train\", \"train\", \"train\", \"train\", \"train\", \"train\", \"train\", \"train\", \"train\", \"train\", \"train\", \"train\", \"train\", \"train\", \"train\", \"train\", \"train\", \"train\", \"train\", \"train\", \"train\", \"train\", \"train\", \"train\", \"train\", \"train\", \"train\", \"train\", \"train\", \"train\", \"train\", \"train\", \"train\", \"train\", \"train\", \"train\", \"train\", \"train\", \"train\", \"train\", \"train\", \"train\", \"train\", \"train\", \"train\", \"train\", \"train\", \"train\", \"train\", \"train\", \"train\", \"train\", \"train\", \"train\", \"train\", \"train\", \"train\", \"train\", \"train\", \"train\", \"train\", \"train\", \"train\", \"train\", \"train\", \"train\", \"train\", \"train\", \"train\", \"train\", \"train\", \"train\", \"train\", \"train\", \"train\", \"train\", \"train\", \"train\", \"train\", \"train\", \"train\", \"train\", \"train\", \"train\", \"train\", \"train\", \"train\", \"train\", \"train\", \"train\", \"train\", \"train\", \"train\", \"train\", \"train\", \"train\", \"train\", \"train\", \"train\", \"train\", \"train\", \"train\", \"train\", \"train\", \"train\", \"train\", \"train\", \"train\", \"train\", \"train\", \"train\", \"train\", \"train\", \"train\", \"train\", \"train\", \"train\", \"train\", \"train\", \"train\", \"train\", \"train\", \"train\", \"train\", \"train\", \"train\", \"train\", \"train\", \"train\", \"train\", \"train\", \"train\", \"train\", \"train\", \"train\", \"train\", \"train\", \"train\", \"train\", \"train\", \"train\", \"train\", \"train\", \"train\", \"train\", \"train\", \"train\", \"train\", \"train\", \"train\", \"train\", \"train\", \"train\", \"train\", \"train\", \"train\", \"train\", \"train\", \"train\", \"train\", \"train\", \"train\", \"train\", \"train\", \"train\", \"train\", \"train\", \"train\", \"train\", \"train\", \"train\", \"train\", \"train\", \"train\", \"train\", \"train\", \"train\", \"train\", \"train\", \"train\", \"train\", \"train\", \"train\", \"train\", \"train\", \"train\", \"train\", \"train\", \"train\", \"train\", \"train\", \"train\", \"train\", \"train\", \"train\", \"train\", \"train\", \"train\", \"train\", \"train\", \"train\", \"train\", \"train\", \"train\", \"train\", \"train\", \"train\", \"train\", \"train\", \"train\", \"train\", \"train\", \"train\", \"train\", \"train\", \"train\", \"train\", \"train\", \"train\", \"train\", \"train\", \"train\", \"train\", \"train\", \"train\", \"train\", \"train\", \"train\", \"train\", \"train\", \"train\", \"train\", \"train\", \"train\", \"train\", \"train\", \"train\", \"train\", \"train\", \"train\", \"train\", \"train\", \"train\", \"train\", \"train\", \"train\", \"train\", \"train\", \"train\", \"train\", \"train\", \"train\", \"train\", \"train\", \"train\", \"train\", \"train\", \"train\", \"train\", \"train\", \"train\", \"train\", \"train\", \"train\", \"train\", \"train\", \"train\", \"train\", \"train\", \"train\", \"train\", \"train\", \"train\", \"train\", \"train\", \"train\", \"train\", \"train\", \"train\", \"train\", \"train\", \"train\", \"train\", \"train\", \"train\", \"train\", \"train\", \"train\", \"train\", \"train\", \"train\", \"train\", \"train\", \"train\", \"train\", \"train\", \"train\", \"train\", \"train\", \"train\", \"train\", \"train\", \"train\", \"train\", \"train\", \"train\", \"train\", \"train\", \"train\", \"train\", \"train\", \"train\", \"train\", \"train\", \"train\", \"train\", \"train\", \"train\", \"train\", \"train\", \"train\", \"train\", \"train\", \"train\", \"train\", \"train\", \"train\", \"train\", \"train\", \"train\", \"train\", \"train\", \"train\", \"train\", \"train\", \"train\", \"train\", \"train\", \"train\", \"train\", \"train\", \"train\", \"train\", \"train\", \"train\", \"train\", \"train\", \"train\", \"train\", \"train\", \"train\", \"train\", \"train\", \"train\", \"train\", \"train\", \"train\", \"train\", \"train\", \"train\", \"train\", \"train\", \"train\", \"train\", \"train\", \"train\", \"train\", \"train\", \"train\", \"train\", \"train\", \"train\", \"train\", \"train\", \"train\", \"train\", \"train\", \"train\", \"train\", \"train\", \"train\", \"train\", \"train\", \"train\", \"train\", \"train\", \"train\", \"train\", \"train\", \"train\", \"train\", \"train\", \"train\", \"train\", \"train\", \"train\", \"train\", \"train\", \"train\", \"train\", \"train\", \"train\", \"train\", \"train\", \"train\", \"train\", \"train\", \"train\", \"train\", \"train\", \"train\", \"train\", \"train\", \"train\", \"train\", \"train\", \"train\", \"train\", \"train\", \"train\", \"train\", \"train\", \"train\", \"train\", \"train\", \"train\", \"train\", \"train\", \"train\", \"train\", \"train\", \"train\", \"train\", \"train\", \"train\", \"train\", \"train\", \"train\", \"train\", \"train\", \"train\", \"train\", \"train\", \"train\", \"train\", \"train\", \"train\", \"train\", \"train\", \"train\", \"train\", \"train\", \"train\", \"train\", \"train\", \"train\", \"train\", \"train\", \"train\", \"train\", \"train\", \"train\", \"train\", \"train\", \"train\", \"train\", \"train\", \"train\", \"train\", \"train\", \"train\", \"train\", \"train\", \"train\", \"train\", \"train\", \"train\", \"train\", \"train\", \"train\", \"train\", \"train\", \"train\", \"train\", \"train\", \"train\", \"train\", \"train\", \"train\", \"train\", \"train\", \"train\", \"train\", \"train\", \"train\", \"train\", \"train\", \"train\", \"train\", \"train\", \"train\", \"train\", \"train\", \"train\", \"train\", \"train\", \"train\", \"train\", \"train\", \"train\", \"train\", \"train\", \"train\", \"train\", \"train\", \"train\", \"train\", \"train\", \"train\", \"train\", \"train\", \"train\", \"train\", \"train\", \"train\", \"train\", \"train\", \"train\", \"train\", \"train\", \"train\", \"train\", \"train\", \"train\", \"train\", \"train\", \"train\", \"train\", \"train\", \"train\", \"train\", \"val\", \"val\", \"val\", \"val\", \"val\", \"val\", \"val\", \"val\", \"val\", \"val\", \"val\", \"val\", \"val\", \"val\", \"val\", \"val\", \"val\", \"val\", \"val\", \"val\", \"val\", \"val\", \"val\", \"val\", \"val\", \"val\", \"val\", \"val\", \"val\", \"val\", \"val\", \"val\", \"val\", \"val\", \"val\", \"val\", \"val\", \"val\", \"val\", \"val\", \"val\", \"val\", \"val\", \"val\", \"val\", \"val\", \"val\", \"val\", \"val\", \"val\", \"val\", \"val\", \"val\", \"val\", \"val\", \"val\", \"val\", \"val\", \"val\", \"val\", \"val\", \"val\", \"val\", \"val\", \"val\", \"val\", \"val\", \"val\", \"val\", \"val\", \"val\", \"val\", \"val\", \"val\", \"val\", \"val\", \"val\", \"val\", \"val\", \"val\", \"val\", \"val\", \"val\", \"val\", \"val\", \"val\", \"val\", \"val\", \"val\", \"val\", \"val\", \"val\", \"val\", \"val\", \"val\", \"val\", \"val\", \"val\", \"val\", \"val\", \"val\", \"val\", \"val\", \"val\", \"val\", \"val\", \"val\", \"val\", \"val\", \"val\", \"val\", \"val\", \"val\", \"val\", \"val\", \"val\", \"val\", \"val\", \"val\", \"val\", \"val\", \"val\", \"val\", \"val\", \"val\", \"val\", \"val\", \"val\", \"val\", \"val\", \"val\", \"val\", \"val\", \"val\", \"val\", \"val\", \"val\", \"val\", \"val\", \"val\", \"val\", \"val\", \"val\", \"val\", \"val\", \"val\", \"val\", \"val\", \"val\", \"val\", \"val\", \"val\", \"val\", \"val\", \"val\", \"val\", \"val\", \"val\", \"val\", \"val\", \"val\", \"val\", \"val\", \"val\", \"val\", \"val\", \"val\", \"val\", \"val\", \"val\", \"val\", \"val\", \"val\", \"val\", \"val\", \"val\", \"val\", \"val\", \"val\", \"val\", \"val\", \"val\", \"val\", \"val\", \"val\", \"val\", \"val\", \"val\", \"val\", \"val\", \"val\", \"val\", \"val\", \"val\", \"val\", \"val\", \"val\", \"val\", \"val\", \"val\", \"val\", \"val\", \"val\", \"val\", \"val\", \"val\", \"val\", \"val\", \"val\", \"val\", \"val\", \"val\", \"val\", \"val\", \"val\", \"val\", \"val\", \"val\", \"val\", \"val\", \"val\", \"val\", \"val\", \"val\", \"val\", \"val\", \"val\", \"val\", \"val\", \"val\", \"val\", \"val\", \"val\", \"val\", \"val\", \"val\", \"val\", \"val\", \"val\", \"val\", \"val\", \"val\", \"val\", \"val\", \"val\", \"val\", \"val\", \"val\", \"val\", \"val\", \"val\", \"val\", \"val\", \"val\", \"val\", \"val\", \"val\", \"val\", \"val\", \"val\", \"val\", \"val\", \"val\", \"val\", \"val\", \"val\", \"val\", \"val\", \"val\", \"val\", \"val\", \"val\", \"val\", \"val\", \"val\", \"val\", \"val\", \"val\", \"val\", \"val\", \"val\", \"val\", \"val\", \"val\", \"val\", \"val\", \"val\", \"val\", \"val\", \"val\", \"val\", \"val\", \"val\", \"val\", \"val\", \"val\", \"val\", \"val\", \"val\", \"val\", \"val\", \"val\", \"val\", \"val\", \"val\", \"val\", \"val\", \"val\", \"val\", \"val\", \"val\", \"val\", \"val\", \"val\", \"val\", \"val\", \"val\", \"val\", \"val\", \"val\", \"val\", \"val\", \"val\", \"val\", \"val\", \"val\", \"val\", \"val\", \"val\", \"val\", \"val\", \"val\", \"val\", \"val\", \"val\", \"val\", \"val\", \"val\", \"val\", \"val\", \"val\", \"val\", \"val\", \"val\", \"val\", \"val\", \"val\", \"val\", \"val\", \"val\", \"val\", \"val\", \"val\", \"val\", \"val\", \"val\", \"val\", \"val\", \"val\", \"val\", \"val\", \"val\", \"val\", \"val\", \"val\", \"val\", \"val\", \"val\", \"val\", \"val\", \"val\", \"val\", \"val\", \"val\", \"val\", \"val\", \"val\", \"val\", \"val\", \"val\", \"val\", \"val\", \"val\", \"val\", \"val\", \"val\", \"val\", \"val\", \"val\", \"val\", \"val\", \"val\", \"val\", \"val\", \"val\", \"val\", \"val\", \"val\", \"val\", \"val\", \"val\", \"val\", \"val\", \"val\", \"val\", \"val\", \"val\", \"val\", \"val\", \"val\", \"val\", \"val\", \"val\", \"val\", \"val\", \"val\", \"val\", \"val\", \"val\", \"val\", \"val\", \"val\", \"val\", \"val\", \"val\", \"val\", \"val\", \"val\", \"val\", \"val\", \"val\", \"val\", \"val\", \"val\", \"val\", \"val\", \"val\", \"val\", \"val\", \"val\", \"val\", \"val\", \"val\", \"val\", \"val\", \"val\", \"val\", \"val\", \"val\", \"val\", \"val\", \"val\", \"val\", \"val\", \"val\", \"val\", \"val\", \"val\", \"val\", \"val\", \"val\", \"val\", \"val\", \"val\", \"val\", \"val\", \"val\", \"val\", \"val\", \"val\", \"val\", \"val\", \"val\", \"val\", \"val\", \"val\", \"val\", \"val\", \"val\", \"val\", \"val\", \"val\", \"val\", \"val\", \"val\", \"val\", \"val\", \"val\", \"val\", \"val\", \"val\", \"val\", \"val\", \"val\", \"val\", \"val\", \"val\", \"val\", \"val\", \"val\", \"val\", \"val\", \"val\", \"val\", \"val\", \"val\", \"val\", \"val\", \"val\", \"val\", \"val\", \"val\", \"val\", \"val\", \"val\", \"val\", \"val\", \"val\", \"val\", \"val\", \"val\", \"val\", \"val\", \"val\", \"val\", \"val\", \"val\", \"val\", \"val\", \"val\", \"val\", \"val\", \"val\", \"val\", \"val\", \"val\", \"val\", \"val\", \"val\", \"val\", \"val\", \"val\", \"val\", \"val\", \"val\", \"val\", \"val\", \"val\", \"val\", \"val\", \"val\", \"val\", \"val\", \"val\", \"val\", \"val\", \"val\", \"val\", \"val\", \"val\", \"val\", \"val\", \"val\", \"val\", \"val\", \"val\", \"val\", \"val\", \"val\", \"val\", \"val\", \"val\", \"val\", \"val\", \"val\", \"val\", \"val\", \"val\", \"val\", \"val\", \"val\", \"val\", \"val\", \"val\", \"val\", \"val\", \"val\", \"val\", \"val\", \"val\", \"val\", \"val\", \"val\", \"val\", \"val\", \"val\", \"val\", \"val\", \"val\", \"val\", \"val\", \"val\", \"val\", \"val\", \"val\", \"val\", \"val\", \"val\", \"val\", \"val\", \"val\", \"val\", \"val\", \"val\", \"val\", \"val\", \"val\", \"val\", \"val\", \"val\", \"val\", \"val\", \"val\", \"val\", \"val\", \"val\", \"val\", \"val\", \"val\", \"val\", \"val\", \"val\", \"val\", \"val\", \"val\", \"val\", \"val\", \"val\", \"val\", \"val\", \"val\", \"val\", \"val\", \"val\", \"val\", \"val\", \"val\", \"val\", \"val\", \"val\", \"val\", \"val\", \"val\", \"val\", \"val\", \"val\", \"val\", \"val\", \"val\", \"val\", \"val\", \"val\", \"val\", \"val\", \"val\", \"val\", \"val\", \"val\", \"val\", \"val\", \"val\", \"val\", \"val\", \"val\", \"val\", \"val\", \"val\", \"val\", \"val\", \"val\", \"val\", \"val\", \"val\", \"val\", \"val\", \"val\", \"val\", \"val\", \"val\", \"val\", \"val\", \"val\", \"val\", \"val\", \"val\", \"val\", \"val\", \"val\", \"val\", \"val\", \"val\", \"val\", \"val\", \"val\", \"val\", \"val\", \"val\", \"val\", \"val\", \"val\", \"val\", \"val\", \"val\", \"val\", \"val\", \"val\", \"val\", \"val\", \"val\", \"val\", \"val\", \"val\", \"val\", \"val\", \"val\", \"val\", \"val\", \"val\", \"val\", \"val\", \"val\", \"val\", \"val\", \"val\", \"val\", \"val\", \"val\", \"val\", \"val\", \"val\", \"val\", \"val\", \"val\", \"val\", \"val\", \"val\", \"val\", \"val\", \"val\", \"val\", \"val\", \"val\", \"val\", \"val\", \"val\", \"val\", \"val\", \"val\", \"val\", \"val\", \"val\", \"val\", \"val\", \"val\", \"val\", \"val\", \"val\", \"val\", \"val\", \"val\", \"val\", \"val\", \"val\", \"val\", \"val\", \"val\", \"val\", \"val\", \"val\", \"val\", \"val\", \"val\", \"val\", \"val\", \"val\", \"val\", \"val\", \"val\", \"val\", \"val\", \"val\", \"val\", \"val\", \"val\", \"val\", \"val\", \"val\", \"val\", \"val\", \"val\", \"val\", \"val\", \"val\", \"val\", \"val\", \"val\", \"val\", \"val\", \"val\", \"val\", \"val\", \"val\", \"val\", \"val\", \"val\", \"val\", \"val\", \"val\", \"val\", \"val\", \"val\", \"val\", \"val\", \"val\", \"val\", \"val\", \"val\", \"val\", \"val\", \"val\", \"val\", \"val\", \"val\", \"val\", \"val\", \"val\", \"val\", \"val\", \"val\", \"val\", \"val\", \"val\", \"val\", \"val\", \"val\", \"val\", \"val\", \"val\", \"val\", \"val\", \"val\", \"val\", \"val\", \"val\", \"val\", \"val\", \"val\", \"val\", \"val\", \"val\", \"val\", \"val\", \"val\", \"val\", \"val\", \"val\", \"val\", \"val\", \"val\", \"val\", \"val\", \"val\", \"val\", \"val\", \"val\", \"val\", \"val\", \"val\", \"val\", \"val\", \"val\", \"val\", \"val\", \"val\", \"val\", \"val\", \"val\", \"val\", \"val\", \"val\", \"val\", \"val\", \"val\", \"val\", \"val\", \"val\", \"val\", \"val\", \"val\", \"val\", \"val\", \"val\", \"val\", \"val\", \"val\", \"val\", \"val\", \"val\", \"val\", \"val\", \"val\", \"val\", \"val\", \"val\", \"val\", \"val\", \"val\", \"val\", \"val\", \"val\", \"val\", \"val\", \"val\", \"val\", \"val\", \"val\", \"val\", \"val\", \"val\", \"val\", \"val\", \"val\", \"val\", \"val\", \"val\", \"val\", \"val\", \"val\", \"val\", \"val\", \"val\", \"val\", \"val\", \"val\", \"val\", \"val\", \"val\", \"val\", \"val\", \"val\", \"val\", \"val\", \"val\", \"val\", \"val\", \"val\", \"val\", \"val\", \"val\", \"val\", \"val\", \"val\", \"val\", \"val\", \"val\", \"val\", \"val\", \"val\", \"val\", \"val\", \"val\", \"val\", \"val\", \"val\", \"val\", \"val\", \"val\", \"val\", \"val\", \"val\", \"val\", \"val\", \"val\", \"val\", \"val\", \"val\", \"val\", \"val\", \"val\", \"val\", \"val\", \"val\", \"val\", \"val\", \"val\", \"val\", \"val\", \"val\", \"val\", \"val\", \"val\", \"val\", \"val\", \"val\", \"val\", \"val\", \"val\", \"val\", \"val\", \"val\", \"val\", \"val\", \"val\", \"val\", \"val\", \"val\"], \"xaxis\": \"x\", \"yaxis\": \"y\"}],\n",
              "                        {\"barmode\": \"relative\", \"legend\": {\"tracegroupgap\": 0}, \"margin\": {\"t\": 60}, \"template\": {\"data\": {\"bar\": [{\"error_x\": {\"color\": \"#2a3f5f\"}, \"error_y\": {\"color\": \"#2a3f5f\"}, \"marker\": {\"line\": {\"color\": \"#E5ECF6\", \"width\": 0.5}}, \"type\": \"bar\"}], \"barpolar\": [{\"marker\": {\"line\": {\"color\": \"#E5ECF6\", \"width\": 0.5}}, \"type\": \"barpolar\"}], \"carpet\": [{\"aaxis\": {\"endlinecolor\": \"#2a3f5f\", \"gridcolor\": \"white\", \"linecolor\": \"white\", \"minorgridcolor\": \"white\", \"startlinecolor\": \"#2a3f5f\"}, \"baxis\": {\"endlinecolor\": \"#2a3f5f\", \"gridcolor\": \"white\", \"linecolor\": \"white\", \"minorgridcolor\": \"white\", \"startlinecolor\": \"#2a3f5f\"}, \"type\": \"carpet\"}], \"choropleth\": [{\"colorbar\": {\"outlinewidth\": 0, \"ticks\": \"\"}, \"type\": \"choropleth\"}], \"contour\": [{\"colorbar\": {\"outlinewidth\": 0, \"ticks\": \"\"}, \"colorscale\": [[0.0, \"#0d0887\"], [0.1111111111111111, \"#46039f\"], [0.2222222222222222, \"#7201a8\"], [0.3333333333333333, \"#9c179e\"], [0.4444444444444444, \"#bd3786\"], [0.5555555555555556, \"#d8576b\"], [0.6666666666666666, \"#ed7953\"], [0.7777777777777778, \"#fb9f3a\"], [0.8888888888888888, \"#fdca26\"], [1.0, \"#f0f921\"]], \"type\": \"contour\"}], \"contourcarpet\": [{\"colorbar\": {\"outlinewidth\": 0, \"ticks\": \"\"}, \"type\": \"contourcarpet\"}], \"heatmap\": [{\"colorbar\": {\"outlinewidth\": 0, \"ticks\": \"\"}, \"colorscale\": [[0.0, \"#0d0887\"], [0.1111111111111111, \"#46039f\"], [0.2222222222222222, \"#7201a8\"], [0.3333333333333333, \"#9c179e\"], [0.4444444444444444, \"#bd3786\"], [0.5555555555555556, \"#d8576b\"], [0.6666666666666666, \"#ed7953\"], [0.7777777777777778, \"#fb9f3a\"], [0.8888888888888888, \"#fdca26\"], [1.0, \"#f0f921\"]], \"type\": \"heatmap\"}], \"heatmapgl\": [{\"colorbar\": {\"outlinewidth\": 0, \"ticks\": \"\"}, \"colorscale\": [[0.0, \"#0d0887\"], [0.1111111111111111, \"#46039f\"], [0.2222222222222222, \"#7201a8\"], [0.3333333333333333, \"#9c179e\"], [0.4444444444444444, \"#bd3786\"], [0.5555555555555556, \"#d8576b\"], [0.6666666666666666, \"#ed7953\"], [0.7777777777777778, \"#fb9f3a\"], [0.8888888888888888, \"#fdca26\"], [1.0, \"#f0f921\"]], \"type\": \"heatmapgl\"}], \"histogram\": [{\"marker\": {\"colorbar\": {\"outlinewidth\": 0, \"ticks\": \"\"}}, \"type\": \"histogram\"}], \"histogram2d\": [{\"colorbar\": {\"outlinewidth\": 0, \"ticks\": \"\"}, \"colorscale\": [[0.0, \"#0d0887\"], [0.1111111111111111, \"#46039f\"], [0.2222222222222222, \"#7201a8\"], [0.3333333333333333, \"#9c179e\"], [0.4444444444444444, \"#bd3786\"], [0.5555555555555556, \"#d8576b\"], [0.6666666666666666, \"#ed7953\"], [0.7777777777777778, \"#fb9f3a\"], [0.8888888888888888, \"#fdca26\"], [1.0, \"#f0f921\"]], \"type\": \"histogram2d\"}], \"histogram2dcontour\": [{\"colorbar\": {\"outlinewidth\": 0, \"ticks\": \"\"}, \"colorscale\": [[0.0, \"#0d0887\"], [0.1111111111111111, \"#46039f\"], [0.2222222222222222, \"#7201a8\"], [0.3333333333333333, \"#9c179e\"], [0.4444444444444444, \"#bd3786\"], [0.5555555555555556, \"#d8576b\"], [0.6666666666666666, \"#ed7953\"], [0.7777777777777778, \"#fb9f3a\"], [0.8888888888888888, \"#fdca26\"], [1.0, \"#f0f921\"]], \"type\": \"histogram2dcontour\"}], \"mesh3d\": [{\"colorbar\": {\"outlinewidth\": 0, \"ticks\": \"\"}, \"type\": \"mesh3d\"}], \"parcoords\": [{\"line\": {\"colorbar\": {\"outlinewidth\": 0, \"ticks\": \"\"}}, \"type\": \"parcoords\"}], \"pie\": [{\"automargin\": true, \"type\": \"pie\"}], \"scatter\": [{\"marker\": {\"colorbar\": {\"outlinewidth\": 0, \"ticks\": \"\"}}, \"type\": \"scatter\"}], \"scatter3d\": [{\"line\": {\"colorbar\": {\"outlinewidth\": 0, \"ticks\": \"\"}}, \"marker\": {\"colorbar\": {\"outlinewidth\": 0, \"ticks\": \"\"}}, \"type\": \"scatter3d\"}], \"scattercarpet\": [{\"marker\": {\"colorbar\": {\"outlinewidth\": 0, \"ticks\": \"\"}}, \"type\": \"scattercarpet\"}], \"scattergeo\": [{\"marker\": {\"colorbar\": {\"outlinewidth\": 0, \"ticks\": \"\"}}, \"type\": \"scattergeo\"}], \"scattergl\": [{\"marker\": {\"colorbar\": {\"outlinewidth\": 0, \"ticks\": \"\"}}, \"type\": \"scattergl\"}], \"scattermapbox\": [{\"marker\": {\"colorbar\": {\"outlinewidth\": 0, \"ticks\": \"\"}}, \"type\": \"scattermapbox\"}], \"scatterpolar\": [{\"marker\": {\"colorbar\": {\"outlinewidth\": 0, \"ticks\": \"\"}}, \"type\": \"scatterpolar\"}], \"scatterpolargl\": [{\"marker\": {\"colorbar\": {\"outlinewidth\": 0, \"ticks\": \"\"}}, \"type\": \"scatterpolargl\"}], \"scatterternary\": [{\"marker\": {\"colorbar\": {\"outlinewidth\": 0, \"ticks\": \"\"}}, \"type\": \"scatterternary\"}], \"surface\": [{\"colorbar\": {\"outlinewidth\": 0, \"ticks\": \"\"}, \"colorscale\": [[0.0, \"#0d0887\"], [0.1111111111111111, \"#46039f\"], [0.2222222222222222, \"#7201a8\"], [0.3333333333333333, \"#9c179e\"], [0.4444444444444444, \"#bd3786\"], [0.5555555555555556, \"#d8576b\"], [0.6666666666666666, \"#ed7953\"], [0.7777777777777778, \"#fb9f3a\"], [0.8888888888888888, \"#fdca26\"], [1.0, \"#f0f921\"]], \"type\": \"surface\"}], \"table\": [{\"cells\": {\"fill\": {\"color\": \"#EBF0F8\"}, \"line\": {\"color\": \"white\"}}, \"header\": {\"fill\": {\"color\": \"#C8D4E3\"}, \"line\": {\"color\": \"white\"}}, \"type\": \"table\"}]}, \"layout\": {\"annotationdefaults\": {\"arrowcolor\": \"#2a3f5f\", \"arrowhead\": 0, \"arrowwidth\": 1}, \"coloraxis\": {\"colorbar\": {\"outlinewidth\": 0, \"ticks\": \"\"}}, \"colorscale\": {\"diverging\": [[0, \"#8e0152\"], [0.1, \"#c51b7d\"], [0.2, \"#de77ae\"], [0.3, \"#f1b6da\"], [0.4, \"#fde0ef\"], [0.5, \"#f7f7f7\"], [0.6, \"#e6f5d0\"], [0.7, \"#b8e186\"], [0.8, \"#7fbc41\"], [0.9, \"#4d9221\"], [1, \"#276419\"]], \"sequential\": [[0.0, \"#0d0887\"], [0.1111111111111111, \"#46039f\"], [0.2222222222222222, \"#7201a8\"], [0.3333333333333333, \"#9c179e\"], [0.4444444444444444, \"#bd3786\"], [0.5555555555555556, \"#d8576b\"], [0.6666666666666666, \"#ed7953\"], [0.7777777777777778, \"#fb9f3a\"], [0.8888888888888888, \"#fdca26\"], [1.0, \"#f0f921\"]], \"sequentialminus\": [[0.0, \"#0d0887\"], [0.1111111111111111, \"#46039f\"], [0.2222222222222222, \"#7201a8\"], [0.3333333333333333, \"#9c179e\"], [0.4444444444444444, \"#bd3786\"], [0.5555555555555556, \"#d8576b\"], [0.6666666666666666, \"#ed7953\"], [0.7777777777777778, \"#fb9f3a\"], [0.8888888888888888, \"#fdca26\"], [1.0, \"#f0f921\"]]}, \"colorway\": [\"#636efa\", \"#EF553B\", \"#00cc96\", \"#ab63fa\", \"#FFA15A\", \"#19d3f3\", \"#FF6692\", \"#B6E880\", \"#FF97FF\", \"#FECB52\"], \"font\": {\"color\": \"#2a3f5f\"}, \"geo\": {\"bgcolor\": \"white\", \"lakecolor\": \"white\", \"landcolor\": \"#E5ECF6\", \"showlakes\": true, \"showland\": true, \"subunitcolor\": \"white\"}, \"hoverlabel\": {\"align\": \"left\"}, \"hovermode\": \"closest\", \"mapbox\": {\"style\": \"light\"}, \"paper_bgcolor\": \"white\", \"plot_bgcolor\": \"#E5ECF6\", \"polar\": {\"angularaxis\": {\"gridcolor\": \"white\", \"linecolor\": \"white\", \"ticks\": \"\"}, \"bgcolor\": \"#E5ECF6\", \"radialaxis\": {\"gridcolor\": \"white\", \"linecolor\": \"white\", \"ticks\": \"\"}}, \"scene\": {\"xaxis\": {\"backgroundcolor\": \"#E5ECF6\", \"gridcolor\": \"white\", \"gridwidth\": 2, \"linecolor\": \"white\", \"showbackground\": true, \"ticks\": \"\", \"zerolinecolor\": \"white\"}, \"yaxis\": {\"backgroundcolor\": \"#E5ECF6\", \"gridcolor\": \"white\", \"gridwidth\": 2, \"linecolor\": \"white\", \"showbackground\": true, \"ticks\": \"\", \"zerolinecolor\": \"white\"}, \"zaxis\": {\"backgroundcolor\": \"#E5ECF6\", \"gridcolor\": \"white\", \"gridwidth\": 2, \"linecolor\": \"white\", \"showbackground\": true, \"ticks\": \"\", \"zerolinecolor\": \"white\"}}, \"shapedefaults\": {\"line\": {\"color\": \"#2a3f5f\"}}, \"ternary\": {\"aaxis\": {\"gridcolor\": \"white\", \"linecolor\": \"white\", \"ticks\": \"\"}, \"baxis\": {\"gridcolor\": \"white\", \"linecolor\": \"white\", \"ticks\": \"\"}, \"bgcolor\": \"#E5ECF6\", \"caxis\": {\"gridcolor\": \"white\", \"linecolor\": \"white\", \"ticks\": \"\"}}, \"title\": {\"x\": 0.05}, \"xaxis\": {\"automargin\": true, \"gridcolor\": \"white\", \"linecolor\": \"white\", \"ticks\": \"\", \"title\": {\"standoff\": 15}, \"zerolinecolor\": \"white\", \"zerolinewidth\": 2}, \"yaxis\": {\"automargin\": true, \"gridcolor\": \"white\", \"linecolor\": \"white\", \"ticks\": \"\", \"title\": {\"standoff\": 15}, \"zerolinecolor\": \"white\", \"zerolinewidth\": 2}}}, \"xaxis\": {\"anchor\": \"y\", \"domain\": [0.0, 1.0], \"title\": {\"text\": \"DATA SET\"}}, \"yaxis\": {\"anchor\": \"x\", \"domain\": [0.0, 1.0], \"title\": {\"text\": \"count\"}}},\n",
              "                        {\"responsive\": true}\n",
              "                    ).then(function(){\n",
              "                            \n",
              "var gd = document.getElementById('f0b7719b-bcfb-48c1-921a-3448c86df711');\n",
              "var x = new MutationObserver(function (mutations, observer) {{\n",
              "        var display = window.getComputedStyle(gd).display;\n",
              "        if (!display || display === 'none') {{\n",
              "            console.log([gd, 'removed!']);\n",
              "            Plotly.purge(gd);\n",
              "            observer.disconnect();\n",
              "        }}\n",
              "}});\n",
              "\n",
              "// Listen for the removal of the full notebook cells\n",
              "var notebookContainer = gd.closest('#notebook-container');\n",
              "if (notebookContainer) {{\n",
              "    x.observe(notebookContainer, {childList: true});\n",
              "}}\n",
              "\n",
              "// Listen for the clearing of the current output cell\n",
              "var outputEl = gd.closest('.output');\n",
              "if (outputEl) {{\n",
              "    x.observe(outputEl, {childList: true});\n",
              "}}\n",
              "\n",
              "                        })\n",
              "                };\n",
              "                \n",
              "            </script>\n",
              "        </div>\n",
              "</body>\n",
              "</html>"
            ]
          },
          "metadata": {
            "tags": []
          }
        }
      ]
    },
    {
      "cell_type": "markdown",
      "metadata": {
        "id": "-9Ua8H9bWXqh",
        "colab_type": "text"
      },
      "source": [
        "# Saving the model\n",
        "uncomment the code below to save the model (for it to be tested on the TEST set afterwards). This **must** be the final model. \n",
        "\n",
        "The model is then saved in colabs storage and has to be moved to your folder of destination manually."
      ]
    },
    {
      "cell_type": "code",
      "metadata": {
        "id": "3vtYfpZlWnxc",
        "colab_type": "code",
        "colab": {}
      },
      "source": [
        "# model.save(\"{name}.h5\".format(name=\"baseline\"))"
      ],
      "execution_count": 0,
      "outputs": []
    }
  ]
}