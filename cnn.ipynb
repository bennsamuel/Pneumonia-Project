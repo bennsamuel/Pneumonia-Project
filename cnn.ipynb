{
  "nbformat": 4,
  "nbformat_minor": 0,
  "metadata": {
    "kernelspec": {
      "name": "python3",
      "display_name": "Python 3"
    },
    "language_info": {
      "pygments_lexer": "ipython3",
      "nbconvert_exporter": "python",
      "version": "3.6.4",
      "file_extension": ".py",
      "codemirror_mode": {
        "name": "ipython",
        "version": 3
      },
      "name": "python",
      "mimetype": "text/x-python"
    },
    "colab": {
      "name": "Group_77-Pneumonia.ipynb",
      "provenance": [],
      "collapsed_sections": [],
      "include_colab_link": true
    },
    "accelerator": "GPU"
  },
  "cells": [
    {
      "cell_type": "markdown",
      "metadata": {
        "id": "view-in-github",
        "colab_type": "text"
      },
      "source": [
        "<a href=\"https://colab.research.google.com/github/bennsamuel/Pneumonia-Project/blob/master/cnn.ipynb\" target=\"_parent\"><img src=\"https://colab.research.google.com/assets/colab-badge.svg\" alt=\"Open In Colab\"/></a>"
      ]
    },
    {
      "cell_type": "markdown",
      "metadata": {
        "id": "i1HJrduozTKM",
        "colab_type": "text"
      },
      "source": [
        "# Deletes log folder\n",
        "should not be used. Was implemented when cnn algorithm was not finshed to mingle around.\n"
      ]
    },
    {
      "cell_type": "code",
      "metadata": {
        "id": "Uukp28eezLbM",
        "colab_type": "code",
        "colab": {}
      },
      "source": [
        "\n",
        "# %cd /content/drive/My Drive/Group 77 - Pneumonia/logs\n",
        "# !rm -d -r *\n"
      ],
      "execution_count": 0,
      "outputs": []
    },
    {
      "cell_type": "markdown",
      "metadata": {
        "id": "khtTZm2LqT9b",
        "colab_type": "text"
      },
      "source": [
        "# START HERE"
      ]
    },
    {
      "cell_type": "code",
      "metadata": {
        "id": "6gCSpATnMr5e",
        "colab_type": "code",
        "outputId": "bd047f0c-8384-4848-9487-8aa61f071b5d",
        "colab": {
          "base_uri": "https://localhost:8080/",
          "height": 54
        }
      },
      "source": [
        "# START HERE\n",
        "\n",
        "# Load the Drive helper and mount\n",
        "from google.colab import drive\n",
        "\n",
        "# This will prompt for authorization.\n",
        "drive.mount('/content/drive')"
      ],
      "execution_count": 1,
      "outputs": [
        {
          "output_type": "stream",
          "text": [
            "Drive already mounted at /content/drive; to attempt to forcibly remount, call drive.mount(\"/content/drive\", force_remount=True).\n"
          ],
          "name": "stdout"
        }
      ]
    },
    {
      "cell_type": "code",
      "metadata": {
        "id": "I4AOCheJNu3U",
        "colab_type": "code",
        "outputId": "ccbdd563-7d4a-4ec6-ea00-49956c78b144",
        "colab": {
          "base_uri": "https://localhost:8080/",
          "height": 34
        }
      },
      "source": [
        "# After executing the cell above, Drive\n",
        "# files will be present in \"/content/drive/My Drive\".\n",
        "!ls \"/content/drive/My Drive/Group 77 - Pneumonia/pickle/\""
      ],
      "execution_count": 2,
      "outputs": [
        {
          "output_type": "stream",
          "text": [
            "data_augmented.pickle  data.pickle  test_data.pickle\n"
          ],
          "name": "stdout"
        }
      ]
    },
    {
      "cell_type": "code",
      "metadata": {
        "id": "peGASGqf1tHI",
        "colab_type": "code",
        "outputId": "ac1e8773-55ea-4ad6-e602-5317ab6280a0",
        "colab": {
          "base_uri": "https://localhost:8080/",
          "height": 34
        }
      },
      "source": [
        "IMG_SIZE = 224\n",
        "NUM_CLASSES = 3\n",
        "\n",
        "#                0          1         2\n",
        "CATEGORIES = [\"NORMAL\",\"BACTERIA\", \"VIRUS\"]\n",
        "\n",
        "\n",
        "%cd /content/"
      ],
      "execution_count": 3,
      "outputs": [
        {
          "output_type": "stream",
          "text": [
            "/content\n"
          ],
          "name": "stdout"
        }
      ]
    },
    {
      "cell_type": "markdown",
      "metadata": {
        "id": "G534nMYhAJEY",
        "colab_type": "text"
      },
      "source": [
        "## `DATA SET which should be used for training is defined here.`"
      ]
    },
    {
      "cell_type": "code",
      "metadata": {
        "trusted": true,
        "id": "wHYgnMIKEPlo",
        "colab_type": "code",
        "outputId": "ebd476e2-6fd6-4573-e4ef-4f58407a6b9b",
        "colab": {
          "base_uri": "https://localhost:8080/",
          "height": 34
        }
      },
      "source": [
        "#load dataset --> method baseline!\n",
        "import pickle\n",
        "\n",
        "# dont touch his\n",
        "data_set_folder_path = \"/content/drive/My Drive/Group 77 - Pneumonia/pickle\"\n",
        "\n",
        "# HERE Define here which data set should be used for training\n",
        "specific_data_set = \"/data.pickle\"\n",
        "\n",
        "data_set_path = data_set_folder_path + specific_data_set\n",
        "data = pickle.load(open(data_set_path, \"rb\"))\n",
        "\n",
        "test_data = pickle.load(open(\"/content/drive/My Drive/Group 77 - Pneumonia/pickle/test_data.pickle\", \"rb\"))\n",
        "\n",
        "print(\"Mounted data set: {}\".format(specific_data_set))"
      ],
      "execution_count": 4,
      "outputs": [
        {
          "output_type": "stream",
          "text": [
            "Mounted data set: /data.pickle\n"
          ],
          "name": "stdout"
        }
      ]
    },
    {
      "cell_type": "code",
      "metadata": {
        "trusted": true,
        "id": "CZybEQwoEPlY",
        "colab_type": "code",
        "colab": {}
      },
      "source": [
        "# splitting data in training data and validation data \n",
        "# creating normalized SHUFFLED arrays\n",
        "\n",
        "import numpy as np\n",
        "\n",
        "X = []\n",
        "y = []\n",
        "\n",
        "for features, label in data:\n",
        "    X.append(features)\n",
        "    y.append(label)\n",
        "    \n",
        "X = np.array(X).reshape(-1, IMG_SIZE, IMG_SIZE, 1)\n",
        "\n",
        "from sklearn.model_selection import train_test_split\n",
        "\n",
        "# stratify preserves distribution of classes\n",
        "X_train, X_val, y_train, y_val = train_test_split(X, y, test_size=0.4,\n",
        "                                                  random_state=42, stratify=y)\n",
        "\n",
        "X_test = []\n",
        "y_test = []\n",
        "\n",
        "for features, label in test_data:\n",
        "    X_test.append(features)\n",
        "    y_test.append(label)\n",
        "    \n",
        "X_test = np.array(X_test).reshape(-1, IMG_SIZE, IMG_SIZE, 1)\n"
      ],
      "execution_count": 0,
      "outputs": []
    },
    {
      "cell_type": "code",
      "metadata": {
        "trusted": true,
        "id": "O9_iDu0sEPls",
        "colab_type": "code",
        "colab": {}
      },
      "source": [
        "X_train = np.asarray(X_train)\n",
        "y_train = np.asarray(y_train)\n",
        "\n",
        "X_val = np.asarray(X_val)\n",
        "y_val = np.asarray(y_val)\n",
        "\n",
        "X_test = np.asarray(X_test)\n",
        "y_test = np.asarray(y_test)\n",
        "\n",
        "X_train = X_train/255.0\n",
        "X_val = X_val/255.0\n",
        "X_test = X_test/255.0"
      ],
      "execution_count": 0,
      "outputs": []
    },
    {
      "cell_type": "markdown",
      "metadata": {
        "id": "riG4HC1ZJcbt",
        "colab_type": "text"
      },
      "source": [
        "Create the plotting data for later. This is done at this point to have a the data before one hot encoding."
      ]
    },
    {
      "cell_type": "code",
      "metadata": {
        "id": "Xl0p0M8RIdYc",
        "colab_type": "code",
        "colab": {}
      },
      "source": [
        "import pandas as pd\n",
        "\n",
        "\n",
        "train_plot_data = pd.DataFrame(y_train, columns=['CLASS'])\n",
        "train_plot_data['DATA SET'] = 'train'\n",
        "\n",
        "val_plot_data = pd.DataFrame(y_val, columns=['CLASS'])\n",
        "val_plot_data['DATA SET'] = 'val'\n",
        "\n",
        "to_merge = [train_plot_data, val_plot_data]\n",
        "merged_plot_data = pd.concat(to_merge)"
      ],
      "execution_count": 0,
      "outputs": []
    },
    {
      "cell_type": "markdown",
      "metadata": {
        "id": "4i1TriNTImBb",
        "colab_type": "text"
      },
      "source": [
        "'one hot encode' classes\n",
        "\n",
        "before to_categorical: \n",
        "\n",
        "  [1, \n",
        "  2,\n",
        "  1, \n",
        "  0, \n",
        "  1, \n",
        "  2, \n",
        "  ...]\n",
        "\n",
        "after to_categorical:\n",
        "  [[0,1,0],\n",
        "   [0,0,1],\n",
        "   [0,1,0],\n",
        "   ...]"
      ]
    },
    {
      "cell_type": "code",
      "metadata": {
        "id": "1tGqdvi4Im3Q",
        "colab_type": "code",
        "outputId": "2211bb89-c66a-4261-b978-9b5d145928d1",
        "colab": {
          "base_uri": "https://localhost:8080/",
          "height": 97
        }
      },
      "source": [
        "from keras.utils.np_utils import to_categorical\n",
        "\n",
        "y_train = to_categorical(y_train, NUM_CLASSES)\n",
        "y_val = to_categorical(y_val, NUM_CLASSES)\n",
        "y_test = to_categorical(y_test, NUM_CLASSES)"
      ],
      "execution_count": 8,
      "outputs": [
        {
          "output_type": "stream",
          "text": [
            "Using TensorFlow backend.\n"
          ],
          "name": "stderr"
        },
        {
          "output_type": "display_data",
          "data": {
            "text/html": [
              "<p style=\"color: red;\">\n",
              "The default version of TensorFlow in Colab will soon switch to TensorFlow 2.x.<br>\n",
              "We recommend you <a href=\"https://www.tensorflow.org/guide/migrate\" target=\"_blank\">upgrade</a> now \n",
              "or ensure your notebook will continue to use TensorFlow 1.x via the <code>%tensorflow_version 1.x</code> magic:\n",
              "<a href=\"https://colab.research.google.com/notebooks/tensorflow_version.ipynb\" target=\"_blank\">more info</a>.</p>\n"
            ],
            "text/plain": [
              "<IPython.core.display.HTML object>"
            ]
          },
          "metadata": {
            "tags": []
          }
        }
      ]
    },
    {
      "cell_type": "markdown",
      "metadata": {
        "id": "2hL_DPn8h4vo",
        "colab_type": "text"
      },
      "source": [
        "Possibility to export target data sets."
      ]
    },
    {
      "cell_type": "code",
      "metadata": {
        "id": "DyXS7lAjhaiW",
        "colab_type": "code",
        "colab": {}
      },
      "source": [
        "# import pickle\n",
        "\n",
        "# %cd /content/drive/My Drive/Group 77 - Pneumonia/pickle\n",
        "\n",
        "# pickle_out = open(\"y_train.pickle\", \"wb\")\n",
        "# pickle.dump(y_train, pickle_out)\n",
        "# pickle_out.close()\n",
        "\n",
        "# pickle_out = open(\"y_val.pickle\", \"wb\")\n",
        "# pickle.dump(y_val, pickle_out)\n",
        "# pickle_out.close()\n",
        "\n",
        "# pickle_out = open(\"y_test.pickle\", \"wb\")\n",
        "# pickle.dump(y_test, pickle_out)\n",
        "# pickle_out.close()"
      ],
      "execution_count": 0,
      "outputs": []
    },
    {
      "cell_type": "code",
      "metadata": {
        "id": "h4aeHNCs4Pi6",
        "colab_type": "code",
        "outputId": "47b15ce6-6bf4-4fe2-ba92-28c7a332d313",
        "colab": {
          "base_uri": "https://localhost:8080/",
          "height": 34
        }
      },
      "source": [
        "y_train.shape"
      ],
      "execution_count": 10,
      "outputs": [
        {
          "output_type": "execute_result",
          "data": {
            "text/plain": [
              "(3139, 3)"
            ]
          },
          "metadata": {
            "tags": []
          },
          "execution_count": 10
        }
      ]
    },
    {
      "cell_type": "markdown",
      "metadata": {
        "id": "BhZc6GMNurYi",
        "colab_type": "text"
      },
      "source": [
        "Defining layers"
      ]
    },
    {
      "cell_type": "markdown",
      "metadata": {
        "id": "1scT1xVPDyN2",
        "colab_type": "text"
      },
      "source": [
        "Code partially based on [stanford cs 231](http://cs231n.github.io/convolutional-networks/)\n",
        "\n",
        "**strides and dropout** \n",
        "\n",
        "Decided to use increased strides instead of maxpooling layer. Based on:\n",
        "https://www.kaggle.com/dansbecker/dropout-and-strides-for-larger-models\n",
        "\n",
        "and corresponding research paper:\n",
        "[\"Striving for Simplicity: The All Convolutional Net\"](https://academic.microsoft.com/paper/2963382180/citedby/search?q=Striving%20for%20Simplicity%3A%20The%20All%20Convolutional%20Net&qe=RId%253D2963382180&f=&orderBy=0)\n",
        "\n",
        "Dropout percentage (0.5) based on [this paper](https://academic.microsoft.com/paper/1904365287/reference/search?q=Improving%20neural%20networks%20by%20preventing%20co-adaptation%20of%20feature%20detectors&qe=Or(Id%253D2911964244%252CId%253D2108598243%252CId%253D2112796928%252CId%253D2100495367%252CId%253D2912934387%252CId%253D2116064496%252CId%253D2147768505%252CId%253D1993882792%252CId%253D4919037%252CId%253D1498436455%252CId%253D2053229256%252CId%253D2132424367%252CId%253D2184852195%252CId%253D1567512734%252CId%253D2150884987%252CId%253D2125725328%252CId%253D2465562739)&f=&orderBy=0)\n",
        "\n",
        "[another paper](http://jmlr.csail.mit.edu/papers/volume15/srivastava14a/srivastava14a.pdf) on dropout cited by google\n",
        "\n",
        "Why dropout is not used on convolutional layer:\n",
        "[link text](https://academic.microsoft.com/paper/2890166761/citedby/search?q=DropBlock%3A%20A%20regularization%20method%20for%20convolutional%20networks&qe=RId%253D2890166761&f=&orderBy=0)\n"
      ]
    },
    {
      "cell_type": "code",
      "metadata": {
        "trusted": true,
        "id": "Q-5ThfjpEPlv",
        "colab_type": "code",
        "outputId": "1a762d24-726d-4607-c58a-0740f0a352e0",
        "colab": {
          "base_uri": "https://localhost:8080/",
          "height": 88
        }
      },
      "source": [
        "\n",
        "import tensorflow as tf\n",
        "from tensorflow.keras.datasets import cifar10\n",
        "from tensorflow.keras.preprocessing.image import ImageDataGenerator\n",
        "from tensorflow.keras.models import Sequential \n",
        "from tensorflow.keras.layers import Dense, Dropout, Activation, Flatten, Conv2D, MaxPooling2D\n",
        "from tensorflow.keras.callbacks import TensorBoard\n",
        "\n",
        "import time\n",
        "\n",
        "NAME = \"{data_set} - {time}\".format(data_set = specific_data_set, time = time.strftime(\"%Y-%m-%d_%H:%M:%S\"))\n",
        "\n",
        "tensorboard = TensorBoard(log_dir = \"/content/drive/My Drive/Group 77 - Pneumonia/logs/{}\".format(NAME))\n",
        "\n",
        "model = Sequential()\n",
        "\n",
        "model.add(Conv2D(64, kernel_size=(3, 3),\n",
        "                 strides=2,\n",
        "                 activation='relu',\n",
        "                 input_shape=X_train.shape[1:]))\n",
        "model.add(Conv2D(64, kernel_size=(3, 3), strides=2, activation='relu'))\n",
        "# model.add(MaxPooling2D(pool_size=(2,2)))\n",
        "\n",
        "model.add(Conv2D(128, kernel_size=(3, 3), strides=2, activation='relu'))\n",
        "model.add(Conv2D(128, kernel_size=(3, 3), strides=2, activation='relu'))\n",
        "# model.add(MaxPooling2D(pool_size=(2,2)))\n",
        "\n",
        "model.add(Conv2D(256, kernel_size=(3, 3), strides=2, activation='relu'))\n",
        "model.add(Conv2D(256, kernel_size=(3, 3), strides=2, activation='relu'))\n",
        "# model.add(MaxPooling2D(pool_size=(2,2)))\n",
        "\n",
        "model.add(Flatten())\n",
        "\n",
        "# w/o regularization\n",
        "# model.add(Dense(128, activation='relu'))\n",
        "# model.add(Dropout(0.5))\n",
        "\n",
        "# model.add(Dense(128, activation='relu'))\n",
        "# model.add(Dropout(0.5))\n",
        "\n",
        "# with regularization\n",
        "model.add(Dense(128, activation='relu', kernel_regularizer=tf.keras.regularizers.l2(l=0.1)))\n",
        "model.add(Dropout(0.5))\n",
        "\n",
        "model.add(Dense(128, activation='relu', kernel_regularizer=tf.keras.regularizers.l2(l=0.1)))\n",
        "model.add(Dropout(0.5))\n",
        "\n",
        "# Dense 3 softmax because we have 3 classes\n",
        "model.add(Dense(NUM_CLASSES, activation='softmax'))"
      ],
      "execution_count": 11,
      "outputs": [
        {
          "output_type": "stream",
          "text": [
            "WARNING:tensorflow:From /tensorflow-1.15.0/python3.6/tensorflow_core/python/ops/resource_variable_ops.py:1630: calling BaseResourceVariable.__init__ (from tensorflow.python.ops.resource_variable_ops) with constraint is deprecated and will be removed in a future version.\n",
            "Instructions for updating:\n",
            "If using Keras pass *_constraint arguments to layers.\n"
          ],
          "name": "stdout"
        }
      ]
    },
    {
      "cell_type": "markdown",
      "metadata": {
        "id": "LYCGbces_grt",
        "colab_type": "text"
      },
      "source": [
        "Fitting the model. If this is executed multiple times make sure that no addiotional layers were added by runnning the cell above. *THIS DOES NOT WORK. YOU HAVE TO RESTART THE RUNTIME* This can be checked with the model.layers variable."
      ]
    },
    {
      "cell_type": "code",
      "metadata": {
        "id": "EgWk5UAyA2cJ",
        "colab_type": "code",
        "outputId": "8b416494-2619-40ce-d4b4-faa25356e69f",
        "colab": {
          "base_uri": "https://localhost:8080/",
          "height": 34
        }
      },
      "source": [
        "print(\"Mounted data set: {}\".format(specific_data_set))"
      ],
      "execution_count": 12,
      "outputs": [
        {
          "output_type": "stream",
          "text": [
            "Mounted data set: /data.pickle\n"
          ],
          "name": "stdout"
        }
      ]
    },
    {
      "cell_type": "code",
      "metadata": {
        "id": "3yoexBRn0yEP",
        "colab_type": "code",
        "outputId": "71c8f539-509f-41b9-c0f8-80a269c55fec",
        "colab": {
          "base_uri": "https://localhost:8080/",
          "height": 221
        }
      },
      "source": [
        "model.layers"
      ],
      "execution_count": 13,
      "outputs": [
        {
          "output_type": "execute_result",
          "data": {
            "text/plain": [
              "[<tensorflow.python.keras.layers.convolutional.Conv2D at 0x7f299b9bc5f8>,\n",
              " <tensorflow.python.keras.layers.convolutional.Conv2D at 0x7f299b9c3a90>,\n",
              " <tensorflow.python.keras.layers.convolutional.Conv2D at 0x7f299b9c3a58>,\n",
              " <tensorflow.python.keras.layers.convolutional.Conv2D at 0x7f299b967438>,\n",
              " <tensorflow.python.keras.layers.convolutional.Conv2D at 0x7f299b1404a8>,\n",
              " <tensorflow.python.keras.layers.convolutional.Conv2D at 0x7f299b0cca58>,\n",
              " <tensorflow.python.keras.layers.core.Flatten at 0x7f299b0cca90>,\n",
              " <tensorflow.python.keras.layers.core.Dense at 0x7f299b0ea898>,\n",
              " <tensorflow.python.keras.layers.core.Dropout at 0x7f299b0ea828>,\n",
              " <tensorflow.python.keras.layers.core.Dense at 0x7f299b0ea7b8>,\n",
              " <tensorflow.python.keras.layers.core.Dropout at 0x7f299b0fde10>,\n",
              " <tensorflow.python.keras.layers.core.Dense at 0x7f299b0a6278>]"
            ]
          },
          "metadata": {
            "tags": []
          },
          "execution_count": 13
        }
      ]
    },
    {
      "cell_type": "code",
      "metadata": {
        "id": "pHuOkCRt_uO_",
        "colab_type": "code",
        "outputId": "18af7628-957a-41f1-93d5-e3769d73b0f3",
        "colab": {
          "base_uri": "https://localhost:8080/",
          "height": 1000
        }
      },
      "source": [
        "precision = tf.keras.metrics.Precision()\n",
        "recall = tf.keras.metrics.Recall()\n",
        "\n",
        "model.compile(loss=\"categorical_crossentropy\", \n",
        "              optimizer=\"adam\", \n",
        "              metrics=[\"accuracy\", precision, recall])\n",
        "\n",
        "model.fit(X_train, y_train, batch_size=128, epochs=30, validation_data=(X_val,y_val), callbacks = [tensorboard])"
      ],
      "execution_count": 14,
      "outputs": [
        {
          "output_type": "stream",
          "text": [
            "Train on 3139 samples, validate on 2093 samples\n",
            "Epoch 1/30\n",
            "3139/3139 [==============================] - 18s 6ms/sample - loss: 25.3370 - acc: 0.4693 - precision: 0.4524 - recall: 0.0242 - val_loss: 15.5277 - val_acc: 0.4849 - val_precision: 1.0000 - val_recall: 0.0038\n",
            "Epoch 2/30\n",
            "3139/3139 [==============================] - 9s 3ms/sample - loss: 10.7662 - acc: 0.4849 - precision: 0.5140 - recall: 0.0758 - val_loss: 6.8950 - val_acc: 0.4849 - val_precision: 0.5630 - val_recall: 0.1089\n",
            "Epoch 3/30\n",
            "3139/3139 [==============================] - 10s 3ms/sample - loss: 5.1237 - acc: 0.4852 - precision: 0.4973 - recall: 0.0895 - val_loss: 3.6751 - val_acc: 0.4849 - val_precision: 0.0000e+00 - val_recall: 0.0000e+00\n",
            "Epoch 4/30\n",
            "3139/3139 [==============================] - 9s 3ms/sample - loss: 2.9613 - acc: 0.4852 - precision: 0.5066 - recall: 0.0366 - val_loss: 2.3402 - val_acc: 0.4849 - val_precision: 0.0000e+00 - val_recall: 0.0000e+00\n",
            "Epoch 5/30\n",
            "3139/3139 [==============================] - 10s 3ms/sample - loss: 1.9773 - acc: 0.5011 - precision: 0.7389 - recall: 0.0956 - val_loss: 1.6119 - val_acc: 0.5638 - val_precision: 0.6328 - val_recall: 0.4133\n",
            "Epoch 6/30\n",
            "3139/3139 [==============================] - 10s 3ms/sample - loss: 1.4630 - acc: 0.5521 - precision: 0.6884 - recall: 0.3504 - val_loss: 1.2687 - val_acc: 0.5982 - val_precision: 0.7070 - val_recall: 0.3655\n",
            "Epoch 7/30\n",
            "3139/3139 [==============================] - 10s 3ms/sample - loss: 1.1852 - acc: 0.5674 - precision: 0.6947 - recall: 0.3995 - val_loss: 1.0899 - val_acc: 0.5753 - val_precision: 0.6440 - val_recall: 0.4969\n",
            "Epoch 8/30\n",
            "3139/3139 [==============================] - 10s 3ms/sample - loss: 1.0251 - acc: 0.5827 - precision: 0.7034 - recall: 0.4208 - val_loss: 0.9461 - val_acc: 0.6001 - val_precision: 0.7212 - val_recall: 0.5031\n",
            "Epoch 9/30\n",
            "3139/3139 [==============================] - 10s 3ms/sample - loss: 0.9158 - acc: 0.6187 - precision: 0.7058 - recall: 0.4944 - val_loss: 0.8597 - val_acc: 0.6316 - val_precision: 0.7442 - val_recall: 0.5031\n",
            "Epoch 10/30\n",
            "3139/3139 [==============================] - 10s 3ms/sample - loss: 0.8544 - acc: 0.6257 - precision: 0.7367 - recall: 0.5116 - val_loss: 0.7939 - val_acc: 0.6565 - val_precision: 0.7618 - val_recall: 0.5409\n",
            "Epoch 11/30\n",
            "3139/3139 [==============================] - 10s 3ms/sample - loss: 0.7813 - acc: 0.6556 - precision: 0.7554 - recall: 0.5616 - val_loss: 0.7448 - val_acc: 0.6708 - val_precision: 0.7453 - val_recall: 0.5815\n",
            "Epoch 12/30\n",
            "3139/3139 [==============================] - 10s 3ms/sample - loss: 0.7354 - acc: 0.6849 - precision: 0.7585 - recall: 0.5833 - val_loss: 0.7008 - val_acc: 0.7157 - val_precision: 0.7782 - val_recall: 0.5968\n",
            "Epoch 13/30\n",
            "3139/3139 [==============================] - 10s 3ms/sample - loss: 0.6585 - acc: 0.7260 - precision: 0.7737 - recall: 0.6623 - val_loss: 0.6609 - val_acc: 0.7267 - val_precision: 0.7473 - val_recall: 0.7066\n",
            "Epoch 14/30\n",
            "3139/3139 [==============================] - 10s 3ms/sample - loss: 0.6239 - acc: 0.7493 - precision: 0.7849 - recall: 0.7066 - val_loss: 0.6157 - val_acc: 0.7525 - val_precision: 0.7724 - val_recall: 0.7200\n",
            "Epoch 15/30\n",
            "3139/3139 [==============================] - 10s 3ms/sample - loss: 0.5794 - acc: 0.7722 - precision: 0.7961 - recall: 0.7388 - val_loss: 0.6318 - val_acc: 0.7501 - val_precision: 0.7752 - val_recall: 0.7066\n",
            "Epoch 16/30\n",
            "3139/3139 [==============================] - 10s 3ms/sample - loss: 0.5659 - acc: 0.7853 - precision: 0.8050 - recall: 0.7563 - val_loss: 0.5997 - val_acc: 0.7697 - val_precision: 0.7808 - val_recall: 0.7473\n",
            "Epoch 17/30\n",
            "3139/3139 [==============================] - 10s 3ms/sample - loss: 0.5228 - acc: 0.7983 - precision: 0.8111 - recall: 0.7754 - val_loss: 0.6177 - val_acc: 0.7549 - val_precision: 0.7697 - val_recall: 0.7425\n",
            "Epoch 18/30\n",
            "3139/3139 [==============================] - 10s 3ms/sample - loss: 0.5102 - acc: 0.7987 - precision: 0.8153 - recall: 0.7789 - val_loss: 0.6233 - val_acc: 0.7554 - val_precision: 0.7688 - val_recall: 0.7420\n",
            "Epoch 19/30\n",
            "3139/3139 [==============================] - 10s 3ms/sample - loss: 0.4852 - acc: 0.8124 - precision: 0.8300 - recall: 0.7961 - val_loss: 0.5797 - val_acc: 0.7683 - val_precision: 0.7775 - val_recall: 0.7597\n",
            "Epoch 20/30\n",
            "3139/3139 [==============================] - 10s 3ms/sample - loss: 0.4699 - acc: 0.8165 - precision: 0.8298 - recall: 0.8031 - val_loss: 0.5922 - val_acc: 0.7688 - val_precision: 0.7791 - val_recall: 0.7582\n",
            "Epoch 21/30\n",
            "3139/3139 [==============================] - 10s 3ms/sample - loss: 0.4459 - acc: 0.8324 - precision: 0.8396 - recall: 0.8222 - val_loss: 0.5881 - val_acc: 0.7645 - val_precision: 0.7839 - val_recall: 0.7506\n",
            "Epoch 22/30\n",
            "3139/3139 [==============================] - 10s 3ms/sample - loss: 0.4331 - acc: 0.8382 - precision: 0.8442 - recall: 0.8270 - val_loss: 0.5980 - val_acc: 0.7750 - val_precision: 0.7840 - val_recall: 0.7649\n",
            "Epoch 23/30\n",
            "3139/3139 [==============================] - 10s 3ms/sample - loss: 0.4085 - acc: 0.8449 - precision: 0.8530 - recall: 0.8372 - val_loss: 0.5979 - val_acc: 0.7673 - val_precision: 0.7795 - val_recall: 0.7602\n",
            "Epoch 24/30\n",
            "3139/3139 [==============================] - 10s 3ms/sample - loss: 0.4002 - acc: 0.8541 - precision: 0.8619 - recall: 0.8433 - val_loss: 0.6689 - val_acc: 0.7745 - val_precision: 0.7842 - val_recall: 0.7692\n",
            "Epoch 25/30\n",
            "3139/3139 [==============================] - 10s 3ms/sample - loss: 0.4035 - acc: 0.8509 - precision: 0.8580 - recall: 0.8449 - val_loss: 0.6330 - val_acc: 0.7759 - val_precision: 0.7814 - val_recall: 0.7668\n",
            "Epoch 26/30\n",
            "3139/3139 [==============================] - 10s 3ms/sample - loss: 0.3640 - acc: 0.8633 - precision: 0.8692 - recall: 0.8576 - val_loss: 0.6150 - val_acc: 0.7759 - val_precision: 0.7875 - val_recall: 0.7649\n",
            "Epoch 27/30\n",
            "3139/3139 [==============================] - 10s 3ms/sample - loss: 0.3553 - acc: 0.8742 - precision: 0.8788 - recall: 0.8684 - val_loss: 0.7221 - val_acc: 0.7539 - val_precision: 0.7600 - val_recall: 0.7473\n",
            "Epoch 28/30\n",
            "3139/3139 [==============================] - 10s 3ms/sample - loss: 0.3286 - acc: 0.8926 - precision: 0.8976 - recall: 0.8882 - val_loss: 0.7573 - val_acc: 0.7606 - val_precision: 0.7665 - val_recall: 0.7530\n",
            "Epoch 29/30\n",
            "3139/3139 [==============================] - 10s 3ms/sample - loss: 0.3259 - acc: 0.8907 - precision: 0.8938 - recall: 0.8850 - val_loss: 0.6910 - val_acc: 0.7630 - val_precision: 0.7710 - val_recall: 0.7592\n",
            "Epoch 30/30\n",
            "3139/3139 [==============================] - 10s 3ms/sample - loss: 0.3167 - acc: 0.9000 - precision: 0.9038 - recall: 0.8952 - val_loss: 0.7795 - val_acc: 0.7582 - val_precision: 0.7630 - val_recall: 0.7554\n"
          ],
          "name": "stdout"
        },
        {
          "output_type": "execute_result",
          "data": {
            "text/plain": [
              "<tensorflow.python.keras.callbacks.History at 0x7f299afe5eb8>"
            ]
          },
          "metadata": {
            "tags": []
          },
          "execution_count": 14
        }
      ]
    },
    {
      "cell_type": "markdown",
      "metadata": {
        "id": "swb3Yu-LutGE",
        "colab_type": "text"
      },
      "source": [
        "fit model and define metrics"
      ]
    },
    {
      "cell_type": "code",
      "metadata": {
        "id": "G3uHqquJ6t8h",
        "colab_type": "code",
        "colab": {
          "base_uri": "https://localhost:8080/",
          "height": 34
        },
        "outputId": "4c06e1a8-76ce-4fef-f302-1b51235dc18a"
      },
      "source": [
        "!kill 1145"
      ],
      "execution_count": 15,
      "outputs": [
        {
          "output_type": "stream",
          "text": [
            "/bin/bash: line 0: kill: (1145) - No such process\n"
          ],
          "name": "stdout"
        }
      ]
    },
    {
      "cell_type": "code",
      "metadata": {
        "id": "7yRTOkoZmV_R",
        "colab_type": "code",
        "colab": {}
      },
      "source": [
        "%load_ext tensorboard "
      ],
      "execution_count": 0,
      "outputs": []
    },
    {
      "cell_type": "code",
      "metadata": {
        "id": "izpEbXQomo6_",
        "colab_type": "code",
        "outputId": "f36d97f0-3233-4935-d3b7-46c637ae57d9",
        "colab": {
          "base_uri": "https://localhost:8080/",
          "height": 17
        }
      },
      "source": [
        "# has to be run twice. no clue why\n",
        "\n",
        "%tensorboard --logdir \"/content/drive/My Drive/Group 77 - Pneumonia/logs\""
      ],
      "execution_count": 17,
      "outputs": [
        {
          "output_type": "display_data",
          "data": {
            "text/html": [
              "\n",
              "    <div id=\"root\"></div>\n",
              "    <script>\n",
              "      (function() {\n",
              "        window.TENSORBOARD_ENV = window.TENSORBOARD_ENV || {};\n",
              "        window.TENSORBOARD_ENV[\"IN_COLAB\"] = true;\n",
              "        document.querySelector(\"base\").href = \"https://localhost:6006\";\n",
              "        function fixUpTensorboard(root) {\n",
              "          const tftb = root.querySelector(\"tf-tensorboard\");\n",
              "          // Disable the fragment manipulation behavior in Colab. Not\n",
              "          // only is the behavior not useful (as the iframe's location\n",
              "          // is not visible to the user), it causes TensorBoard's usage\n",
              "          // of `window.replace` to navigate away from the page and to\n",
              "          // the `localhost:<port>` URL specified by the base URI, which\n",
              "          // in turn causes the frame to (likely) crash.\n",
              "          tftb.removeAttribute(\"use-hash\");\n",
              "        }\n",
              "        function executeAllScripts(root) {\n",
              "          // When `script` elements are inserted into the DOM by\n",
              "          // assigning to an element's `innerHTML`, the scripts are not\n",
              "          // executed. Thus, we manually re-insert these scripts so that\n",
              "          // TensorBoard can initialize itself.\n",
              "          for (const script of root.querySelectorAll(\"script\")) {\n",
              "            const newScript = document.createElement(\"script\");\n",
              "            newScript.type = script.type;\n",
              "            newScript.textContent = script.textContent;\n",
              "            root.appendChild(newScript);\n",
              "            script.remove();\n",
              "          }\n",
              "        }\n",
              "        function setHeight(root, height) {\n",
              "          // We set the height dynamically after the TensorBoard UI has\n",
              "          // been initialized. This avoids an intermediate state in\n",
              "          // which the container plus the UI become taller than the\n",
              "          // final width and cause the Colab output frame to be\n",
              "          // permanently resized, eventually leading to an empty\n",
              "          // vertical gap below the TensorBoard UI. It's not clear\n",
              "          // exactly what causes this problematic intermediate state,\n",
              "          // but setting the height late seems to fix it.\n",
              "          root.style.height = `${height}px`;\n",
              "        }\n",
              "        const root = document.getElementById(\"root\");\n",
              "        fetch(\".\")\n",
              "          .then((x) => x.text())\n",
              "          .then((html) => void (root.innerHTML = html))\n",
              "          .then(() => fixUpTensorboard(root))\n",
              "          .then(() => executeAllScripts(root))\n",
              "          .then(() => setHeight(root, 800));\n",
              "      })();\n",
              "    </script>\n",
              "  "
            ],
            "text/plain": [
              "<IPython.core.display.HTML object>"
            ]
          },
          "metadata": {
            "tags": []
          }
        }
      ]
    },
    {
      "cell_type": "code",
      "metadata": {
        "id": "hHlccmssWKT5",
        "colab_type": "code",
        "colab": {}
      },
      "source": [
        "# prevents tensorboard from creating new precision_1, precision_2 etc.\n",
        "tf.reset_default_graph()"
      ],
      "execution_count": 0,
      "outputs": []
    },
    {
      "cell_type": "markdown",
      "metadata": {
        "id": "d0DfAb4lk-AA",
        "colab_type": "text"
      },
      "source": [
        "# data plots"
      ]
    },
    {
      "cell_type": "code",
      "metadata": {
        "id": "Qv_0G0IdDw5m",
        "colab_type": "code",
        "outputId": "3b0234df-fed6-4c5b-8e79-c4c799d62f85",
        "colab": {
          "base_uri": "https://localhost:8080/",
          "height": 0
        }
      },
      "source": [
        "import plotly.express as px\n",
        "fig = px.histogram(merged_plot_data, x='DATA SET', color=\"CLASS\")\n",
        "fig.show()\n"
      ],
      "execution_count": 19,
      "outputs": [
        {
          "output_type": "display_data",
          "data": {
            "text/html": [
              "<html>\n",
              "<head><meta charset=\"utf-8\" /></head>\n",
              "<body>\n",
              "    <div>\n",
              "            <script src=\"https://cdnjs.cloudflare.com/ajax/libs/mathjax/2.7.5/MathJax.js?config=TeX-AMS-MML_SVG\"></script><script type=\"text/javascript\">if (window.MathJax) {MathJax.Hub.Config({SVG: {font: \"STIX-Web\"}});}</script>\n",
              "                <script type=\"text/javascript\">window.PlotlyConfig = {MathJaxConfig: 'local'};</script>\n",
              "        <script src=\"https://cdn.plot.ly/plotly-latest.min.js\"></script>    \n",
              "            <div id=\"ee32ca04-41f4-48dc-89b0-a15727d2263b\" class=\"plotly-graph-div\" style=\"height:525px; width:100%;\"></div>\n",
              "            <script type=\"text/javascript\">\n",
              "                \n",
              "                    window.PLOTLYENV=window.PLOTLYENV || {};\n",
              "                    \n",
              "                if (document.getElementById(\"ee32ca04-41f4-48dc-89b0-a15727d2263b\")) {\n",
              "                    Plotly.newPlot(\n",
              "                        'ee32ca04-41f4-48dc-89b0-a15727d2263b',\n",
              "                        [{\"alignmentgroup\": \"True\", \"bingroup\": \"x\", \"hoverlabel\": {\"namelength\": 0}, \"hovertemplate\": \"CLASS=1<br>DATA SET=%{x}<br>count=%{y}\", \"legendgroup\": \"CLASS=1\", \"marker\": {\"color\": \"#636efa\"}, \"name\": \"CLASS=1\", \"offsetgroup\": \"CLASS=1\", \"orientation\": \"v\", \"showlegend\": true, \"type\": \"histogram\", \"x\": [\"train\", \"train\", \"train\", \"train\", \"train\", \"train\", \"train\", \"train\", \"train\", \"train\", \"train\", \"train\", \"train\", \"train\", \"train\", \"train\", \"train\", \"train\", \"train\", \"train\", \"train\", \"train\", \"train\", \"train\", \"train\", \"train\", \"train\", \"train\", \"train\", \"train\", \"train\", \"train\", \"train\", \"train\", \"train\", \"train\", \"train\", \"train\", \"train\", \"train\", \"train\", \"train\", \"train\", \"train\", \"train\", \"train\", \"train\", \"train\", \"train\", \"train\", \"train\", \"train\", \"train\", \"train\", \"train\", \"train\", \"train\", \"train\", \"train\", \"train\", \"train\", \"train\", \"train\", \"train\", \"train\", \"train\", \"train\", \"train\", \"train\", \"train\", \"train\", \"train\", \"train\", \"train\", \"train\", \"train\", \"train\", \"train\", \"train\", \"train\", \"train\", \"train\", \"train\", \"train\", \"train\", \"train\", \"train\", \"train\", \"train\", \"train\", \"train\", \"train\", \"train\", \"train\", \"train\", \"train\", \"train\", \"train\", \"train\", \"train\", \"train\", \"train\", \"train\", \"train\", \"train\", \"train\", \"train\", \"train\", \"train\", \"train\", \"train\", \"train\", \"train\", \"train\", \"train\", \"train\", \"train\", \"train\", \"train\", \"train\", \"train\", \"train\", \"train\", \"train\", \"train\", \"train\", \"train\", \"train\", \"train\", \"train\", \"train\", \"train\", \"train\", \"train\", \"train\", \"train\", \"train\", \"train\", \"train\", \"train\", \"train\", \"train\", \"train\", \"train\", \"train\", \"train\", \"train\", \"train\", \"train\", \"train\", \"train\", \"train\", \"train\", \"train\", \"train\", \"train\", \"train\", \"train\", \"train\", \"train\", \"train\", \"train\", \"train\", \"train\", \"train\", \"train\", \"train\", \"train\", \"train\", \"train\", \"train\", \"train\", \"train\", \"train\", \"train\", \"train\", \"train\", \"train\", \"train\", \"train\", \"train\", \"train\", \"train\", \"train\", \"train\", \"train\", \"train\", \"train\", \"train\", \"train\", \"train\", \"train\", \"train\", \"train\", \"train\", \"train\", \"train\", \"train\", \"train\", \"train\", \"train\", \"train\", \"train\", \"train\", \"train\", \"train\", \"train\", \"train\", \"train\", \"train\", \"train\", \"train\", \"train\", \"train\", \"train\", \"train\", \"train\", \"train\", \"train\", \"train\", \"train\", \"train\", \"train\", \"train\", \"train\", \"train\", \"train\", \"train\", \"train\", \"train\", \"train\", \"train\", \"train\", \"train\", \"train\", \"train\", \"train\", \"train\", \"train\", \"train\", \"train\", \"train\", \"train\", \"train\", \"train\", \"train\", \"train\", \"train\", \"train\", \"train\", \"train\", \"train\", \"train\", \"train\", \"train\", \"train\", \"train\", \"train\", \"train\", \"train\", \"train\", \"train\", \"train\", \"train\", \"train\", \"train\", \"train\", \"train\", \"train\", \"train\", \"train\", \"train\", \"train\", \"train\", \"train\", \"train\", \"train\", \"train\", \"train\", \"train\", \"train\", \"train\", \"train\", \"train\", \"train\", \"train\", \"train\", \"train\", \"train\", \"train\", \"train\", \"train\", \"train\", \"train\", \"train\", \"train\", \"train\", \"train\", \"train\", \"train\", \"train\", \"train\", \"train\", \"train\", \"train\", \"train\", \"train\", \"train\", \"train\", \"train\", \"train\", \"train\", \"train\", \"train\", \"train\", \"train\", \"train\", \"train\", \"train\", \"train\", \"train\", \"train\", \"train\", \"train\", \"train\", \"train\", \"train\", \"train\", \"train\", \"train\", \"train\", \"train\", \"train\", \"train\", \"train\", \"train\", \"train\", \"train\", \"train\", \"train\", \"train\", \"train\", \"train\", \"train\", \"train\", \"train\", \"train\", \"train\", \"train\", \"train\", \"train\", \"train\", \"train\", \"train\", \"train\", \"train\", \"train\", \"train\", \"train\", \"train\", \"train\", \"train\", \"train\", \"train\", \"train\", \"train\", \"train\", \"train\", \"train\", \"train\", \"train\", \"train\", \"train\", \"train\", \"train\", \"train\", \"train\", \"train\", \"train\", \"train\", \"train\", \"train\", \"train\", \"train\", \"train\", \"train\", \"train\", \"train\", \"train\", \"train\", \"train\", \"train\", \"train\", \"train\", \"train\", \"train\", \"train\", \"train\", \"train\", \"train\", \"train\", \"train\", \"train\", \"train\", \"train\", \"train\", \"train\", \"train\", \"train\", \"train\", \"train\", \"train\", \"train\", \"train\", \"train\", \"train\", \"train\", \"train\", \"train\", \"train\", \"train\", \"train\", \"train\", \"train\", \"train\", \"train\", \"train\", \"train\", \"train\", \"train\", \"train\", \"train\", \"train\", \"train\", \"train\", \"train\", \"train\", \"train\", \"train\", \"train\", \"train\", \"train\", \"train\", \"train\", \"train\", \"train\", \"train\", \"train\", \"train\", \"train\", \"train\", \"train\", \"train\", \"train\", \"train\", \"train\", \"train\", \"train\", \"train\", \"train\", \"train\", \"train\", \"train\", \"train\", \"train\", \"train\", \"train\", \"train\", \"train\", \"train\", \"train\", \"train\", \"train\", \"train\", \"train\", \"train\", \"train\", \"train\", \"train\", \"train\", \"train\", \"train\", \"train\", \"train\", \"train\", \"train\", \"train\", \"train\", \"train\", \"train\", \"train\", \"train\", \"train\", \"train\", \"train\", \"train\", \"train\", \"train\", \"train\", \"train\", \"train\", \"train\", \"train\", \"train\", \"train\", \"train\", \"train\", \"train\", \"train\", \"train\", \"train\", \"train\", \"train\", \"train\", \"train\", \"train\", \"train\", \"train\", \"train\", \"train\", \"train\", \"train\", \"train\", \"train\", \"train\", \"train\", \"train\", \"train\", \"train\", \"train\", \"train\", \"train\", \"train\", \"train\", \"train\", \"train\", \"train\", \"train\", \"train\", \"train\", \"train\", \"train\", \"train\", \"train\", \"train\", \"train\", \"train\", \"train\", \"train\", \"train\", \"train\", \"train\", \"train\", \"train\", \"train\", \"train\", \"train\", \"train\", \"train\", \"train\", \"train\", \"train\", \"train\", \"train\", \"train\", \"train\", \"train\", \"train\", \"train\", \"train\", \"train\", \"train\", \"train\", \"train\", \"train\", \"train\", \"train\", \"train\", \"train\", \"train\", \"train\", \"train\", \"train\", \"train\", \"train\", \"train\", \"train\", \"train\", \"train\", \"train\", \"train\", \"train\", \"train\", \"train\", \"train\", \"train\", \"train\", \"train\", \"train\", \"train\", \"train\", \"train\", \"train\", \"train\", \"train\", \"train\", \"train\", \"train\", \"train\", \"train\", \"train\", \"train\", \"train\", \"train\", \"train\", \"train\", \"train\", \"train\", \"train\", \"train\", \"train\", \"train\", \"train\", \"train\", \"train\", \"train\", \"train\", \"train\", \"train\", \"train\", \"train\", \"train\", \"train\", \"train\", \"train\", \"train\", \"train\", \"train\", \"train\", \"train\", \"train\", \"train\", \"train\", \"train\", \"train\", \"train\", \"train\", \"train\", \"train\", \"train\", \"train\", \"train\", \"train\", \"train\", \"train\", \"train\", \"train\", \"train\", \"train\", \"train\", \"train\", \"train\", \"train\", \"train\", \"train\", \"train\", \"train\", \"train\", \"train\", \"train\", \"train\", \"train\", \"train\", \"train\", \"train\", \"train\", \"train\", \"train\", \"train\", \"train\", \"train\", \"train\", \"train\", \"train\", \"train\", \"train\", \"train\", \"train\", \"train\", \"train\", \"train\", \"train\", \"train\", \"train\", \"train\", \"train\", \"train\", \"train\", \"train\", \"train\", \"train\", \"train\", \"train\", \"train\", \"train\", \"train\", \"train\", \"train\", \"train\", \"train\", \"train\", \"train\", \"train\", \"train\", \"train\", \"train\", \"train\", \"train\", \"train\", \"train\", \"train\", \"train\", \"train\", \"train\", \"train\", \"train\", \"train\", \"train\", \"train\", \"train\", \"train\", \"train\", \"train\", \"train\", \"train\", \"train\", \"train\", \"train\", \"train\", \"train\", \"train\", \"train\", \"train\", \"train\", \"train\", \"train\", \"train\", \"train\", \"train\", \"train\", \"train\", \"train\", \"train\", \"train\", \"train\", \"train\", \"train\", \"train\", \"train\", \"train\", \"train\", \"train\", \"train\", \"train\", \"train\", \"train\", \"train\", \"train\", \"train\", \"train\", \"train\", \"train\", \"train\", \"train\", \"train\", \"train\", \"train\", \"train\", \"train\", \"train\", \"train\", \"train\", \"train\", \"train\", \"train\", \"train\", \"train\", \"train\", \"train\", \"train\", \"train\", \"train\", \"train\", \"train\", \"train\", \"train\", \"train\", \"train\", \"train\", \"train\", \"train\", \"train\", \"train\", \"train\", \"train\", \"train\", \"train\", \"train\", \"train\", \"train\", \"train\", \"train\", \"train\", \"train\", \"train\", \"train\", \"train\", \"train\", \"train\", \"train\", \"train\", \"train\", \"train\", \"train\", \"train\", \"train\", \"train\", \"train\", \"train\", \"train\", \"train\", \"train\", \"train\", \"train\", \"train\", \"train\", \"train\", \"train\", \"train\", \"train\", \"train\", \"train\", \"train\", \"train\", \"train\", \"train\", \"train\", \"train\", \"train\", \"train\", \"train\", \"train\", \"train\", \"train\", \"train\", \"train\", \"train\", \"train\", \"train\", \"train\", \"train\", \"train\", \"train\", \"train\", \"train\", \"train\", \"train\", \"train\", \"train\", \"train\", \"train\", \"train\", \"train\", \"train\", \"train\", \"train\", \"train\", \"train\", \"train\", \"train\", \"train\", \"train\", \"train\", \"train\", \"train\", \"train\", \"train\", \"train\", \"train\", \"train\", \"train\", \"train\", \"train\", \"train\", \"train\", \"train\", \"train\", \"train\", \"train\", \"train\", \"train\", \"train\", \"train\", \"train\", \"train\", \"train\", \"train\", \"train\", \"train\", \"train\", \"train\", \"train\", \"train\", \"train\", \"train\", \"train\", \"train\", \"train\", \"train\", \"train\", \"train\", \"train\", \"train\", \"train\", \"train\", \"train\", \"train\", \"train\", \"train\", \"train\", \"train\", \"train\", \"train\", \"train\", \"train\", \"train\", \"train\", \"train\", \"train\", \"train\", \"train\", \"train\", \"train\", \"train\", \"train\", \"train\", \"train\", \"train\", \"train\", \"train\", \"train\", \"train\", \"train\", \"train\", \"train\", \"train\", \"train\", \"train\", \"train\", \"train\", \"train\", \"train\", \"train\", \"train\", \"train\", \"train\", \"train\", \"train\", \"train\", \"train\", \"train\", \"train\", \"train\", \"train\", \"train\", \"train\", \"train\", \"train\", \"train\", \"train\", \"train\", \"train\", \"train\", \"train\", \"train\", \"train\", \"train\", \"train\", \"train\", \"train\", \"train\", \"train\", \"train\", \"train\", \"train\", \"train\", \"train\", \"train\", \"train\", \"train\", \"train\", \"train\", \"train\", \"train\", \"train\", \"train\", \"train\", \"train\", \"train\", \"train\", \"train\", \"train\", \"train\", \"train\", \"train\", \"train\", \"train\", \"train\", \"train\", \"train\", \"train\", \"train\", \"train\", \"train\", \"train\", \"train\", \"train\", \"train\", \"train\", \"train\", \"train\", \"train\", \"train\", \"train\", \"train\", \"train\", \"train\", \"train\", \"train\", \"train\", \"train\", \"train\", \"train\", \"train\", \"train\", \"train\", \"train\", \"train\", \"train\", \"train\", \"train\", \"train\", \"train\", \"train\", \"train\", \"train\", \"train\", \"train\", \"train\", \"train\", \"train\", \"train\", \"train\", \"train\", \"train\", \"train\", \"train\", \"train\", \"train\", \"train\", \"train\", \"train\", \"train\", \"train\", \"train\", \"train\", \"train\", \"train\", \"train\", \"train\", \"train\", \"train\", \"train\", \"train\", \"train\", \"train\", \"train\", \"train\", \"train\", \"train\", \"train\", \"train\", \"train\", \"train\", \"train\", \"train\", \"train\", \"train\", \"train\", \"train\", \"train\", \"train\", \"train\", \"train\", \"train\", \"train\", \"train\", \"train\", \"train\", \"train\", \"train\", \"train\", \"train\", \"train\", \"train\", \"train\", \"train\", \"train\", \"train\", \"train\", \"train\", \"train\", \"train\", \"train\", \"train\", \"train\", \"train\", \"train\", \"train\", \"train\", \"train\", \"train\", \"train\", \"train\", \"train\", \"train\", \"train\", \"train\", \"train\", \"train\", \"train\", \"train\", \"train\", \"train\", \"train\", \"train\", \"train\", \"train\", \"train\", \"train\", \"train\", \"train\", \"train\", \"train\", \"train\", \"train\", \"train\", \"train\", \"train\", \"train\", \"train\", \"train\", \"train\", \"train\", \"train\", \"train\", \"train\", \"train\", \"train\", \"train\", \"train\", \"train\", \"train\", \"train\", \"train\", \"train\", \"train\", \"train\", \"train\", \"train\", \"train\", \"train\", \"train\", \"train\", \"train\", \"train\", \"train\", \"train\", \"train\", \"train\", \"train\", \"train\", \"train\", \"train\", \"train\", \"train\", \"train\", \"train\", \"train\", \"train\", \"train\", \"train\", \"train\", \"train\", \"train\", \"train\", \"train\", \"train\", \"train\", \"train\", \"train\", \"train\", \"train\", \"train\", \"train\", \"train\", \"train\", \"train\", \"train\", \"train\", \"train\", \"train\", \"train\", \"train\", \"train\", \"train\", \"train\", \"train\", \"train\", \"train\", \"train\", \"train\", \"train\", \"train\", \"train\", \"train\", \"train\", \"train\", \"train\", \"train\", \"train\", \"train\", \"train\", \"train\", \"train\", \"train\", \"train\", \"train\", \"train\", \"train\", \"train\", \"train\", \"train\", \"train\", \"train\", \"train\", \"train\", \"train\", \"train\", \"train\", \"train\", \"train\", \"train\", \"train\", \"train\", \"train\", \"train\", \"train\", \"train\", \"train\", \"train\", \"train\", \"train\", \"train\", \"train\", \"train\", \"train\", \"train\", \"train\", \"train\", \"train\", \"train\", \"train\", \"train\", \"train\", \"train\", \"train\", \"train\", \"train\", \"train\", \"train\", \"train\", \"train\", \"train\", \"train\", \"train\", \"train\", \"train\", \"train\", \"train\", \"train\", \"train\", \"train\", \"train\", \"train\", \"train\", \"train\", \"train\", \"train\", \"train\", \"train\", \"train\", \"train\", \"train\", \"train\", \"train\", \"train\", \"train\", \"train\", \"train\", \"train\", \"train\", \"train\", \"train\", \"train\", \"train\", \"train\", \"train\", \"train\", \"train\", \"train\", \"train\", \"train\", \"train\", \"train\", \"train\", \"train\", \"train\", \"train\", \"train\", \"train\", \"train\", \"train\", \"train\", \"train\", \"train\", \"train\", \"train\", \"train\", \"train\", \"train\", \"train\", \"train\", \"train\", \"train\", \"train\", \"train\", \"train\", \"train\", \"train\", \"train\", \"train\", \"train\", \"train\", \"train\", \"train\", \"train\", \"train\", \"train\", \"train\", \"train\", \"train\", \"train\", \"train\", \"train\", \"train\", \"train\", \"train\", \"train\", \"train\", \"train\", \"train\", \"train\", \"train\", \"train\", \"train\", \"train\", \"train\", \"train\", \"train\", \"train\", \"train\", \"train\", \"train\", \"train\", \"train\", \"train\", \"train\", \"train\", \"train\", \"train\", \"train\", \"train\", \"train\", \"train\", \"train\", \"train\", \"train\", \"train\", \"train\", \"train\", \"train\", \"train\", \"train\", \"train\", \"train\", \"train\", \"train\", \"train\", \"train\", \"train\", \"train\", \"train\", \"train\", \"train\", \"train\", \"train\", \"train\", \"train\", \"train\", \"train\", \"train\", \"train\", \"train\", \"train\", \"train\", \"train\", \"train\", \"train\", \"train\", \"train\", \"train\", \"train\", \"train\", \"train\", \"train\", \"train\", \"train\", \"train\", \"train\", \"train\", \"train\", \"train\", \"train\", \"train\", \"train\", \"train\", \"train\", \"train\", \"train\", \"train\", \"train\", \"train\", \"train\", \"train\", \"train\", \"train\", \"train\", \"train\", \"train\", \"train\", \"train\", \"train\", \"train\", \"train\", \"train\", \"train\", \"train\", \"train\", \"train\", \"train\", \"train\", \"train\", \"train\", \"train\", \"train\", \"train\", \"train\", \"train\", \"train\", \"train\", \"train\", \"train\", \"train\", \"train\", \"train\", \"train\", \"train\", \"train\", \"train\", \"train\", \"train\", \"train\", \"train\", \"train\", \"train\", \"train\", \"train\", \"train\", \"train\", \"train\", \"train\", \"train\", \"train\", \"train\", \"train\", \"train\", \"train\", \"train\", \"train\", \"train\", \"train\", \"train\", \"val\", \"val\", \"val\", \"val\", \"val\", \"val\", \"val\", \"val\", \"val\", \"val\", \"val\", \"val\", \"val\", \"val\", \"val\", \"val\", \"val\", \"val\", \"val\", \"val\", \"val\", \"val\", \"val\", \"val\", \"val\", \"val\", \"val\", \"val\", \"val\", \"val\", \"val\", \"val\", \"val\", \"val\", \"val\", \"val\", \"val\", \"val\", \"val\", \"val\", \"val\", \"val\", \"val\", \"val\", \"val\", \"val\", \"val\", \"val\", \"val\", \"val\", \"val\", \"val\", \"val\", \"val\", \"val\", \"val\", \"val\", \"val\", \"val\", \"val\", \"val\", \"val\", \"val\", \"val\", \"val\", \"val\", \"val\", \"val\", \"val\", \"val\", \"val\", \"val\", \"val\", \"val\", \"val\", \"val\", \"val\", \"val\", \"val\", \"val\", \"val\", \"val\", \"val\", \"val\", \"val\", \"val\", \"val\", \"val\", \"val\", \"val\", \"val\", \"val\", \"val\", \"val\", \"val\", \"val\", \"val\", \"val\", \"val\", \"val\", \"val\", \"val\", \"val\", \"val\", \"val\", \"val\", \"val\", \"val\", \"val\", \"val\", \"val\", \"val\", \"val\", \"val\", \"val\", \"val\", \"val\", \"val\", \"val\", \"val\", \"val\", \"val\", \"val\", \"val\", \"val\", \"val\", \"val\", \"val\", \"val\", \"val\", \"val\", \"val\", \"val\", \"val\", \"val\", \"val\", \"val\", \"val\", \"val\", \"val\", \"val\", \"val\", \"val\", \"val\", \"val\", \"val\", \"val\", \"val\", \"val\", \"val\", \"val\", \"val\", \"val\", \"val\", \"val\", \"val\", \"val\", \"val\", \"val\", \"val\", \"val\", \"val\", \"val\", \"val\", \"val\", \"val\", \"val\", \"val\", \"val\", \"val\", \"val\", \"val\", \"val\", \"val\", \"val\", \"val\", \"val\", \"val\", \"val\", \"val\", \"val\", \"val\", \"val\", \"val\", \"val\", \"val\", \"val\", \"val\", \"val\", \"val\", \"val\", \"val\", \"val\", \"val\", \"val\", \"val\", \"val\", \"val\", \"val\", \"val\", \"val\", \"val\", \"val\", \"val\", \"val\", \"val\", \"val\", \"val\", \"val\", \"val\", \"val\", \"val\", \"val\", \"val\", \"val\", \"val\", \"val\", \"val\", \"val\", \"val\", \"val\", \"val\", \"val\", \"val\", \"val\", \"val\", \"val\", \"val\", \"val\", \"val\", \"val\", \"val\", \"val\", \"val\", \"val\", \"val\", \"val\", \"val\", \"val\", \"val\", \"val\", \"val\", \"val\", \"val\", \"val\", \"val\", \"val\", \"val\", \"val\", \"val\", \"val\", \"val\", \"val\", \"val\", \"val\", \"val\", \"val\", \"val\", \"val\", \"val\", \"val\", \"val\", \"val\", \"val\", \"val\", \"val\", \"val\", \"val\", \"val\", \"val\", \"val\", \"val\", \"val\", \"val\", \"val\", \"val\", \"val\", \"val\", \"val\", \"val\", \"val\", \"val\", \"val\", \"val\", \"val\", \"val\", \"val\", \"val\", \"val\", \"val\", \"val\", \"val\", \"val\", \"val\", \"val\", \"val\", \"val\", \"val\", \"val\", \"val\", \"val\", \"val\", \"val\", \"val\", \"val\", \"val\", \"val\", \"val\", \"val\", \"val\", \"val\", \"val\", \"val\", \"val\", \"val\", \"val\", \"val\", \"val\", \"val\", \"val\", \"val\", \"val\", \"val\", \"val\", \"val\", \"val\", \"val\", \"val\", \"val\", \"val\", \"val\", \"val\", \"val\", \"val\", \"val\", \"val\", \"val\", \"val\", \"val\", \"val\", \"val\", \"val\", \"val\", \"val\", \"val\", \"val\", \"val\", \"val\", \"val\", \"val\", \"val\", \"val\", \"val\", \"val\", \"val\", \"val\", \"val\", \"val\", \"val\", \"val\", \"val\", \"val\", \"val\", \"val\", \"val\", \"val\", \"val\", \"val\", \"val\", \"val\", \"val\", \"val\", \"val\", \"val\", \"val\", \"val\", \"val\", \"val\", \"val\", \"val\", \"val\", \"val\", \"val\", \"val\", \"val\", \"val\", \"val\", \"val\", \"val\", \"val\", \"val\", \"val\", \"val\", \"val\", \"val\", \"val\", \"val\", \"val\", \"val\", \"val\", \"val\", \"val\", \"val\", \"val\", \"val\", \"val\", \"val\", \"val\", \"val\", \"val\", \"val\", \"val\", \"val\", \"val\", \"val\", \"val\", \"val\", \"val\", \"val\", \"val\", \"val\", \"val\", \"val\", \"val\", \"val\", \"val\", \"val\", \"val\", \"val\", \"val\", \"val\", \"val\", \"val\", \"val\", \"val\", \"val\", \"val\", \"val\", \"val\", \"val\", \"val\", \"val\", \"val\", \"val\", \"val\", \"val\", \"val\", \"val\", \"val\", \"val\", \"val\", \"val\", \"val\", \"val\", \"val\", \"val\", \"val\", \"val\", \"val\", \"val\", \"val\", \"val\", \"val\", \"val\", \"val\", \"val\", \"val\", \"val\", \"val\", \"val\", \"val\", \"val\", \"val\", \"val\", \"val\", \"val\", \"val\", \"val\", \"val\", \"val\", \"val\", \"val\", \"val\", \"val\", \"val\", \"val\", \"val\", \"val\", \"val\", \"val\", \"val\", \"val\", \"val\", \"val\", \"val\", \"val\", \"val\", \"val\", \"val\", \"val\", \"val\", \"val\", \"val\", \"val\", \"val\", \"val\", \"val\", \"val\", \"val\", \"val\", \"val\", \"val\", \"val\", \"val\", \"val\", \"val\", \"val\", \"val\", \"val\", \"val\", \"val\", \"val\", \"val\", \"val\", \"val\", \"val\", \"val\", \"val\", \"val\", \"val\", \"val\", \"val\", \"val\", \"val\", \"val\", \"val\", \"val\", \"val\", \"val\", \"val\", \"val\", \"val\", \"val\", \"val\", \"val\", \"val\", \"val\", \"val\", \"val\", \"val\", \"val\", \"val\", \"val\", \"val\", \"val\", \"val\", \"val\", \"val\", \"val\", \"val\", \"val\", \"val\", \"val\", \"val\", \"val\", \"val\", \"val\", \"val\", \"val\", \"val\", \"val\", \"val\", \"val\", \"val\", \"val\", \"val\", \"val\", \"val\", \"val\", \"val\", \"val\", \"val\", \"val\", \"val\", \"val\", \"val\", \"val\", \"val\", \"val\", \"val\", \"val\", \"val\", \"val\", \"val\", \"val\", \"val\", \"val\", \"val\", \"val\", \"val\", \"val\", \"val\", \"val\", \"val\", \"val\", \"val\", \"val\", \"val\", \"val\", \"val\", \"val\", \"val\", \"val\", \"val\", \"val\", \"val\", \"val\", \"val\", \"val\", \"val\", \"val\", \"val\", \"val\", \"val\", \"val\", \"val\", \"val\", \"val\", \"val\", \"val\", \"val\", \"val\", \"val\", \"val\", \"val\", \"val\", \"val\", \"val\", \"val\", \"val\", \"val\", \"val\", \"val\", \"val\", \"val\", \"val\", \"val\", \"val\", \"val\", \"val\", \"val\", \"val\", \"val\", \"val\", \"val\", \"val\", \"val\", \"val\", \"val\", \"val\", \"val\", \"val\", \"val\", \"val\", \"val\", \"val\", \"val\", \"val\", \"val\", \"val\", \"val\", \"val\", \"val\", \"val\", \"val\", \"val\", \"val\", \"val\", \"val\", \"val\", \"val\", \"val\", \"val\", \"val\", \"val\", \"val\", \"val\", \"val\", \"val\", \"val\", \"val\", \"val\", \"val\", \"val\", \"val\", \"val\", \"val\", \"val\", \"val\", \"val\", \"val\", \"val\", \"val\", \"val\", \"val\", \"val\", \"val\", \"val\", \"val\", \"val\", \"val\", \"val\", \"val\", \"val\", \"val\", \"val\", \"val\", \"val\", \"val\", \"val\", \"val\", \"val\", \"val\", \"val\", \"val\", \"val\", \"val\", \"val\", \"val\", \"val\", \"val\", \"val\", \"val\", \"val\", \"val\", \"val\", \"val\", \"val\", \"val\", \"val\", \"val\", \"val\", \"val\", \"val\", \"val\", \"val\", \"val\", \"val\", \"val\", \"val\", \"val\", \"val\", \"val\", \"val\", \"val\", \"val\", \"val\", \"val\", \"val\", \"val\", \"val\", \"val\", \"val\", \"val\", \"val\", \"val\", \"val\", \"val\", \"val\", \"val\", \"val\", \"val\", \"val\", \"val\", \"val\", \"val\", \"val\", \"val\", \"val\", \"val\", \"val\", \"val\", \"val\", \"val\", \"val\", \"val\", \"val\", \"val\", \"val\", \"val\", \"val\", \"val\", \"val\", \"val\", \"val\", \"val\", \"val\", \"val\", \"val\", \"val\", \"val\", \"val\", \"val\", \"val\", \"val\", \"val\", \"val\", \"val\", \"val\", \"val\", \"val\", \"val\", \"val\", \"val\", \"val\", \"val\", \"val\", \"val\", \"val\", \"val\", \"val\", \"val\", \"val\", \"val\", \"val\", \"val\", \"val\", \"val\", \"val\", \"val\", \"val\", \"val\", \"val\", \"val\", \"val\", \"val\", \"val\", \"val\", \"val\", \"val\", \"val\", \"val\", \"val\", \"val\", \"val\", \"val\", \"val\", \"val\", \"val\", \"val\", \"val\", \"val\", \"val\", \"val\", \"val\", \"val\", \"val\", \"val\", \"val\", \"val\", \"val\", \"val\", \"val\", \"val\", \"val\", \"val\", \"val\", \"val\", \"val\", \"val\", \"val\", \"val\", \"val\", \"val\", \"val\", \"val\", \"val\", \"val\", \"val\", \"val\", \"val\", \"val\", \"val\", \"val\", \"val\", \"val\", \"val\", \"val\", \"val\", \"val\", \"val\", \"val\", \"val\", \"val\", \"val\", \"val\", \"val\", \"val\", \"val\", \"val\", \"val\", \"val\", \"val\", \"val\", \"val\", \"val\", \"val\", \"val\", \"val\", \"val\", \"val\", \"val\", \"val\", \"val\", \"val\", \"val\", \"val\", \"val\", \"val\", \"val\", \"val\", \"val\", \"val\", \"val\", \"val\", \"val\", \"val\", \"val\", \"val\", \"val\", \"val\", \"val\", \"val\", \"val\", \"val\", \"val\", \"val\", \"val\", \"val\", \"val\", \"val\", \"val\", \"val\", \"val\", \"val\", \"val\", \"val\", \"val\", \"val\", \"val\", \"val\", \"val\", \"val\", \"val\", \"val\", \"val\", \"val\", \"val\", \"val\", \"val\", \"val\", \"val\", \"val\", \"val\", \"val\", \"val\", \"val\", \"val\", \"val\", \"val\", \"val\", \"val\", \"val\", \"val\", \"val\", \"val\", \"val\", \"val\", \"val\", \"val\", \"val\", \"val\", \"val\", \"val\", \"val\", \"val\", \"val\", \"val\", \"val\", \"val\", \"val\", \"val\", \"val\", \"val\", \"val\", \"val\", \"val\", \"val\", \"val\", \"val\", \"val\", \"val\", \"val\", \"val\", \"val\", \"val\", \"val\", \"val\", \"val\", \"val\", \"val\", \"val\", \"val\", \"val\", \"val\"], \"xaxis\": \"x\", \"yaxis\": \"y\"}, {\"alignmentgroup\": \"True\", \"bingroup\": \"x\", \"hoverlabel\": {\"namelength\": 0}, \"hovertemplate\": \"CLASS=0<br>DATA SET=%{x}<br>count=%{y}\", \"legendgroup\": \"CLASS=0\", \"marker\": {\"color\": \"#EF553B\"}, \"name\": \"CLASS=0\", \"offsetgroup\": \"CLASS=0\", \"orientation\": \"v\", \"showlegend\": true, \"type\": \"histogram\", \"x\": [\"train\", \"train\", \"train\", \"train\", \"train\", \"train\", \"train\", \"train\", \"train\", \"train\", \"train\", \"train\", \"train\", \"train\", \"train\", \"train\", \"train\", \"train\", \"train\", \"train\", \"train\", \"train\", \"train\", \"train\", \"train\", \"train\", \"train\", \"train\", \"train\", \"train\", \"train\", \"train\", \"train\", \"train\", \"train\", \"train\", \"train\", \"train\", \"train\", \"train\", \"train\", \"train\", \"train\", \"train\", \"train\", \"train\", \"train\", \"train\", \"train\", \"train\", \"train\", \"train\", \"train\", \"train\", \"train\", \"train\", \"train\", \"train\", \"train\", \"train\", \"train\", \"train\", \"train\", \"train\", \"train\", \"train\", \"train\", \"train\", \"train\", \"train\", \"train\", \"train\", \"train\", \"train\", \"train\", \"train\", \"train\", \"train\", \"train\", \"train\", \"train\", \"train\", \"train\", \"train\", \"train\", \"train\", \"train\", \"train\", \"train\", \"train\", \"train\", \"train\", \"train\", \"train\", \"train\", \"train\", \"train\", \"train\", \"train\", \"train\", \"train\", \"train\", \"train\", \"train\", \"train\", \"train\", \"train\", \"train\", \"train\", \"train\", \"train\", \"train\", \"train\", \"train\", \"train\", \"train\", \"train\", \"train\", \"train\", \"train\", \"train\", \"train\", \"train\", \"train\", \"train\", \"train\", \"train\", \"train\", \"train\", \"train\", \"train\", \"train\", \"train\", \"train\", \"train\", \"train\", \"train\", \"train\", \"train\", \"train\", \"train\", \"train\", \"train\", \"train\", \"train\", \"train\", \"train\", \"train\", \"train\", \"train\", \"train\", \"train\", \"train\", \"train\", \"train\", \"train\", \"train\", \"train\", \"train\", \"train\", \"train\", \"train\", \"train\", \"train\", \"train\", \"train\", \"train\", \"train\", \"train\", \"train\", \"train\", \"train\", \"train\", \"train\", \"train\", \"train\", \"train\", \"train\", \"train\", \"train\", \"train\", \"train\", \"train\", \"train\", \"train\", \"train\", \"train\", \"train\", \"train\", \"train\", \"train\", \"train\", \"train\", \"train\", \"train\", \"train\", \"train\", \"train\", \"train\", \"train\", \"train\", \"train\", \"train\", \"train\", \"train\", \"train\", \"train\", \"train\", \"train\", \"train\", \"train\", \"train\", \"train\", \"train\", \"train\", \"train\", \"train\", \"train\", \"train\", \"train\", \"train\", \"train\", \"train\", \"train\", \"train\", \"train\", \"train\", \"train\", \"train\", \"train\", \"train\", \"train\", \"train\", \"train\", \"train\", \"train\", \"train\", \"train\", \"train\", \"train\", \"train\", \"train\", \"train\", \"train\", \"train\", \"train\", \"train\", \"train\", \"train\", \"train\", \"train\", \"train\", \"train\", \"train\", \"train\", \"train\", \"train\", \"train\", \"train\", \"train\", \"train\", \"train\", \"train\", \"train\", \"train\", \"train\", \"train\", \"train\", \"train\", \"train\", \"train\", \"train\", \"train\", \"train\", \"train\", \"train\", \"train\", \"train\", \"train\", \"train\", \"train\", \"train\", \"train\", \"train\", \"train\", \"train\", \"train\", \"train\", \"train\", \"train\", \"train\", \"train\", \"train\", \"train\", \"train\", \"train\", \"train\", \"train\", \"train\", \"train\", \"train\", \"train\", \"train\", \"train\", \"train\", \"train\", \"train\", \"train\", \"train\", \"train\", \"train\", \"train\", \"train\", \"train\", \"train\", \"train\", \"train\", \"train\", \"train\", \"train\", \"train\", \"train\", \"train\", \"train\", \"train\", \"train\", \"train\", \"train\", \"train\", \"train\", \"train\", \"train\", \"train\", \"train\", \"train\", \"train\", \"train\", \"train\", \"train\", \"train\", \"train\", \"train\", \"train\", \"train\", \"train\", \"train\", \"train\", \"train\", \"train\", \"train\", \"train\", \"train\", \"train\", \"train\", \"train\", \"train\", \"train\", \"train\", \"train\", \"train\", \"train\", \"train\", \"train\", \"train\", \"train\", \"train\", \"train\", \"train\", \"train\", \"train\", \"train\", \"train\", \"train\", \"train\", \"train\", \"train\", \"train\", \"train\", \"train\", \"train\", \"train\", \"train\", \"train\", \"train\", \"train\", \"train\", \"train\", \"train\", \"train\", \"train\", \"train\", \"train\", \"train\", \"train\", \"train\", \"train\", \"train\", \"train\", \"train\", \"train\", \"train\", \"train\", \"train\", \"train\", \"train\", \"train\", \"train\", \"train\", \"train\", \"train\", \"train\", \"train\", \"train\", \"train\", \"train\", \"train\", \"train\", \"train\", \"train\", \"train\", \"train\", \"train\", \"train\", \"train\", \"train\", \"train\", \"train\", \"train\", \"train\", \"train\", \"train\", \"train\", \"train\", \"train\", \"train\", \"train\", \"train\", \"train\", \"train\", \"train\", \"train\", \"train\", \"train\", \"train\", \"train\", \"train\", \"train\", \"train\", \"train\", \"train\", \"train\", \"train\", \"train\", \"train\", \"train\", \"train\", \"train\", \"train\", \"train\", \"train\", \"train\", \"train\", \"train\", \"train\", \"train\", \"train\", \"train\", \"train\", \"train\", \"train\", \"train\", \"train\", \"train\", \"train\", \"train\", \"train\", \"train\", \"train\", \"train\", \"train\", \"train\", \"train\", \"train\", \"train\", \"train\", \"train\", \"train\", \"train\", \"train\", \"train\", \"train\", \"train\", \"train\", \"train\", \"train\", \"train\", \"train\", \"train\", \"train\", \"train\", \"train\", \"train\", \"train\", \"train\", \"train\", \"train\", \"train\", \"train\", \"train\", \"train\", \"train\", \"train\", \"train\", \"train\", \"train\", \"train\", \"train\", \"train\", \"train\", \"train\", \"train\", \"train\", \"train\", \"train\", \"train\", \"train\", \"train\", \"train\", \"train\", \"train\", \"train\", \"train\", \"train\", \"train\", \"train\", \"train\", \"train\", \"train\", \"train\", \"train\", \"train\", \"train\", \"train\", \"train\", \"train\", \"train\", \"train\", \"train\", \"train\", \"train\", \"train\", \"train\", \"train\", \"train\", \"train\", \"train\", \"train\", \"train\", \"train\", \"train\", \"train\", \"train\", \"train\", \"train\", \"train\", \"train\", \"train\", \"train\", \"train\", \"train\", \"train\", \"train\", \"train\", \"train\", \"train\", \"train\", \"train\", \"train\", \"train\", \"train\", \"train\", \"train\", \"train\", \"train\", \"train\", \"train\", \"train\", \"train\", \"train\", \"train\", \"train\", \"train\", \"train\", \"train\", \"train\", \"train\", \"train\", \"train\", \"train\", \"train\", \"train\", \"train\", \"train\", \"train\", \"train\", \"train\", \"train\", \"train\", \"train\", \"train\", \"train\", \"train\", \"train\", \"train\", \"train\", \"train\", \"train\", \"train\", \"train\", \"train\", \"train\", \"train\", \"train\", \"train\", \"train\", \"train\", \"train\", \"train\", \"train\", \"train\", \"train\", \"train\", \"train\", \"train\", \"train\", \"train\", \"train\", \"train\", \"train\", \"train\", \"train\", \"train\", \"train\", \"train\", \"train\", \"train\", \"train\", \"train\", \"train\", \"train\", \"train\", \"train\", \"train\", \"train\", \"train\", \"train\", \"train\", \"train\", \"train\", \"train\", \"train\", \"train\", \"train\", \"train\", \"train\", \"train\", \"train\", \"train\", \"train\", \"train\", \"train\", \"train\", \"train\", \"train\", \"train\", \"train\", \"train\", \"train\", \"train\", \"train\", \"train\", \"train\", \"train\", \"train\", \"train\", \"train\", \"train\", \"train\", \"train\", \"train\", \"train\", \"train\", \"train\", \"train\", \"train\", \"train\", \"train\", \"train\", \"train\", \"train\", \"train\", \"train\", \"train\", \"train\", \"train\", \"train\", \"train\", \"train\", \"train\", \"train\", \"train\", \"train\", \"train\", \"train\", \"train\", \"train\", \"train\", \"train\", \"train\", \"train\", \"train\", \"train\", \"train\", \"train\", \"train\", \"train\", \"train\", \"train\", \"train\", \"train\", \"train\", \"train\", \"train\", \"train\", \"train\", \"train\", \"train\", \"train\", \"train\", \"train\", \"train\", \"train\", \"train\", \"train\", \"train\", \"train\", \"train\", \"train\", \"train\", \"train\", \"train\", \"train\", \"train\", \"train\", \"train\", \"train\", \"train\", \"train\", \"train\", \"train\", \"train\", \"train\", \"train\", \"train\", \"train\", \"train\", \"train\", \"train\", \"train\", \"train\", \"train\", \"train\", \"train\", \"train\", \"train\", \"train\", \"train\", \"train\", \"train\", \"train\", \"train\", \"train\", \"train\", \"train\", \"train\", \"train\", \"train\", \"train\", \"train\", \"train\", \"train\", \"train\", \"train\", \"train\", \"train\", \"train\", \"train\", \"train\", \"train\", \"train\", \"train\", \"train\", \"train\", \"train\", \"train\", \"train\", \"train\", \"train\", \"train\", \"val\", \"val\", \"val\", \"val\", \"val\", \"val\", \"val\", \"val\", \"val\", \"val\", \"val\", \"val\", \"val\", \"val\", \"val\", \"val\", \"val\", \"val\", \"val\", \"val\", \"val\", \"val\", \"val\", \"val\", \"val\", \"val\", \"val\", \"val\", \"val\", \"val\", \"val\", \"val\", \"val\", \"val\", \"val\", \"val\", \"val\", \"val\", \"val\", \"val\", \"val\", \"val\", \"val\", \"val\", \"val\", \"val\", \"val\", \"val\", \"val\", \"val\", \"val\", \"val\", \"val\", \"val\", \"val\", \"val\", \"val\", \"val\", \"val\", \"val\", \"val\", \"val\", \"val\", \"val\", \"val\", \"val\", \"val\", \"val\", \"val\", \"val\", \"val\", \"val\", \"val\", \"val\", \"val\", \"val\", \"val\", \"val\", \"val\", \"val\", \"val\", \"val\", \"val\", \"val\", \"val\", \"val\", \"val\", \"val\", \"val\", \"val\", \"val\", \"val\", \"val\", \"val\", \"val\", \"val\", \"val\", \"val\", \"val\", \"val\", \"val\", \"val\", \"val\", \"val\", \"val\", \"val\", \"val\", \"val\", \"val\", \"val\", \"val\", \"val\", \"val\", \"val\", \"val\", \"val\", \"val\", \"val\", \"val\", \"val\", \"val\", \"val\", \"val\", \"val\", \"val\", \"val\", \"val\", \"val\", \"val\", \"val\", \"val\", \"val\", \"val\", \"val\", \"val\", \"val\", \"val\", \"val\", \"val\", \"val\", \"val\", \"val\", \"val\", \"val\", \"val\", \"val\", \"val\", \"val\", \"val\", \"val\", \"val\", \"val\", \"val\", \"val\", \"val\", \"val\", \"val\", \"val\", \"val\", \"val\", \"val\", \"val\", \"val\", \"val\", \"val\", \"val\", \"val\", \"val\", \"val\", \"val\", \"val\", \"val\", \"val\", \"val\", \"val\", \"val\", \"val\", \"val\", \"val\", \"val\", \"val\", \"val\", \"val\", \"val\", \"val\", \"val\", \"val\", \"val\", \"val\", \"val\", \"val\", \"val\", \"val\", \"val\", \"val\", \"val\", \"val\", \"val\", \"val\", \"val\", \"val\", \"val\", \"val\", \"val\", \"val\", \"val\", \"val\", \"val\", \"val\", \"val\", \"val\", \"val\", \"val\", \"val\", \"val\", \"val\", \"val\", \"val\", \"val\", \"val\", \"val\", \"val\", \"val\", \"val\", \"val\", \"val\", \"val\", \"val\", \"val\", \"val\", \"val\", \"val\", \"val\", \"val\", \"val\", \"val\", \"val\", \"val\", \"val\", \"val\", \"val\", \"val\", \"val\", \"val\", \"val\", \"val\", \"val\", \"val\", \"val\", \"val\", \"val\", \"val\", \"val\", \"val\", \"val\", \"val\", \"val\", \"val\", \"val\", \"val\", \"val\", \"val\", \"val\", \"val\", \"val\", \"val\", \"val\", \"val\", \"val\", \"val\", \"val\", \"val\", \"val\", \"val\", \"val\", \"val\", \"val\", \"val\", \"val\", \"val\", \"val\", \"val\", \"val\", \"val\", \"val\", \"val\", \"val\", \"val\", \"val\", \"val\", \"val\", \"val\", \"val\", \"val\", \"val\", \"val\", \"val\", \"val\", \"val\", \"val\", \"val\", \"val\", \"val\", \"val\", \"val\", \"val\", \"val\", \"val\", \"val\", \"val\", \"val\", \"val\", \"val\", \"val\", \"val\", \"val\", \"val\", \"val\", \"val\", \"val\", \"val\", \"val\", \"val\", \"val\", \"val\", \"val\", \"val\", \"val\", \"val\", \"val\", \"val\", \"val\", \"val\", \"val\", \"val\", \"val\", \"val\", \"val\", \"val\", \"val\", \"val\", \"val\", \"val\", \"val\", \"val\", \"val\", \"val\", \"val\", \"val\", \"val\", \"val\", \"val\", \"val\", \"val\", \"val\", \"val\", \"val\", \"val\", \"val\", \"val\", \"val\", \"val\", \"val\", \"val\", \"val\", \"val\", \"val\", \"val\", \"val\", \"val\", \"val\", \"val\", \"val\", \"val\", \"val\", \"val\", \"val\", \"val\", \"val\", \"val\", \"val\", \"val\", \"val\", \"val\", \"val\", \"val\", \"val\", \"val\", \"val\", \"val\", \"val\", \"val\", \"val\", \"val\", \"val\", \"val\", \"val\", \"val\", \"val\", \"val\", \"val\", \"val\", \"val\", \"val\", \"val\", \"val\", \"val\", \"val\", \"val\", \"val\", \"val\", \"val\", \"val\", \"val\", \"val\", \"val\", \"val\", \"val\", \"val\", \"val\", \"val\", \"val\", \"val\", \"val\", \"val\", \"val\", \"val\", \"val\", \"val\", \"val\", \"val\", \"val\", \"val\", \"val\", \"val\", \"val\", \"val\", \"val\", \"val\", \"val\", \"val\", \"val\", \"val\", \"val\", \"val\", \"val\", \"val\", \"val\", \"val\", \"val\", \"val\", \"val\", \"val\", \"val\", \"val\", \"val\", \"val\", \"val\", \"val\", \"val\", \"val\", \"val\", \"val\", \"val\", \"val\", \"val\", \"val\", \"val\", \"val\", \"val\", \"val\", \"val\", \"val\", \"val\", \"val\", \"val\", \"val\", \"val\", \"val\", \"val\", \"val\", \"val\", \"val\", \"val\", \"val\", \"val\", \"val\", \"val\", \"val\", \"val\", \"val\", \"val\", \"val\", \"val\", \"val\", \"val\", \"val\", \"val\", \"val\", \"val\", \"val\", \"val\", \"val\", \"val\", \"val\", \"val\", \"val\", \"val\", \"val\", \"val\", \"val\", \"val\", \"val\", \"val\", \"val\", \"val\", \"val\", \"val\", \"val\", \"val\", \"val\", \"val\", \"val\", \"val\", \"val\", \"val\", \"val\", \"val\", \"val\", \"val\", \"val\", \"val\", \"val\", \"val\", \"val\", \"val\", \"val\", \"val\", \"val\", \"val\"], \"xaxis\": \"x\", \"yaxis\": \"y\"}, {\"alignmentgroup\": \"True\", \"bingroup\": \"x\", \"hoverlabel\": {\"namelength\": 0}, \"hovertemplate\": \"CLASS=2<br>DATA SET=%{x}<br>count=%{y}\", \"legendgroup\": \"CLASS=2\", \"marker\": {\"color\": \"#00cc96\"}, \"name\": \"CLASS=2\", \"offsetgroup\": \"CLASS=2\", \"orientation\": \"v\", \"showlegend\": true, \"type\": \"histogram\", \"x\": [\"train\", \"train\", \"train\", \"train\", \"train\", \"train\", \"train\", \"train\", \"train\", \"train\", \"train\", \"train\", \"train\", \"train\", \"train\", \"train\", \"train\", \"train\", \"train\", \"train\", \"train\", \"train\", \"train\", \"train\", \"train\", \"train\", \"train\", \"train\", \"train\", \"train\", \"train\", \"train\", \"train\", \"train\", \"train\", \"train\", \"train\", \"train\", \"train\", \"train\", \"train\", \"train\", \"train\", \"train\", \"train\", \"train\", \"train\", \"train\", \"train\", \"train\", \"train\", \"train\", \"train\", \"train\", \"train\", \"train\", \"train\", \"train\", \"train\", \"train\", \"train\", \"train\", \"train\", \"train\", \"train\", \"train\", \"train\", \"train\", \"train\", \"train\", \"train\", \"train\", \"train\", \"train\", \"train\", \"train\", \"train\", \"train\", \"train\", \"train\", \"train\", \"train\", \"train\", \"train\", \"train\", \"train\", \"train\", \"train\", \"train\", \"train\", \"train\", \"train\", \"train\", \"train\", \"train\", \"train\", \"train\", \"train\", \"train\", \"train\", \"train\", \"train\", \"train\", \"train\", \"train\", \"train\", \"train\", \"train\", \"train\", \"train\", \"train\", \"train\", \"train\", \"train\", \"train\", \"train\", \"train\", \"train\", \"train\", \"train\", \"train\", \"train\", \"train\", \"train\", \"train\", \"train\", \"train\", \"train\", \"train\", \"train\", \"train\", \"train\", \"train\", \"train\", \"train\", \"train\", \"train\", \"train\", \"train\", \"train\", \"train\", \"train\", \"train\", \"train\", \"train\", \"train\", \"train\", \"train\", \"train\", \"train\", \"train\", \"train\", \"train\", \"train\", \"train\", \"train\", \"train\", \"train\", \"train\", \"train\", \"train\", \"train\", \"train\", \"train\", \"train\", \"train\", \"train\", \"train\", \"train\", \"train\", \"train\", \"train\", \"train\", \"train\", \"train\", \"train\", \"train\", \"train\", \"train\", \"train\", \"train\", \"train\", \"train\", \"train\", \"train\", \"train\", \"train\", \"train\", \"train\", \"train\", \"train\", \"train\", \"train\", \"train\", \"train\", \"train\", \"train\", \"train\", \"train\", \"train\", \"train\", \"train\", \"train\", \"train\", \"train\", \"train\", \"train\", \"train\", \"train\", \"train\", \"train\", \"train\", \"train\", \"train\", \"train\", \"train\", \"train\", \"train\", \"train\", \"train\", \"train\", \"train\", \"train\", \"train\", \"train\", \"train\", \"train\", \"train\", \"train\", \"train\", \"train\", \"train\", \"train\", \"train\", \"train\", \"train\", \"train\", \"train\", \"train\", \"train\", \"train\", \"train\", \"train\", \"train\", \"train\", \"train\", \"train\", \"train\", \"train\", \"train\", \"train\", \"train\", \"train\", \"train\", \"train\", \"train\", \"train\", \"train\", \"train\", \"train\", \"train\", \"train\", \"train\", \"train\", \"train\", \"train\", \"train\", \"train\", \"train\", \"train\", \"train\", \"train\", \"train\", \"train\", \"train\", \"train\", \"train\", \"train\", \"train\", \"train\", \"train\", \"train\", \"train\", \"train\", \"train\", \"train\", \"train\", \"train\", \"train\", \"train\", \"train\", \"train\", \"train\", \"train\", \"train\", \"train\", \"train\", \"train\", \"train\", \"train\", \"train\", \"train\", \"train\", \"train\", \"train\", \"train\", \"train\", \"train\", \"train\", \"train\", \"train\", \"train\", \"train\", \"train\", \"train\", \"train\", \"train\", \"train\", \"train\", \"train\", \"train\", \"train\", \"train\", \"train\", \"train\", \"train\", \"train\", \"train\", \"train\", \"train\", \"train\", \"train\", \"train\", \"train\", \"train\", \"train\", \"train\", \"train\", \"train\", \"train\", \"train\", \"train\", \"train\", \"train\", \"train\", \"train\", \"train\", \"train\", \"train\", \"train\", \"train\", \"train\", \"train\", \"train\", \"train\", \"train\", \"train\", \"train\", \"train\", \"train\", \"train\", \"train\", \"train\", \"train\", \"train\", \"train\", \"train\", \"train\", \"train\", \"train\", \"train\", \"train\", \"train\", \"train\", \"train\", \"train\", \"train\", \"train\", \"train\", \"train\", \"train\", \"train\", \"train\", \"train\", \"train\", \"train\", \"train\", \"train\", \"train\", \"train\", \"train\", \"train\", \"train\", \"train\", \"train\", \"train\", \"train\", \"train\", \"train\", \"train\", \"train\", \"train\", \"train\", \"train\", \"train\", \"train\", \"train\", \"train\", \"train\", \"train\", \"train\", \"train\", \"train\", \"train\", \"train\", \"train\", \"train\", \"train\", \"train\", \"train\", \"train\", \"train\", \"train\", \"train\", \"train\", \"train\", \"train\", \"train\", \"train\", \"train\", \"train\", \"train\", \"train\", \"train\", \"train\", \"train\", \"train\", \"train\", \"train\", \"train\", \"train\", \"train\", \"train\", \"train\", \"train\", \"train\", \"train\", \"train\", \"train\", \"train\", \"train\", \"train\", \"train\", \"train\", \"train\", \"train\", \"train\", \"train\", \"train\", \"train\", \"train\", \"train\", \"train\", \"train\", \"train\", \"train\", \"train\", \"train\", \"train\", \"train\", \"train\", \"train\", \"train\", \"train\", \"train\", \"train\", \"train\", \"train\", \"train\", \"train\", \"train\", \"train\", \"train\", \"train\", \"train\", \"train\", \"train\", \"train\", \"train\", \"train\", \"train\", \"train\", \"train\", \"train\", \"train\", \"train\", \"train\", \"train\", \"train\", \"train\", \"train\", \"train\", \"train\", \"train\", \"train\", \"train\", \"train\", \"train\", \"train\", \"train\", \"train\", \"train\", \"train\", \"train\", \"train\", \"train\", \"train\", \"train\", \"train\", \"train\", \"train\", \"train\", \"train\", \"train\", \"train\", \"train\", \"train\", \"train\", \"train\", \"train\", \"train\", \"train\", \"train\", \"train\", \"train\", \"train\", \"train\", \"train\", \"train\", \"train\", \"train\", \"train\", \"train\", \"train\", \"train\", \"train\", \"train\", \"train\", \"train\", \"train\", \"train\", \"train\", \"train\", \"train\", \"train\", \"train\", \"train\", \"train\", \"train\", \"train\", \"train\", \"train\", \"train\", \"train\", \"train\", \"train\", \"train\", \"train\", \"train\", \"train\", \"train\", \"train\", \"train\", \"train\", \"train\", \"train\", \"train\", \"train\", \"train\", \"train\", \"train\", \"train\", \"train\", \"train\", \"train\", \"train\", \"train\", \"train\", \"train\", \"train\", \"train\", \"train\", \"train\", \"train\", \"train\", \"train\", \"train\", \"train\", \"train\", \"train\", \"train\", \"train\", \"train\", \"train\", \"train\", \"train\", \"train\", \"train\", \"train\", \"train\", \"train\", \"train\", \"train\", \"train\", \"train\", \"train\", \"train\", \"train\", \"train\", \"train\", \"train\", \"train\", \"train\", \"train\", \"train\", \"train\", \"train\", \"train\", \"train\", \"train\", \"train\", \"train\", \"train\", \"train\", \"train\", \"train\", \"train\", \"train\", \"train\", \"train\", \"train\", \"train\", \"train\", \"train\", \"train\", \"train\", \"train\", \"train\", \"train\", \"train\", \"train\", \"train\", \"train\", \"train\", \"train\", \"train\", \"train\", \"train\", \"train\", \"train\", \"train\", \"train\", \"train\", \"train\", \"train\", \"train\", \"train\", \"train\", \"train\", \"train\", \"train\", \"train\", \"train\", \"train\", \"train\", \"train\", \"train\", \"train\", \"train\", \"train\", \"train\", \"train\", \"train\", \"train\", \"train\", \"train\", \"train\", \"train\", \"train\", \"train\", \"train\", \"train\", \"train\", \"train\", \"train\", \"train\", \"train\", \"train\", \"train\", \"train\", \"train\", \"train\", \"train\", \"train\", \"train\", \"train\", \"train\", \"train\", \"train\", \"train\", \"train\", \"train\", \"train\", \"train\", \"train\", \"train\", \"train\", \"train\", \"train\", \"train\", \"train\", \"train\", \"train\", \"train\", \"train\", \"train\", \"train\", \"train\", \"train\", \"train\", \"train\", \"train\", \"train\", \"train\", \"train\", \"train\", \"train\", \"train\", \"train\", \"train\", \"train\", \"train\", \"train\", \"train\", \"train\", \"train\", \"train\", \"train\", \"train\", \"train\", \"train\", \"train\", \"train\", \"train\", \"train\", \"train\", \"train\", \"train\", \"train\", \"train\", \"train\", \"train\", \"train\", \"train\", \"train\", \"train\", \"train\", \"train\", \"train\", \"train\", \"train\", \"train\", \"train\", \"train\", \"train\", \"train\", \"train\", \"train\", \"train\", \"train\", \"train\", \"train\", \"train\", \"train\", \"train\", \"train\", \"train\", \"train\", \"train\", \"train\", \"train\", \"train\", \"train\", \"train\", \"train\", \"train\", \"train\", \"train\", \"train\", \"train\", \"train\", \"train\", \"train\", \"train\", \"train\", \"train\", \"train\", \"val\", \"val\", \"val\", \"val\", \"val\", \"val\", \"val\", \"val\", \"val\", \"val\", \"val\", \"val\", \"val\", \"val\", \"val\", \"val\", \"val\", \"val\", \"val\", \"val\", \"val\", \"val\", \"val\", \"val\", \"val\", \"val\", \"val\", \"val\", \"val\", \"val\", \"val\", \"val\", \"val\", \"val\", \"val\", \"val\", \"val\", \"val\", \"val\", \"val\", \"val\", \"val\", \"val\", \"val\", \"val\", \"val\", \"val\", \"val\", \"val\", \"val\", \"val\", \"val\", \"val\", \"val\", \"val\", \"val\", \"val\", \"val\", \"val\", \"val\", \"val\", \"val\", \"val\", \"val\", \"val\", \"val\", \"val\", \"val\", \"val\", \"val\", \"val\", \"val\", \"val\", \"val\", \"val\", \"val\", \"val\", \"val\", \"val\", \"val\", \"val\", \"val\", \"val\", \"val\", \"val\", \"val\", \"val\", \"val\", \"val\", \"val\", \"val\", \"val\", \"val\", \"val\", \"val\", \"val\", \"val\", \"val\", \"val\", \"val\", \"val\", \"val\", \"val\", \"val\", \"val\", \"val\", \"val\", \"val\", \"val\", \"val\", \"val\", \"val\", \"val\", \"val\", \"val\", \"val\", \"val\", \"val\", \"val\", \"val\", \"val\", \"val\", \"val\", \"val\", \"val\", \"val\", \"val\", \"val\", \"val\", \"val\", \"val\", \"val\", \"val\", \"val\", \"val\", \"val\", \"val\", \"val\", \"val\", \"val\", \"val\", \"val\", \"val\", \"val\", \"val\", \"val\", \"val\", \"val\", \"val\", \"val\", \"val\", \"val\", \"val\", \"val\", \"val\", \"val\", \"val\", \"val\", \"val\", \"val\", \"val\", \"val\", \"val\", \"val\", \"val\", \"val\", \"val\", \"val\", \"val\", \"val\", \"val\", \"val\", \"val\", \"val\", \"val\", \"val\", \"val\", \"val\", \"val\", \"val\", \"val\", \"val\", \"val\", \"val\", \"val\", \"val\", \"val\", \"val\", \"val\", \"val\", \"val\", \"val\", \"val\", \"val\", \"val\", \"val\", \"val\", \"val\", \"val\", \"val\", \"val\", \"val\", \"val\", \"val\", \"val\", \"val\", \"val\", \"val\", \"val\", \"val\", \"val\", \"val\", \"val\", \"val\", \"val\", \"val\", \"val\", \"val\", \"val\", \"val\", \"val\", \"val\", \"val\", \"val\", \"val\", \"val\", \"val\", \"val\", \"val\", \"val\", \"val\", \"val\", \"val\", \"val\", \"val\", \"val\", \"val\", \"val\", \"val\", \"val\", \"val\", \"val\", \"val\", \"val\", \"val\", \"val\", \"val\", \"val\", \"val\", \"val\", \"val\", \"val\", \"val\", \"val\", \"val\", \"val\", \"val\", \"val\", \"val\", \"val\", \"val\", \"val\", \"val\", \"val\", \"val\", \"val\", \"val\", \"val\", \"val\", \"val\", \"val\", \"val\", \"val\", \"val\", \"val\", \"val\", \"val\", \"val\", \"val\", \"val\", \"val\", \"val\", \"val\", \"val\", \"val\", \"val\", \"val\", \"val\", \"val\", \"val\", \"val\", \"val\", \"val\", \"val\", \"val\", \"val\", \"val\", \"val\", \"val\", \"val\", \"val\", \"val\", \"val\", \"val\", \"val\", \"val\", \"val\", \"val\", \"val\", \"val\", \"val\", \"val\", \"val\", \"val\", \"val\", \"val\", \"val\", \"val\", \"val\", \"val\", \"val\", \"val\", \"val\", \"val\", \"val\", \"val\", \"val\", \"val\", \"val\", \"val\", \"val\", \"val\", \"val\", \"val\", \"val\", \"val\", \"val\", \"val\", \"val\", \"val\", \"val\", \"val\", \"val\", \"val\", \"val\", \"val\", \"val\", \"val\", \"val\", \"val\", \"val\", \"val\", \"val\", \"val\", \"val\", \"val\", \"val\", \"val\", \"val\", \"val\", \"val\", \"val\", \"val\", \"val\", \"val\", \"val\", \"val\", \"val\", \"val\", \"val\", \"val\", \"val\", \"val\", \"val\", \"val\", \"val\", \"val\", \"val\", \"val\", \"val\", \"val\", \"val\", \"val\", \"val\", \"val\", \"val\", \"val\", \"val\", \"val\", \"val\", \"val\", \"val\", \"val\", \"val\", \"val\", \"val\", \"val\", \"val\", \"val\", \"val\", \"val\", \"val\", \"val\", \"val\", \"val\", \"val\", \"val\", \"val\", \"val\", \"val\", \"val\", \"val\", \"val\", \"val\", \"val\", \"val\", \"val\", \"val\", \"val\", \"val\", \"val\", \"val\", \"val\", \"val\", \"val\", \"val\", \"val\", \"val\", \"val\", \"val\", \"val\", \"val\", \"val\", \"val\", \"val\", \"val\", \"val\", \"val\", \"val\", \"val\", \"val\", \"val\", \"val\", \"val\", \"val\", \"val\", \"val\", \"val\", \"val\", \"val\", \"val\", \"val\", \"val\", \"val\", \"val\", \"val\", \"val\", \"val\", \"val\", \"val\", \"val\", \"val\", \"val\", \"val\", \"val\", \"val\", \"val\", \"val\", \"val\", \"val\", \"val\", \"val\", \"val\", \"val\", \"val\", \"val\", \"val\", \"val\", \"val\", \"val\", \"val\", \"val\", \"val\", \"val\", \"val\", \"val\", \"val\", \"val\", \"val\", \"val\", \"val\", \"val\", \"val\", \"val\", \"val\", \"val\", \"val\", \"val\", \"val\", \"val\", \"val\", \"val\", \"val\", \"val\", \"val\", \"val\", \"val\", \"val\", \"val\", \"val\", \"val\", \"val\", \"val\", \"val\", \"val\", \"val\", \"val\", \"val\", \"val\", \"val\", \"val\", \"val\", \"val\", \"val\", \"val\", \"val\", \"val\", \"val\", \"val\", \"val\", \"val\", \"val\", \"val\", \"val\", \"val\", \"val\", \"val\", \"val\"], \"xaxis\": \"x\", \"yaxis\": \"y\"}],\n",
              "                        {\"barmode\": \"relative\", \"legend\": {\"tracegroupgap\": 0}, \"margin\": {\"t\": 60}, \"template\": {\"data\": {\"bar\": [{\"error_x\": {\"color\": \"#2a3f5f\"}, \"error_y\": {\"color\": \"#2a3f5f\"}, \"marker\": {\"line\": {\"color\": \"#E5ECF6\", \"width\": 0.5}}, \"type\": \"bar\"}], \"barpolar\": [{\"marker\": {\"line\": {\"color\": \"#E5ECF6\", \"width\": 0.5}}, \"type\": \"barpolar\"}], \"carpet\": [{\"aaxis\": {\"endlinecolor\": \"#2a3f5f\", \"gridcolor\": \"white\", \"linecolor\": \"white\", \"minorgridcolor\": \"white\", \"startlinecolor\": \"#2a3f5f\"}, \"baxis\": {\"endlinecolor\": \"#2a3f5f\", \"gridcolor\": \"white\", \"linecolor\": \"white\", \"minorgridcolor\": \"white\", \"startlinecolor\": \"#2a3f5f\"}, \"type\": \"carpet\"}], \"choropleth\": [{\"colorbar\": {\"outlinewidth\": 0, \"ticks\": \"\"}, \"type\": \"choropleth\"}], \"contour\": [{\"colorbar\": {\"outlinewidth\": 0, \"ticks\": \"\"}, \"colorscale\": [[0.0, \"#0d0887\"], [0.1111111111111111, \"#46039f\"], [0.2222222222222222, \"#7201a8\"], [0.3333333333333333, \"#9c179e\"], [0.4444444444444444, \"#bd3786\"], [0.5555555555555556, \"#d8576b\"], [0.6666666666666666, \"#ed7953\"], [0.7777777777777778, \"#fb9f3a\"], [0.8888888888888888, \"#fdca26\"], [1.0, \"#f0f921\"]], \"type\": \"contour\"}], \"contourcarpet\": [{\"colorbar\": {\"outlinewidth\": 0, \"ticks\": \"\"}, \"type\": \"contourcarpet\"}], \"heatmap\": [{\"colorbar\": {\"outlinewidth\": 0, \"ticks\": \"\"}, \"colorscale\": [[0.0, \"#0d0887\"], [0.1111111111111111, \"#46039f\"], [0.2222222222222222, \"#7201a8\"], [0.3333333333333333, \"#9c179e\"], [0.4444444444444444, \"#bd3786\"], [0.5555555555555556, \"#d8576b\"], [0.6666666666666666, \"#ed7953\"], [0.7777777777777778, \"#fb9f3a\"], [0.8888888888888888, \"#fdca26\"], [1.0, \"#f0f921\"]], \"type\": \"heatmap\"}], \"heatmapgl\": [{\"colorbar\": {\"outlinewidth\": 0, \"ticks\": \"\"}, \"colorscale\": [[0.0, \"#0d0887\"], [0.1111111111111111, \"#46039f\"], [0.2222222222222222, \"#7201a8\"], [0.3333333333333333, \"#9c179e\"], [0.4444444444444444, \"#bd3786\"], [0.5555555555555556, \"#d8576b\"], [0.6666666666666666, \"#ed7953\"], [0.7777777777777778, \"#fb9f3a\"], [0.8888888888888888, \"#fdca26\"], [1.0, \"#f0f921\"]], \"type\": \"heatmapgl\"}], \"histogram\": [{\"marker\": {\"colorbar\": {\"outlinewidth\": 0, \"ticks\": \"\"}}, \"type\": \"histogram\"}], \"histogram2d\": [{\"colorbar\": {\"outlinewidth\": 0, \"ticks\": \"\"}, \"colorscale\": [[0.0, \"#0d0887\"], [0.1111111111111111, \"#46039f\"], [0.2222222222222222, \"#7201a8\"], [0.3333333333333333, \"#9c179e\"], [0.4444444444444444, \"#bd3786\"], [0.5555555555555556, \"#d8576b\"], [0.6666666666666666, \"#ed7953\"], [0.7777777777777778, \"#fb9f3a\"], [0.8888888888888888, \"#fdca26\"], [1.0, \"#f0f921\"]], \"type\": \"histogram2d\"}], \"histogram2dcontour\": [{\"colorbar\": {\"outlinewidth\": 0, \"ticks\": \"\"}, \"colorscale\": [[0.0, \"#0d0887\"], [0.1111111111111111, \"#46039f\"], [0.2222222222222222, \"#7201a8\"], [0.3333333333333333, \"#9c179e\"], [0.4444444444444444, \"#bd3786\"], [0.5555555555555556, \"#d8576b\"], [0.6666666666666666, \"#ed7953\"], [0.7777777777777778, \"#fb9f3a\"], [0.8888888888888888, \"#fdca26\"], [1.0, \"#f0f921\"]], \"type\": \"histogram2dcontour\"}], \"mesh3d\": [{\"colorbar\": {\"outlinewidth\": 0, \"ticks\": \"\"}, \"type\": \"mesh3d\"}], \"parcoords\": [{\"line\": {\"colorbar\": {\"outlinewidth\": 0, \"ticks\": \"\"}}, \"type\": \"parcoords\"}], \"pie\": [{\"automargin\": true, \"type\": \"pie\"}], \"scatter\": [{\"marker\": {\"colorbar\": {\"outlinewidth\": 0, \"ticks\": \"\"}}, \"type\": \"scatter\"}], \"scatter3d\": [{\"line\": {\"colorbar\": {\"outlinewidth\": 0, \"ticks\": \"\"}}, \"marker\": {\"colorbar\": {\"outlinewidth\": 0, \"ticks\": \"\"}}, \"type\": \"scatter3d\"}], \"scattercarpet\": [{\"marker\": {\"colorbar\": {\"outlinewidth\": 0, \"ticks\": \"\"}}, \"type\": \"scattercarpet\"}], \"scattergeo\": [{\"marker\": {\"colorbar\": {\"outlinewidth\": 0, \"ticks\": \"\"}}, \"type\": \"scattergeo\"}], \"scattergl\": [{\"marker\": {\"colorbar\": {\"outlinewidth\": 0, \"ticks\": \"\"}}, \"type\": \"scattergl\"}], \"scattermapbox\": [{\"marker\": {\"colorbar\": {\"outlinewidth\": 0, \"ticks\": \"\"}}, \"type\": \"scattermapbox\"}], \"scatterpolar\": [{\"marker\": {\"colorbar\": {\"outlinewidth\": 0, \"ticks\": \"\"}}, \"type\": \"scatterpolar\"}], \"scatterpolargl\": [{\"marker\": {\"colorbar\": {\"outlinewidth\": 0, \"ticks\": \"\"}}, \"type\": \"scatterpolargl\"}], \"scatterternary\": [{\"marker\": {\"colorbar\": {\"outlinewidth\": 0, \"ticks\": \"\"}}, \"type\": \"scatterternary\"}], \"surface\": [{\"colorbar\": {\"outlinewidth\": 0, \"ticks\": \"\"}, \"colorscale\": [[0.0, \"#0d0887\"], [0.1111111111111111, \"#46039f\"], [0.2222222222222222, \"#7201a8\"], [0.3333333333333333, \"#9c179e\"], [0.4444444444444444, \"#bd3786\"], [0.5555555555555556, \"#d8576b\"], [0.6666666666666666, \"#ed7953\"], [0.7777777777777778, \"#fb9f3a\"], [0.8888888888888888, \"#fdca26\"], [1.0, \"#f0f921\"]], \"type\": \"surface\"}], \"table\": [{\"cells\": {\"fill\": {\"color\": \"#EBF0F8\"}, \"line\": {\"color\": \"white\"}}, \"header\": {\"fill\": {\"color\": \"#C8D4E3\"}, \"line\": {\"color\": \"white\"}}, \"type\": \"table\"}]}, \"layout\": {\"annotationdefaults\": {\"arrowcolor\": \"#2a3f5f\", \"arrowhead\": 0, \"arrowwidth\": 1}, \"coloraxis\": {\"colorbar\": {\"outlinewidth\": 0, \"ticks\": \"\"}}, \"colorscale\": {\"diverging\": [[0, \"#8e0152\"], [0.1, \"#c51b7d\"], [0.2, \"#de77ae\"], [0.3, \"#f1b6da\"], [0.4, \"#fde0ef\"], [0.5, \"#f7f7f7\"], [0.6, \"#e6f5d0\"], [0.7, \"#b8e186\"], [0.8, \"#7fbc41\"], [0.9, \"#4d9221\"], [1, \"#276419\"]], \"sequential\": [[0.0, \"#0d0887\"], [0.1111111111111111, \"#46039f\"], [0.2222222222222222, \"#7201a8\"], [0.3333333333333333, \"#9c179e\"], [0.4444444444444444, \"#bd3786\"], [0.5555555555555556, \"#d8576b\"], [0.6666666666666666, \"#ed7953\"], [0.7777777777777778, \"#fb9f3a\"], [0.8888888888888888, \"#fdca26\"], [1.0, \"#f0f921\"]], \"sequentialminus\": [[0.0, \"#0d0887\"], [0.1111111111111111, \"#46039f\"], [0.2222222222222222, \"#7201a8\"], [0.3333333333333333, \"#9c179e\"], [0.4444444444444444, \"#bd3786\"], [0.5555555555555556, \"#d8576b\"], [0.6666666666666666, \"#ed7953\"], [0.7777777777777778, \"#fb9f3a\"], [0.8888888888888888, \"#fdca26\"], [1.0, \"#f0f921\"]]}, \"colorway\": [\"#636efa\", \"#EF553B\", \"#00cc96\", \"#ab63fa\", \"#FFA15A\", \"#19d3f3\", \"#FF6692\", \"#B6E880\", \"#FF97FF\", \"#FECB52\"], \"font\": {\"color\": \"#2a3f5f\"}, \"geo\": {\"bgcolor\": \"white\", \"lakecolor\": \"white\", \"landcolor\": \"#E5ECF6\", \"showlakes\": true, \"showland\": true, \"subunitcolor\": \"white\"}, \"hoverlabel\": {\"align\": \"left\"}, \"hovermode\": \"closest\", \"mapbox\": {\"style\": \"light\"}, \"paper_bgcolor\": \"white\", \"plot_bgcolor\": \"#E5ECF6\", \"polar\": {\"angularaxis\": {\"gridcolor\": \"white\", \"linecolor\": \"white\", \"ticks\": \"\"}, \"bgcolor\": \"#E5ECF6\", \"radialaxis\": {\"gridcolor\": \"white\", \"linecolor\": \"white\", \"ticks\": \"\"}}, \"scene\": {\"xaxis\": {\"backgroundcolor\": \"#E5ECF6\", \"gridcolor\": \"white\", \"gridwidth\": 2, \"linecolor\": \"white\", \"showbackground\": true, \"ticks\": \"\", \"zerolinecolor\": \"white\"}, \"yaxis\": {\"backgroundcolor\": \"#E5ECF6\", \"gridcolor\": \"white\", \"gridwidth\": 2, \"linecolor\": \"white\", \"showbackground\": true, \"ticks\": \"\", \"zerolinecolor\": \"white\"}, \"zaxis\": {\"backgroundcolor\": \"#E5ECF6\", \"gridcolor\": \"white\", \"gridwidth\": 2, \"linecolor\": \"white\", \"showbackground\": true, \"ticks\": \"\", \"zerolinecolor\": \"white\"}}, \"shapedefaults\": {\"line\": {\"color\": \"#2a3f5f\"}}, \"ternary\": {\"aaxis\": {\"gridcolor\": \"white\", \"linecolor\": \"white\", \"ticks\": \"\"}, \"baxis\": {\"gridcolor\": \"white\", \"linecolor\": \"white\", \"ticks\": \"\"}, \"bgcolor\": \"#E5ECF6\", \"caxis\": {\"gridcolor\": \"white\", \"linecolor\": \"white\", \"ticks\": \"\"}}, \"title\": {\"x\": 0.05}, \"xaxis\": {\"automargin\": true, \"gridcolor\": \"white\", \"linecolor\": \"white\", \"ticks\": \"\", \"title\": {\"standoff\": 15}, \"zerolinecolor\": \"white\", \"zerolinewidth\": 2}, \"yaxis\": {\"automargin\": true, \"gridcolor\": \"white\", \"linecolor\": \"white\", \"ticks\": \"\", \"title\": {\"standoff\": 15}, \"zerolinecolor\": \"white\", \"zerolinewidth\": 2}}}, \"xaxis\": {\"anchor\": \"y\", \"domain\": [0.0, 1.0], \"title\": {\"text\": \"DATA SET\"}}, \"yaxis\": {\"anchor\": \"x\", \"domain\": [0.0, 1.0], \"title\": {\"text\": \"count\"}}},\n",
              "                        {\"responsive\": true}\n",
              "                    ).then(function(){\n",
              "                            \n",
              "var gd = document.getElementById('ee32ca04-41f4-48dc-89b0-a15727d2263b');\n",
              "var x = new MutationObserver(function (mutations, observer) {{\n",
              "        var display = window.getComputedStyle(gd).display;\n",
              "        if (!display || display === 'none') {{\n",
              "            console.log([gd, 'removed!']);\n",
              "            Plotly.purge(gd);\n",
              "            observer.disconnect();\n",
              "        }}\n",
              "}});\n",
              "\n",
              "// Listen for the removal of the full notebook cells\n",
              "var notebookContainer = gd.closest('#notebook-container');\n",
              "if (notebookContainer) {{\n",
              "    x.observe(notebookContainer, {childList: true});\n",
              "}}\n",
              "\n",
              "// Listen for the clearing of the current output cell\n",
              "var outputEl = gd.closest('.output');\n",
              "if (outputEl) {{\n",
              "    x.observe(outputEl, {childList: true});\n",
              "}}\n",
              "\n",
              "                        })\n",
              "                };\n",
              "                \n",
              "            </script>\n",
              "        </div>\n",
              "</body>\n",
              "</html>"
            ]
          },
          "metadata": {
            "tags": []
          }
        }
      ]
    },
    {
      "cell_type": "markdown",
      "metadata": {
        "id": "-9Ua8H9bWXqh",
        "colab_type": "text"
      },
      "source": [
        "# Saving the model\n",
        "uncomment the code below to save the model (for it to be tested on the TEST set afterwards). This **must** be the final model. \n",
        "\n",
        "The model is then saved in colabs storage and has to be moved to your folder of destination manually."
      ]
    },
    {
      "cell_type": "code",
      "metadata": {
        "id": "3vtYfpZlWnxc",
        "colab_type": "code",
        "colab": {}
      },
      "source": [
        "# model.save(\"{name}.h5\".format(name=\"baseline\"))"
      ],
      "execution_count": 0,
      "outputs": []
    }
  ]
}