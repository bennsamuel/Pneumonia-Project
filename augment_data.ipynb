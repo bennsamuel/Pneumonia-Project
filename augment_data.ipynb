{
  "nbformat": 4,
  "nbformat_minor": 0,
  "metadata": {
    "colab": {
      "name": "Copy of augment_data.ipynb",
      "provenance": [],
      "collapsed_sections": [],
      "include_colab_link": true
    },
    "kernelspec": {
      "name": "python3",
      "display_name": "Python 3"
    }
  },
  "cells": [
    {
      "cell_type": "markdown",
      "metadata": {
        "id": "view-in-github",
        "colab_type": "text"
      },
      "source": [
        "<a href=\"https://colab.research.google.com/github/bennsamuel/Pneumonia-Project/blob/master/augment_data.ipynb\" target=\"_parent\"><img src=\"https://colab.research.google.com/assets/colab-badge.svg\" alt=\"Open In Colab\"/></a>"
      ]
    },
    {
      "cell_type": "markdown",
      "metadata": {
        "id": "0jpXBoT-2_Fc",
        "colab_type": "text"
      },
      "source": [
        "If you want to enable auto-save.  \n",
        "-> Copy to drive (in navbar) \n",
        "-> creates copy in your google drive. that copy has to be manually commited to github."
      ]
    },
    {
      "cell_type": "markdown",
      "metadata": {
        "id": "mb-vRS8t6l2F",
        "colab_type": "text"
      },
      "source": [
        "CATEGORIES = [\"NORMAL\",\"BACTERIA\", \"VIRUS\"]\n",
        "0, 1, 2"
      ]
    },
    {
      "cell_type": "code",
      "metadata": {
        "id": "FTdoG24J02_p",
        "colab_type": "code",
        "outputId": "b773952e-668d-4475-e0d6-827e043b646c",
        "colab": {
          "base_uri": "https://localhost:8080/",
          "height": 54
        }
      },
      "source": [
        "# Load the Drive helper and mount\n",
        "from google.colab import drive\n",
        "\n",
        "# This will prompt for authorization.\n",
        "drive.mount('/content/drive')"
      ],
      "execution_count": 36,
      "outputs": [
        {
          "output_type": "stream",
          "text": [
            "Drive already mounted at /content/drive; to attempt to forcibly remount, call drive.mount(\"/content/drive\", force_remount=True).\n"
          ],
          "name": "stdout"
        }
      ]
    },
    {
      "cell_type": "markdown",
      "metadata": {
        "id": "xVmX2UYU3qR4",
        "colab_type": "text"
      },
      "source": [
        ""
      ]
    },
    {
      "cell_type": "code",
      "metadata": {
        "id": "wKIyv1oG1M4O",
        "colab_type": "code",
        "outputId": "81dcb761-0c44-4b40-ccdc-6c838d7e15bc",
        "colab": {
          "base_uri": "https://localhost:8080/",
          "height": 34
        }
      },
      "source": [
        "# After executing the cell above, Drive\n",
        "# files will be present in \"/content/drive/My Drive\".\n",
        "!ls \"/content/drive/My Drive/Group 77 - Pneumonia/pickle/\""
      ],
      "execution_count": 37,
      "outputs": [
        {
          "output_type": "stream",
          "text": [
            "data_augmented.pickle  data.pickle  test_data.pickle\n"
          ],
          "name": "stdout"
        }
      ]
    },
    {
      "cell_type": "code",
      "metadata": {
        "id": "V5ehlwks1Pjr",
        "colab_type": "code",
        "outputId": "5d8c86cf-754a-4599-cc9e-f2b0a18eb4c0",
        "colab": {
          "base_uri": "https://localhost:8080/",
          "height": 34
        }
      },
      "source": [
        "IMG_SIZE = 224\n",
        "NUM_CLASSES = 3\n",
        "CATEGORIES = [\"NORMAL\",\"BACTERIA\", \"VIRUS\"]\n",
        "\n",
        "%cd /content/"
      ],
      "execution_count": 38,
      "outputs": [
        {
          "output_type": "stream",
          "text": [
            "/content\n"
          ],
          "name": "stdout"
        }
      ]
    },
    {
      "cell_type": "code",
      "metadata": {
        "id": "h_weyb7j1RDz",
        "colab_type": "code",
        "colab": {}
      },
      "source": [
        "#load dataset --> method baseline!\n",
        "import pickle\n",
        "\n",
        "data = pickle.load(open(\"/content/drive/My Drive/Group 77 - Pneumonia/pickle/data.pickle\", \"rb\"))"
      ],
      "execution_count": 0,
      "outputs": []
    },
    {
      "cell_type": "markdown",
      "metadata": {
        "id": "wMW8-viC2yHG",
        "colab_type": "text"
      },
      "source": [
        "np.array.reshape()\n",
        "\n",
        "![alt text](https://www.w3resource.com/w3r_images/numpy-manipulation-reshape-function-image-a.png)"
      ]
    },
    {
      "cell_type": "markdown",
      "metadata": {
        "id": "apNNAFbz6P6q",
        "colab_type": "text"
      },
      "source": [
        "**Data structure**: \n",
        "\n",
        "[[numpy_array([[features]]), label],\n",
        "\n",
        " [numpy_array([[features]]), label],\n",
        "\n",
        " [numpy_array([[features]]), label],\n",
        "\n",
        "...]\n",
        "\n",
        "----------------------------------\n",
        "No y target data because the array would look like: \n",
        "\n",
        "y_normal = [0,0,0,0,0,0...] \n",
        "\n",
        "y_bacteria = [1,1,1,1,1,1...] \n",
        "\n",
        "y_virus = [2,2,2,2,2,2...] \n",
        "\n",
        "add target label add the end. normal=0, bacteria=1, virus=2"
      ]
    },
    {
      "cell_type": "code",
      "metadata": {
        "id": "kFhTCfVy1T5D",
        "colab_type": "code",
        "colab": {}
      },
      "source": [
        "import numpy as np\n",
        "\n",
        "X_normal = []\n",
        "X_bacteria = []\n",
        "X_virus = []\n",
        "y_normal = []\n",
        "y_bacteria = []\n",
        "y_virus = []\n",
        "\n",
        "for features, label in data:\n",
        "    if label == 0:\n",
        "        X_normal.append(features)\n",
        "        y_normal.append(0)\n",
        "    elif label == 1:\n",
        "        X_bacteria.append(features)\n",
        "        y_bacteria.append(1)\n",
        "    elif label == 2:\n",
        "        X_virus.append(features)\n",
        "        y_virus.append(2)\n",
        "    else:\n",
        "        raise Exception('Something went wrong')\n",
        "\n",
        "X_normal = np.array(X_normal).reshape(-1, IMG_SIZE, IMG_SIZE, 1)\n",
        "X_bacteria = np.array(X_bacteria).reshape(-1, IMG_SIZE, IMG_SIZE, 1)\n",
        "X_virus = np.array(X_virus).reshape(-1, IMG_SIZE, IMG_SIZE, 1)"
      ],
      "execution_count": 0,
      "outputs": []
    },
    {
      "cell_type": "markdown",
      "metadata": {
        "id": "QBJwm-94lbi8",
        "colab_type": "text"
      },
      "source": [
        "**Which augmentations techniques to use**\n",
        "\n",
        "While performing augmentation one must be sure to not use the wrong techniques for the domain you're working on. In our case this means that we for example shouldn't just flip the image, given the position of the other organs is important in the medical doamin.\n",
        "\n",
        "After some thought i think the most valuable augmentation techniques for our problem will be **shifting, tilting (5°) and zooming of the image**."
      ]
    },
    {
      "cell_type": "code",
      "metadata": {
        "id": "F16kEEw11W0C",
        "colab_type": "code",
        "colab": {}
      },
      "source": [
        "import os\n",
        "import shutil\n",
        "\n",
        "#Determining which categories has the most pictures, to augment the other classes to that number \n",
        "num_of_most_occuring_class = max(len(X_normal),len(X_bacteria),len(X_virus))\n",
        "#setting the foldername\n",
        "AUG_PATH='aug_images/'\n",
        "#deleteing old folders if they already exist\n",
        "shutil.rmtree('/content/aug_images/', ignore_errors=True)\n",
        "#creating subfolders for all cases\n",
        "os.makedirs(AUG_PATH+'NORMAL')\n",
        "os.makedirs(AUG_PATH+'BACTERIA')\n",
        "os.makedirs(AUG_PATH+'VIRUS')"
      ],
      "execution_count": 0,
      "outputs": []
    },
    {
      "cell_type": "markdown",
      "metadata": {
        "id": "90KbrurfnD_Z",
        "colab_type": "text"
      },
      "source": [
        "Import of the necesarry librarys\n"
      ]
    },
    {
      "cell_type": "code",
      "metadata": {
        "id": "pzlxiDPPlsHs",
        "colab_type": "code",
        "colab": {}
      },
      "source": [
        "from matplotlib import pyplot\n",
        "from tensorflow.python.keras.preprocessing.image import ImageDataGenerator"
      ],
      "execution_count": 0,
      "outputs": []
    },
    {
      "cell_type": "markdown",
      "metadata": {
        "id": "cPAkyM5onRxv",
        "colab_type": "text"
      },
      "source": [
        "Initialising the ImageDataGenerator, which will take take the data we will fit it to randomly perform the actions we set in it's parameters"
      ]
    },
    {
      "cell_type": "code",
      "metadata": {
        "id": "jbjNxFHonvuE",
        "colab_type": "code",
        "colab": {}
      },
      "source": [
        "data_generator_with_aug = ImageDataGenerator(\n",
        "                                   width_shift_range = 0, #allows a 20% shift to the left or the right\n",
        "                                   height_shift_range = 0, #allows a 20% shift up or bottom\n",
        "                                   zoom_range=0, #allows to zoom in 20%, meaning ther will always be 80% of the original picture\n",
        "                                   rotation_range=0, #allows tilting of theimage to 5° in both directions\n",
        "                                   fill_mode='nearest'# method used for filling empty space that is created while shifting\n",
        "                          )"
      ],
      "execution_count": 0,
      "outputs": []
    },
    {
      "cell_type": "markdown",
      "metadata": {
        "id": "TaiSdl2Po2SE",
        "colab_type": "text"
      },
      "source": [
        "Function that is used to perform the augmentation on the different categories"
      ]
    },
    {
      "cell_type": "code",
      "metadata": {
        "id": "CG-bdnAGpCGP",
        "colab_type": "code",
        "colab": {}
      },
      "source": [
        "def augment_smaller_classes(X_data, y_data, num_images_to_generate, name, prefix):\n",
        "    print(\"Category: \" + name)\n",
        "    if num_images_to_generate == 0:\n",
        "          print(\"No images have to be created\")\n",
        "          return\n",
        "    # fitting the  ImageDataGenerator to the passed in data\n",
        "    data_generator_with_aug.fit(X_data)\n",
        "    print(\"Images to create: \" + str(num_images_to_generate))\n",
        "    #For loop to create pictures\n",
        "    i = 0\n",
        "    for batch in data_generator_with_aug.flow(\n",
        "        X_data,\n",
        "        y_data,\n",
        "        batch_size=1,\n",
        "        save_to_dir=(AUG_PATH+name),\n",
        "        save_prefix=prefix,\n",
        "        save_format='jpeg'):\n",
        "        i += 1\n",
        "        if i > num_images_to_generate-1:\n",
        "            print(str(num_images_to_generate) + \" Images created\")\n",
        "            break "
      ],
      "execution_count": 0,
      "outputs": []
    },
    {
      "cell_type": "code",
      "metadata": {
        "id": "ctJrp1VKsUMN",
        "colab_type": "code",
        "outputId": "b9d83431-f1b5-4748-d53c-59c7373a9f75",
        "colab": {
          "base_uri": "https://localhost:8080/",
          "height": 34
        }
      },
      "source": [
        "print(num_of_most_occuring_class)"
      ],
      "execution_count": 45,
      "outputs": [
        {
          "output_type": "stream",
          "text": [
            "2538\n"
          ],
          "name": "stdout"
        }
      ]
    },
    {
      "cell_type": "markdown",
      "metadata": {
        "id": "wtNx8gKYrYIi",
        "colab_type": "text"
      },
      "source": [
        "Apply function to the different categories, thus creating the needed additional "
      ]
    },
    {
      "cell_type": "code",
      "metadata": {
        "id": "Kl2e6ebPrfmH",
        "colab_type": "code",
        "outputId": "70e99303-b857-42cb-99b3-cfde35e919ea",
        "colab": {
          "base_uri": "https://localhost:8080/",
          "height": 153
        }
      },
      "source": [
        "augment_smaller_classes(X_normal, y_normal, (num_of_most_occuring_class-len(X_normal)), 'NORMAL', 'normal')\n",
        "augment_smaller_classes(X_bacteria, y_bacteria, (num_of_most_occuring_class-len(X_bacteria)), 'BACTERIA', 'bacteria')\n",
        "augment_smaller_classes(X_virus, y_virus, (num_of_most_occuring_class-len(X_virus)), 'VIRUS', 'virus')"
      ],
      "execution_count": 46,
      "outputs": [
        {
          "output_type": "stream",
          "text": [
            "Category: NORMAL\n",
            "Images to create: 1189\n",
            "1189 Images created\n",
            "Category: BACTERIA\n",
            "No images have to be created\n",
            "Category: VIRUS\n",
            "Images to create: 1193\n",
            "1193 Images created\n"
          ],
          "name": "stdout"
        }
      ]
    },
    {
      "cell_type": "markdown",
      "metadata": {
        "id": "ShuYdwI_ycdf",
        "colab_type": "text"
      },
      "source": [
        "Reload the newly crated data"
      ]
    },
    {
      "cell_type": "code",
      "metadata": {
        "id": "cB9J_lGFsZa9",
        "colab_type": "code",
        "colab": {}
      },
      "source": [
        "import cv2\n",
        "\n",
        "AUG_DIR = \"/content/aug_images/\"\n",
        "CATEGORIES = [\"NORMAL\",\"BACTERIA\", \"VIRUS\"]\n",
        "aug_data = []\n",
        "def reload_created_data():\n",
        "        for category in CATEGORIES:\n",
        "            path = os.path.join(AUG_DIR, category)\n",
        "            #index: NORMAL --> 0, BACTERIA --> 1, VIRUS --> 2\n",
        "            class_num = CATEGORIES.index(category)\n",
        "            for img in os.listdir(path):\n",
        "                try:\n",
        "                    img_array = cv2.imread(os.path.join(path, img), cv2.IMREAD_GRAYSCALE)\n",
        "                    new_array = cv2.resize(img_array, (IMG_SIZE, IMG_SIZE))\n",
        "                    aug_data.append([new_array, class_num])\n",
        "                except Exception as e:\n",
        "                    print(e)\n",
        "                    \n",
        "reload_created_data()"
      ],
      "execution_count": 0,
      "outputs": []
    },
    {
      "cell_type": "code",
      "metadata": {
        "id": "CCjux3pNytlZ",
        "colab_type": "code",
        "outputId": "03f78a8a-4a23-4a50-d208-95e4ebd22166",
        "colab": {
          "base_uri": "https://localhost:8080/",
          "height": 51
        }
      },
      "source": [
        "## checking the length of the data\n",
        "print(len(data))\n",
        "print(len(aug_data))"
      ],
      "execution_count": 48,
      "outputs": [
        {
          "output_type": "stream",
          "text": [
            "5232\n",
            "2382\n"
          ],
          "name": "stdout"
        }
      ]
    },
    {
      "cell_type": "code",
      "metadata": {
        "id": "maieFuZhx_R2",
        "colab_type": "code",
        "colab": {}
      },
      "source": [
        "combined_data = data + aug_data"
      ],
      "execution_count": 0,
      "outputs": []
    },
    {
      "cell_type": "markdown",
      "metadata": {
        "id": "o8-RfA_azEMi",
        "colab_type": "text"
      },
      "source": [
        "Checking if the data is ballanced now\n"
      ]
    },
    {
      "cell_type": "code",
      "metadata": {
        "id": "y8FUUFRCzCSb",
        "colab_type": "code",
        "outputId": "356ffdac-8b6b-4b98-a29b-64dce7c6fa11",
        "colab": {
          "base_uri": "https://localhost:8080/",
          "height": 85
        }
      },
      "source": [
        "print(len(combined_data))\n",
        "num_normal = 0\n",
        "num_bacteria = 0\n",
        "num_virus = 0\n",
        "\n",
        "for features, label in combined_data:\n",
        "    if label == 0:\n",
        "        num_normal += 1\n",
        "    elif label == 1:\n",
        "        num_bacteria += 1\n",
        "    elif label == 2:\n",
        "        num_virus += 1\n",
        "    else:\n",
        "        raise Exception('Something went wrong')\n",
        "\n",
        "print(\"Images for no pneumonia: \" + str(num_normal))\n",
        "print(\"Images for bacterial pneumonia: \" + str(num_bacteria))\n",
        "print(\"Images for viral pneumonia: \" + str(num_virus))"
      ],
      "execution_count": 50,
      "outputs": [
        {
          "output_type": "stream",
          "text": [
            "7614\n",
            "Images for no pneumonia: 2538\n",
            "Images for bacterial pneumonia: 2538\n",
            "Images for viral pneumonia: 2538\n"
          ],
          "name": "stdout"
        }
      ]
    },
    {
      "cell_type": "code",
      "metadata": {
        "id": "zZGJwgQ5tbH1",
        "colab_type": "code",
        "colab": {}
      },
      "source": [
        "# save data set --> method baseline data\n",
        "import pickle\n",
        "\n",
        "# DON'T RENAME TO DATA.pickle WILL OVERWRITE OUR BASELINE DATA\n",
        "pickle_out = open(\"/content/drive/My Drive/Group 77 - Pneumonia/pickle/augmented_data-0_0_0_0.pickle\", \"wb\")\n",
        "pickle.dump(combined_data, pickle_out)\n",
        "pickle_out.close()"
      ],
      "execution_count": 0,
      "outputs": []
    }
  ]
}