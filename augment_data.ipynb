{
  "nbformat": 4,
  "nbformat_minor": 0,
  "metadata": {
    "colab": {
      "name": "augment_data.ipynb",
      "provenance": [],
      "authorship_tag": "ABX9TyNgQNaSEjJgbpMgJwicCi58",
      "include_colab_link": true
    },
    "kernelspec": {
      "name": "python3",
      "display_name": "Python 3"
    }
  },
  "cells": [
    {
      "cell_type": "markdown",
      "metadata": {
        "id": "view-in-github",
        "colab_type": "text"
      },
      "source": [
        "<a href=\"https://colab.research.google.com/github/bennsamuel/Pneumonia-Project/blob/master/augment_data.ipynb\" target=\"_parent\"><img src=\"https://colab.research.google.com/assets/colab-badge.svg\" alt=\"Open In Colab\"/></a>"
      ]
    },
    {
      "cell_type": "markdown",
      "metadata": {
        "id": "0jpXBoT-2_Fc",
        "colab_type": "text"
      },
      "source": [
        "If you want to enable auto-save.  \n",
        "-> Copy to drive (in navbar) \n",
        "-> creates copy in your google drive. that copy has to be manually commited to github."
      ]
    },
    {
      "cell_type": "markdown",
      "metadata": {
        "id": "mb-vRS8t6l2F",
        "colab_type": "text"
      },
      "source": [
        "CATEGORIES = [\"NORMAL\",\"BACTERIA\", \"VIRUS\"]\n",
        "0, 1, 2"
      ]
    },
    {
      "cell_type": "code",
      "metadata": {
        "id": "FTdoG24J02_p",
        "colab_type": "code",
        "colab": {}
      },
      "source": [
        "# Load the Drive helper and mount\n",
        "from google.colab import drive\n",
        "\n",
        "# This will prompt for authorization.\n",
        "drive.mount('/content/drive')"
      ],
      "execution_count": 0,
      "outputs": []
    },
    {
      "cell_type": "markdown",
      "metadata": {
        "id": "xVmX2UYU3qR4",
        "colab_type": "text"
      },
      "source": [
        ""
      ]
    },
    {
      "cell_type": "code",
      "metadata": {
        "id": "wKIyv1oG1M4O",
        "colab_type": "code",
        "colab": {}
      },
      "source": [
        "# After executing the cell above, Drive\n",
        "# files will be present in \"/content/drive/My Drive\".\n",
        "!ls \"/content/drive/My Drive/Group 77 - Pneumonia/pickle/\""
      ],
      "execution_count": 0,
      "outputs": []
    },
    {
      "cell_type": "code",
      "metadata": {
        "id": "V5ehlwks1Pjr",
        "colab_type": "code",
        "colab": {}
      },
      "source": [
        "IMG_SIZE = 224\n",
        "NUM_CLASSES = 3\n",
        "CATEGORIES = [\"NORMAL\",\"BACTERIA\", \"VIRUS\"]\n",
        "\n",
        "%cd /content/"
      ],
      "execution_count": 0,
      "outputs": []
    },
    {
      "cell_type": "code",
      "metadata": {
        "id": "h_weyb7j1RDz",
        "colab_type": "code",
        "colab": {}
      },
      "source": [
        "#load dataset --> method baseline!\n",
        "import pickle\n",
        "\n",
        "data = pickle.load(open(\"/content/drive/My Drive/Group 77 - Pneumonia/pickle/data.pickle\", \"rb\"))"
      ],
      "execution_count": 0,
      "outputs": []
    },
    {
      "cell_type": "markdown",
      "metadata": {
        "id": "wMW8-viC2yHG",
        "colab_type": "text"
      },
      "source": [
        "np.array.reshape()\n",
        "\n",
        "![alt text](https://www.w3resource.com/w3r_images/numpy-manipulation-reshape-function-image-a.png)"
      ]
    },
    {
      "cell_type": "markdown",
      "metadata": {
        "id": "apNNAFbz6P6q",
        "colab_type": "text"
      },
      "source": [
        "**Data structure**: \n",
        "\n",
        "[[numpy_array([[features]]), label],\n",
        "\n",
        " [numpy_array([[features]]), label],\n",
        "\n",
        " [numpy_array([[features]]), label],\n",
        "\n",
        "...]\n",
        "\n",
        "----------------------------------\n",
        "No y target data because the array would look like: \n",
        "\n",
        "y_normal = [0,0,0,0,0,0...] \n",
        "\n",
        "y_bacteria = [1,1,1,1,1,1...] \n",
        "\n",
        "y_virus = [2,2,2,2,2,2...] \n",
        "\n",
        "add target label add the end. normal=0, bacteria=1, virus=2"
      ]
    },
    {
      "cell_type": "code",
      "metadata": {
        "id": "kFhTCfVy1T5D",
        "colab_type": "code",
        "colab": {}
      },
      "source": [
        "import numpy as np\n",
        "\n",
        "X_normal = []\n",
        "X_bacteria = []\n",
        "X_virus = []\n",
        "\n",
        "for features, label in data:\n",
        "    if label == 0:\n",
        "        X_normal.append(features)\n",
        "    elif label == 1:\n",
        "        X_bacteria.append(features)\n",
        "    elif label == 2:\n",
        "        X_virus.append(features)\n",
        "    else:\n",
        "        raise Exception('Something went wrong')\n",
        "\n",
        "X = np.array(X).reshape(-1, IMG_SIZE, IMG_SIZE, 1)"
      ],
      "execution_count": 0,
      "outputs": []
    },
    {
      "cell_type": "code",
      "metadata": {
        "id": "F16kEEw11W0C",
        "colab_type": "code",
        "colab": {}
      },
      "source": [
        ""
      ],
      "execution_count": 0,
      "outputs": []
    }
  ]
}